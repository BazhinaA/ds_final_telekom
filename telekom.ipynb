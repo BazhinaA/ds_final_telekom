{
 "cells": [
  {
   "cell_type": "markdown",
   "metadata": {},
   "source": [
    "# Выпускной проект: телекоммуникации"
   ]
  },
  {
   "cell_type": "markdown",
   "metadata": {},
   "source": [
    "# Описание проекта"
   ]
  },
  {
   "cell_type": "markdown",
   "metadata": {},
   "source": [
    "Оператор связи «Ниединогоразрыва.ком» хочет научиться прогнозировать отток клиентов. Если выяснится, что пользователь планирует уйти, ему будут предложены промокоды и специальные условия. Команда оператора собрала персональные данные о некоторых клиентах, информацию об их тарифах и договорах."
   ]
  },
  {
   "cell_type": "markdown",
   "metadata": {},
   "source": [
    "# Описание услуг"
   ]
  },
  {
   "cell_type": "markdown",
   "metadata": {},
   "source": [
    "Оператор предоставляет два основных типа услуг: \n",
    "\n",
    "1. Стационарную телефонную связь. Возможно подключение телефонного аппарата к нескольким линиям одновременно.\n",
    "\n",
    "2. Интернет. Подключение может быть двух типов: через телефонную линию (DSL, от англ. digital subscriber line, «цифровая абонентская линия») или оптоволоконный кабель (Fiber optic).\n",
    "\n",
    "Также доступны такие услуги:\n",
    "- Интернет-безопасность: антивирус (DeviceProtection) и блокировка небезопасных сайтов (OnlineSecurity);\n",
    "- Выделенная линия технической поддержки (TechSupport);\n",
    "- Облачное хранилище файлов для резервного копирования данных (OnlineBackup);\n",
    "- Стриминговое телевидение (StreamingTV) и каталог фильмов (StreamingMovies).\n",
    "\n",
    "За услуги клиенты могут платить каждый месяц или заключить договор на 1–2 года. Доступны различные способы расчёта и возможность получения электронного чека."
   ]
  },
  {
   "cell_type": "markdown",
   "metadata": {},
   "source": [
    "# Описание данных"
   ]
  },
  {
   "cell_type": "markdown",
   "metadata": {},
   "source": [
    "Данные состоят из файлов, полученных из разных источников:\n",
    "- contract_new.csv — информация о договоре;\n",
    "- personal_new.csv — персональные данные клиента;\n",
    "- internet_new.csv — информация об интернет-услугах;\n",
    "- phone_new.csv — информация об услугах телефонии.\n",
    "\n",
    "\n",
    "Во всех файлах столбец customerID содержит код клиента.\n",
    "\n",
    "Информация о договорах актуальна на 1 февраля 2020."
   ]
  },
  {
   "cell_type": "markdown",
   "metadata": {},
   "source": [
    "Цель данного проекта - дать клиенту систему, которая, на основе реальных данных пользователей опретора связи, будет прогнозировать отток клиентов, для возможности остановить клиента, предложив ему специальные условия."
   ]
  },
  {
   "cell_type": "markdown",
   "metadata": {},
   "source": [
    "Наша задача:\n",
    "- загрузить данные, полученные от клиента;\n",
    "- Изучить эти данные, возможно, при необходимости, их преобразовать;\n",
    "- Выделить необходимые признаки;\n",
    "- Определить модели;\n",
    "- Подготовить данные, подходящие выбранным моделям;\n",
    "- Провести моделирование на обучающей выборке;\n",
    "- Проверить лучшую модель на тествой выборке;\n",
    "- Провести анализ важности признаков модели\n",
    "- Провести анализ матрицы ошибок лучшей модели\n",
    "- Дать рекомендации для клиента."
   ]
  },
  {
   "cell_type": "markdown",
   "metadata": {},
   "source": [
    "Загрузим необходимые библиотеки"
   ]
  },
  {
   "cell_type": "code",
   "execution_count": 1,
   "metadata": {},
   "outputs": [
    {
     "data": {
      "text/html": [
       "<style>.container { width:90% !important; }</style>"
      ],
      "text/plain": [
       "<IPython.core.display.HTML object>"
      ]
     },
     "metadata": {},
     "output_type": "display_data"
    }
   ],
   "source": [
    "from IPython.core.display import display, HTML\n",
    "display(HTML(\"<style>.container { width:90% !important; }</style>\"))"
   ]
  },
  {
   "cell_type": "code",
   "execution_count": 2,
   "metadata": {},
   "outputs": [
    {
     "name": "stdout",
     "output_type": "stream",
     "text": [
      "Requirement already satisfied: phik in /opt/conda/lib/python3.9/site-packages (0.12.3)\n",
      "Requirement already satisfied: pandas>=0.25.1 in /opt/conda/lib/python3.9/site-packages (from phik) (1.2.4)\n",
      "Requirement already satisfied: numpy>=1.18.0 in /opt/conda/lib/python3.9/site-packages (from phik) (1.21.1)\n",
      "Requirement already satisfied: joblib>=0.14.1 in /opt/conda/lib/python3.9/site-packages (from phik) (1.1.0)\n",
      "Requirement already satisfied: matplotlib>=2.2.3 in /opt/conda/lib/python3.9/site-packages (from phik) (3.3.4)\n",
      "Requirement already satisfied: scipy>=1.5.2 in /opt/conda/lib/python3.9/site-packages (from phik) (1.9.1)\n",
      "Requirement already satisfied: kiwisolver>=1.0.1 in /opt/conda/lib/python3.9/site-packages (from matplotlib>=2.2.3->phik) (1.4.4)\n",
      "Requirement already satisfied: python-dateutil>=2.1 in /opt/conda/lib/python3.9/site-packages (from matplotlib>=2.2.3->phik) (2.8.1)\n",
      "Requirement already satisfied: cycler>=0.10 in /opt/conda/lib/python3.9/site-packages (from matplotlib>=2.2.3->phik) (0.11.0)\n",
      "Requirement already satisfied: pillow>=6.2.0 in /opt/conda/lib/python3.9/site-packages (from matplotlib>=2.2.3->phik) (8.4.0)\n",
      "Requirement already satisfied: pyparsing!=2.0.4,!=2.1.2,!=2.1.6,>=2.0.3 in /opt/conda/lib/python3.9/site-packages (from matplotlib>=2.2.3->phik) (2.4.7)\n",
      "Requirement already satisfied: pytz>=2017.3 in /opt/conda/lib/python3.9/site-packages (from pandas>=0.25.1->phik) (2021.1)\n",
      "Requirement already satisfied: six>=1.5 in /opt/conda/lib/python3.9/site-packages (from python-dateutil>=2.1->matplotlib>=2.2.3->phik) (1.16.0)\n"
     ]
    }
   ],
   "source": [
    "!pip install phik"
   ]
  },
  {
   "cell_type": "code",
   "execution_count": 3,
   "metadata": {},
   "outputs": [],
   "source": [
    "# import libraries\n",
    "import pandas as pd\n",
    "import numpy as np\n",
    "import matplotlib.pyplot as plt\n",
    "import seaborn as sns\n",
    "\n",
    "# work with text/strings\n",
    "import re\n",
    "\n",
    "# ML\n",
    "from sklearn.model_selection import train_test_split\n",
    "from sklearn.linear_model import LogisticRegression\n",
    "from sklearn.tree import DecisionTreeClassifier\n",
    "from sklearn.ensemble import RandomForestClassifier\n",
    "from catboost import CatBoostClassifier\n",
    "from sklearn.ensemble import GradientBoostingClassifier\n",
    "\n",
    "from sklearn.model_selection import cross_val_score\n",
    "from sklearn.model_selection import RandomizedSearchCV\n",
    "from sklearn.metrics import roc_auc_score\n",
    "from sklearn.metrics import roc_curve\n",
    "from sklearn.metrics import accuracy_score\n",
    "from sklearn.model_selection import GridSearchCV\n",
    "from sklearn.metrics import confusion_matrix\n",
    "\n",
    "from sklearn.metrics import classification_report\n",
    "from sklearn.preprocessing import LabelEncoder,OrdinalEncoder, MinMaxScaler, OneHotEncoder\n",
    "from phik import phik_matrix\n",
    "\n",
    "from sklearn.pipeline import Pipeline\n",
    "from sklearn.compose import ColumnTransformer\n",
    "from sklearn.linear_model import LogisticRegression\n",
    "from sklearn.preprocessing import StandardScaler\n"
   ]
  },
  {
   "cell_type": "code",
   "execution_count": 4,
   "metadata": {},
   "outputs": [],
   "source": [
    "RANDOM_STATE = 140823"
   ]
  },
  {
   "cell_type": "markdown",
   "metadata": {},
   "source": [
    "Загрузим данные"
   ]
  },
  {
   "cell_type": "code",
   "execution_count": 5,
   "metadata": {},
   "outputs": [],
   "source": [
    "try:\n",
    "    contract_data = pd.read_csv('/datasets/contract_new.csv')\n",
    "    personal_data = pd.read_csv('/datasets/personal_new.csv')\n",
    "    internet_data = pd.read_csv('/datasets/internet_new.csv')\n",
    "    phone_data = pd.read_csv('/datasets/phone_new.csv')\n",
    "except:\n",
    "    contract_data = pd.read_csv('contract_new.csv')\n",
    "    personal_data = pd.read_csv('personal_new.csv')\n",
    "    internet_data = pd.read_csv('internet_new.csv')\n",
    "    phone_data = pd.read_csv('phone_new.csv')"
   ]
  },
  {
   "cell_type": "markdown",
   "metadata": {},
   "source": [
    "Объединим данные в список"
   ]
  },
  {
   "cell_type": "code",
   "execution_count": 6,
   "metadata": {},
   "outputs": [],
   "source": [
    "over_data = [contract_data, personal_data, internet_data, phone_data]"
   ]
  },
  {
   "cell_type": "code",
   "execution_count": 7,
   "metadata": {},
   "outputs": [
    {
     "name": "stdout",
     "output_type": "stream",
     "text": [
      "<class 'pandas.core.frame.DataFrame'>\n",
      "RangeIndex: 7043 entries, 0 to 7042\n",
      "Data columns (total 8 columns):\n",
      " #   Column            Non-Null Count  Dtype  \n",
      "---  ------            --------------  -----  \n",
      " 0   customerID        7043 non-null   object \n",
      " 1   BeginDate         7043 non-null   object \n",
      " 2   EndDate           7043 non-null   object \n",
      " 3   Type              7043 non-null   object \n",
      " 4   PaperlessBilling  7043 non-null   object \n",
      " 5   PaymentMethod     7043 non-null   object \n",
      " 6   MonthlyCharges    7043 non-null   float64\n",
      " 7   TotalCharges      7043 non-null   object \n",
      "dtypes: float64(1), object(7)\n",
      "memory usage: 440.3+ KB\n",
      "None\n",
      "<class 'pandas.core.frame.DataFrame'>\n",
      "RangeIndex: 7043 entries, 0 to 7042\n",
      "Data columns (total 5 columns):\n",
      " #   Column         Non-Null Count  Dtype \n",
      "---  ------         --------------  ----- \n",
      " 0   customerID     7043 non-null   object\n",
      " 1   gender         7043 non-null   object\n",
      " 2   SeniorCitizen  7043 non-null   int64 \n",
      " 3   Partner        7043 non-null   object\n",
      " 4   Dependents     7043 non-null   object\n",
      "dtypes: int64(1), object(4)\n",
      "memory usage: 275.2+ KB\n",
      "None\n",
      "<class 'pandas.core.frame.DataFrame'>\n",
      "RangeIndex: 5517 entries, 0 to 5516\n",
      "Data columns (total 8 columns):\n",
      " #   Column            Non-Null Count  Dtype \n",
      "---  ------            --------------  ----- \n",
      " 0   customerID        5517 non-null   object\n",
      " 1   InternetService   5517 non-null   object\n",
      " 2   OnlineSecurity    5517 non-null   object\n",
      " 3   OnlineBackup      5517 non-null   object\n",
      " 4   DeviceProtection  5517 non-null   object\n",
      " 5   TechSupport       5517 non-null   object\n",
      " 6   StreamingTV       5517 non-null   object\n",
      " 7   StreamingMovies   5517 non-null   object\n",
      "dtypes: object(8)\n",
      "memory usage: 344.9+ KB\n",
      "None\n",
      "<class 'pandas.core.frame.DataFrame'>\n",
      "RangeIndex: 6361 entries, 0 to 6360\n",
      "Data columns (total 2 columns):\n",
      " #   Column         Non-Null Count  Dtype \n",
      "---  ------         --------------  ----- \n",
      " 0   customerID     6361 non-null   object\n",
      " 1   MultipleLines  6361 non-null   object\n",
      "dtypes: object(2)\n",
      "memory usage: 99.5+ KB\n",
      "None\n"
     ]
    }
   ],
   "source": [
    "for data in over_data:\n",
    "    print(data.info())"
   ]
  },
  {
   "cell_type": "markdown",
   "metadata": {},
   "source": [
    "Посмотрим инфу для каждой таблицы"
   ]
  },
  {
   "cell_type": "code",
   "execution_count": 8,
   "metadata": {},
   "outputs": [],
   "source": [
    "for data in over_data:\n",
    "    data.columns = data.columns.str.lower()"
   ]
  },
  {
   "cell_type": "markdown",
   "metadata": {},
   "source": [
    "Преобразуем все значения в таблицах к нижнему регистру"
   ]
  },
  {
   "cell_type": "code",
   "execution_count": 9,
   "metadata": {},
   "outputs": [],
   "source": [
    "def lowercase_columns(data):\n",
    "    for column in data.columns:\n",
    "        if data[column].dtype == 'object':\n",
    "            data[column] = data[column].str.lower()\n",
    "            data.columns = data.columns.str.lower()"
   ]
  },
  {
   "cell_type": "code",
   "execution_count": 10,
   "metadata": {},
   "outputs": [
    {
     "data": {
      "text/html": [
       "<div>\n",
       "<style scoped>\n",
       "    .dataframe tbody tr th:only-of-type {\n",
       "        vertical-align: middle;\n",
       "    }\n",
       "\n",
       "    .dataframe tbody tr th {\n",
       "        vertical-align: top;\n",
       "    }\n",
       "\n",
       "    .dataframe thead th {\n",
       "        text-align: right;\n",
       "    }\n",
       "</style>\n",
       "<table border=\"1\" class=\"dataframe\">\n",
       "  <thead>\n",
       "    <tr style=\"text-align: right;\">\n",
       "      <th></th>\n",
       "      <th>customerid</th>\n",
       "      <th>begindate</th>\n",
       "      <th>enddate</th>\n",
       "      <th>type</th>\n",
       "      <th>paperlessbilling</th>\n",
       "      <th>paymentmethod</th>\n",
       "      <th>monthlycharges</th>\n",
       "      <th>totalcharges</th>\n",
       "    </tr>\n",
       "  </thead>\n",
       "  <tbody>\n",
       "    <tr>\n",
       "      <th>0</th>\n",
       "      <td>7590-vhveg</td>\n",
       "      <td>2020-01-01</td>\n",
       "      <td>no</td>\n",
       "      <td>month-to-month</td>\n",
       "      <td>yes</td>\n",
       "      <td>electronic check</td>\n",
       "      <td>29.85</td>\n",
       "      <td>31.04</td>\n",
       "    </tr>\n",
       "    <tr>\n",
       "      <th>1</th>\n",
       "      <td>5575-gnvde</td>\n",
       "      <td>2017-04-01</td>\n",
       "      <td>no</td>\n",
       "      <td>one year</td>\n",
       "      <td>no</td>\n",
       "      <td>mailed check</td>\n",
       "      <td>56.95</td>\n",
       "      <td>2071.84</td>\n",
       "    </tr>\n",
       "    <tr>\n",
       "      <th>2</th>\n",
       "      <td>3668-qpybk</td>\n",
       "      <td>2019-10-01</td>\n",
       "      <td>no</td>\n",
       "      <td>month-to-month</td>\n",
       "      <td>yes</td>\n",
       "      <td>mailed check</td>\n",
       "      <td>53.85</td>\n",
       "      <td>226.17</td>\n",
       "    </tr>\n",
       "    <tr>\n",
       "      <th>3</th>\n",
       "      <td>7795-cfocw</td>\n",
       "      <td>2016-05-01</td>\n",
       "      <td>no</td>\n",
       "      <td>one year</td>\n",
       "      <td>no</td>\n",
       "      <td>bank transfer (automatic)</td>\n",
       "      <td>42.30</td>\n",
       "      <td>1960.6</td>\n",
       "    </tr>\n",
       "    <tr>\n",
       "      <th>4</th>\n",
       "      <td>9237-hqitu</td>\n",
       "      <td>2019-09-01</td>\n",
       "      <td>no</td>\n",
       "      <td>month-to-month</td>\n",
       "      <td>yes</td>\n",
       "      <td>electronic check</td>\n",
       "      <td>70.70</td>\n",
       "      <td>353.5</td>\n",
       "    </tr>\n",
       "  </tbody>\n",
       "</table>\n",
       "</div>"
      ],
      "text/plain": [
       "   customerid   begindate enddate            type paperlessbilling  \\\n",
       "0  7590-vhveg  2020-01-01      no  month-to-month              yes   \n",
       "1  5575-gnvde  2017-04-01      no        one year               no   \n",
       "2  3668-qpybk  2019-10-01      no  month-to-month              yes   \n",
       "3  7795-cfocw  2016-05-01      no        one year               no   \n",
       "4  9237-hqitu  2019-09-01      no  month-to-month              yes   \n",
       "\n",
       "               paymentmethod  monthlycharges totalcharges  \n",
       "0           electronic check           29.85        31.04  \n",
       "1               mailed check           56.95      2071.84  \n",
       "2               mailed check           53.85       226.17  \n",
       "3  bank transfer (automatic)           42.30       1960.6  \n",
       "4           electronic check           70.70        353.5  "
      ]
     },
     "metadata": {},
     "output_type": "display_data"
    },
    {
     "name": "stdout",
     "output_type": "stream",
     "text": [
      "<class 'pandas.core.frame.DataFrame'>\n",
      "RangeIndex: 7043 entries, 0 to 7042\n",
      "Data columns (total 8 columns):\n",
      " #   Column            Non-Null Count  Dtype  \n",
      "---  ------            --------------  -----  \n",
      " 0   customerid        7043 non-null   object \n",
      " 1   begindate         7043 non-null   object \n",
      " 2   enddate           7043 non-null   object \n",
      " 3   type              7043 non-null   object \n",
      " 4   paperlessbilling  7043 non-null   object \n",
      " 5   paymentmethod     7043 non-null   object \n",
      " 6   monthlycharges    7043 non-null   float64\n",
      " 7   totalcharges      7043 non-null   object \n",
      "dtypes: float64(1), object(7)\n",
      "memory usage: 440.3+ KB\n"
     ]
    },
    {
     "data": {
      "text/plain": [
       "None"
      ]
     },
     "metadata": {},
     "output_type": "display_data"
    },
    {
     "data": {
      "text/html": [
       "<div>\n",
       "<style scoped>\n",
       "    .dataframe tbody tr th:only-of-type {\n",
       "        vertical-align: middle;\n",
       "    }\n",
       "\n",
       "    .dataframe tbody tr th {\n",
       "        vertical-align: top;\n",
       "    }\n",
       "\n",
       "    .dataframe thead th {\n",
       "        text-align: right;\n",
       "    }\n",
       "</style>\n",
       "<table border=\"1\" class=\"dataframe\">\n",
       "  <thead>\n",
       "    <tr style=\"text-align: right;\">\n",
       "      <th></th>\n",
       "      <th>customerid</th>\n",
       "      <th>gender</th>\n",
       "      <th>seniorcitizen</th>\n",
       "      <th>partner</th>\n",
       "      <th>dependents</th>\n",
       "    </tr>\n",
       "  </thead>\n",
       "  <tbody>\n",
       "    <tr>\n",
       "      <th>0</th>\n",
       "      <td>7590-vhveg</td>\n",
       "      <td>female</td>\n",
       "      <td>0</td>\n",
       "      <td>yes</td>\n",
       "      <td>no</td>\n",
       "    </tr>\n",
       "    <tr>\n",
       "      <th>1</th>\n",
       "      <td>5575-gnvde</td>\n",
       "      <td>male</td>\n",
       "      <td>0</td>\n",
       "      <td>no</td>\n",
       "      <td>no</td>\n",
       "    </tr>\n",
       "    <tr>\n",
       "      <th>2</th>\n",
       "      <td>3668-qpybk</td>\n",
       "      <td>male</td>\n",
       "      <td>0</td>\n",
       "      <td>no</td>\n",
       "      <td>no</td>\n",
       "    </tr>\n",
       "    <tr>\n",
       "      <th>3</th>\n",
       "      <td>7795-cfocw</td>\n",
       "      <td>male</td>\n",
       "      <td>0</td>\n",
       "      <td>no</td>\n",
       "      <td>no</td>\n",
       "    </tr>\n",
       "    <tr>\n",
       "      <th>4</th>\n",
       "      <td>9237-hqitu</td>\n",
       "      <td>female</td>\n",
       "      <td>0</td>\n",
       "      <td>no</td>\n",
       "      <td>no</td>\n",
       "    </tr>\n",
       "  </tbody>\n",
       "</table>\n",
       "</div>"
      ],
      "text/plain": [
       "   customerid  gender  seniorcitizen partner dependents\n",
       "0  7590-vhveg  female              0     yes         no\n",
       "1  5575-gnvde    male              0      no         no\n",
       "2  3668-qpybk    male              0      no         no\n",
       "3  7795-cfocw    male              0      no         no\n",
       "4  9237-hqitu  female              0      no         no"
      ]
     },
     "metadata": {},
     "output_type": "display_data"
    },
    {
     "name": "stdout",
     "output_type": "stream",
     "text": [
      "<class 'pandas.core.frame.DataFrame'>\n",
      "RangeIndex: 7043 entries, 0 to 7042\n",
      "Data columns (total 5 columns):\n",
      " #   Column         Non-Null Count  Dtype \n",
      "---  ------         --------------  ----- \n",
      " 0   customerid     7043 non-null   object\n",
      " 1   gender         7043 non-null   object\n",
      " 2   seniorcitizen  7043 non-null   int64 \n",
      " 3   partner        7043 non-null   object\n",
      " 4   dependents     7043 non-null   object\n",
      "dtypes: int64(1), object(4)\n",
      "memory usage: 275.2+ KB\n"
     ]
    },
    {
     "data": {
      "text/plain": [
       "None"
      ]
     },
     "metadata": {},
     "output_type": "display_data"
    },
    {
     "data": {
      "text/html": [
       "<div>\n",
       "<style scoped>\n",
       "    .dataframe tbody tr th:only-of-type {\n",
       "        vertical-align: middle;\n",
       "    }\n",
       "\n",
       "    .dataframe tbody tr th {\n",
       "        vertical-align: top;\n",
       "    }\n",
       "\n",
       "    .dataframe thead th {\n",
       "        text-align: right;\n",
       "    }\n",
       "</style>\n",
       "<table border=\"1\" class=\"dataframe\">\n",
       "  <thead>\n",
       "    <tr style=\"text-align: right;\">\n",
       "      <th></th>\n",
       "      <th>customerid</th>\n",
       "      <th>internetservice</th>\n",
       "      <th>onlinesecurity</th>\n",
       "      <th>onlinebackup</th>\n",
       "      <th>deviceprotection</th>\n",
       "      <th>techsupport</th>\n",
       "      <th>streamingtv</th>\n",
       "      <th>streamingmovies</th>\n",
       "    </tr>\n",
       "  </thead>\n",
       "  <tbody>\n",
       "    <tr>\n",
       "      <th>0</th>\n",
       "      <td>7590-vhveg</td>\n",
       "      <td>dsl</td>\n",
       "      <td>no</td>\n",
       "      <td>yes</td>\n",
       "      <td>no</td>\n",
       "      <td>no</td>\n",
       "      <td>no</td>\n",
       "      <td>no</td>\n",
       "    </tr>\n",
       "    <tr>\n",
       "      <th>1</th>\n",
       "      <td>5575-gnvde</td>\n",
       "      <td>dsl</td>\n",
       "      <td>yes</td>\n",
       "      <td>no</td>\n",
       "      <td>yes</td>\n",
       "      <td>no</td>\n",
       "      <td>no</td>\n",
       "      <td>no</td>\n",
       "    </tr>\n",
       "    <tr>\n",
       "      <th>2</th>\n",
       "      <td>3668-qpybk</td>\n",
       "      <td>dsl</td>\n",
       "      <td>yes</td>\n",
       "      <td>yes</td>\n",
       "      <td>no</td>\n",
       "      <td>no</td>\n",
       "      <td>no</td>\n",
       "      <td>no</td>\n",
       "    </tr>\n",
       "    <tr>\n",
       "      <th>3</th>\n",
       "      <td>7795-cfocw</td>\n",
       "      <td>dsl</td>\n",
       "      <td>yes</td>\n",
       "      <td>no</td>\n",
       "      <td>yes</td>\n",
       "      <td>yes</td>\n",
       "      <td>no</td>\n",
       "      <td>no</td>\n",
       "    </tr>\n",
       "    <tr>\n",
       "      <th>4</th>\n",
       "      <td>9237-hqitu</td>\n",
       "      <td>fiber optic</td>\n",
       "      <td>no</td>\n",
       "      <td>no</td>\n",
       "      <td>no</td>\n",
       "      <td>no</td>\n",
       "      <td>no</td>\n",
       "      <td>no</td>\n",
       "    </tr>\n",
       "  </tbody>\n",
       "</table>\n",
       "</div>"
      ],
      "text/plain": [
       "   customerid internetservice onlinesecurity onlinebackup deviceprotection  \\\n",
       "0  7590-vhveg             dsl             no          yes               no   \n",
       "1  5575-gnvde             dsl            yes           no              yes   \n",
       "2  3668-qpybk             dsl            yes          yes               no   \n",
       "3  7795-cfocw             dsl            yes           no              yes   \n",
       "4  9237-hqitu     fiber optic             no           no               no   \n",
       "\n",
       "  techsupport streamingtv streamingmovies  \n",
       "0          no          no              no  \n",
       "1          no          no              no  \n",
       "2          no          no              no  \n",
       "3         yes          no              no  \n",
       "4          no          no              no  "
      ]
     },
     "metadata": {},
     "output_type": "display_data"
    },
    {
     "name": "stdout",
     "output_type": "stream",
     "text": [
      "<class 'pandas.core.frame.DataFrame'>\n",
      "RangeIndex: 5517 entries, 0 to 5516\n",
      "Data columns (total 8 columns):\n",
      " #   Column            Non-Null Count  Dtype \n",
      "---  ------            --------------  ----- \n",
      " 0   customerid        5517 non-null   object\n",
      " 1   internetservice   5517 non-null   object\n",
      " 2   onlinesecurity    5517 non-null   object\n",
      " 3   onlinebackup      5517 non-null   object\n",
      " 4   deviceprotection  5517 non-null   object\n",
      " 5   techsupport       5517 non-null   object\n",
      " 6   streamingtv       5517 non-null   object\n",
      " 7   streamingmovies   5517 non-null   object\n",
      "dtypes: object(8)\n",
      "memory usage: 344.9+ KB\n"
     ]
    },
    {
     "data": {
      "text/plain": [
       "None"
      ]
     },
     "metadata": {},
     "output_type": "display_data"
    },
    {
     "data": {
      "text/html": [
       "<div>\n",
       "<style scoped>\n",
       "    .dataframe tbody tr th:only-of-type {\n",
       "        vertical-align: middle;\n",
       "    }\n",
       "\n",
       "    .dataframe tbody tr th {\n",
       "        vertical-align: top;\n",
       "    }\n",
       "\n",
       "    .dataframe thead th {\n",
       "        text-align: right;\n",
       "    }\n",
       "</style>\n",
       "<table border=\"1\" class=\"dataframe\">\n",
       "  <thead>\n",
       "    <tr style=\"text-align: right;\">\n",
       "      <th></th>\n",
       "      <th>customerid</th>\n",
       "      <th>multiplelines</th>\n",
       "    </tr>\n",
       "  </thead>\n",
       "  <tbody>\n",
       "    <tr>\n",
       "      <th>0</th>\n",
       "      <td>5575-gnvde</td>\n",
       "      <td>no</td>\n",
       "    </tr>\n",
       "    <tr>\n",
       "      <th>1</th>\n",
       "      <td>3668-qpybk</td>\n",
       "      <td>no</td>\n",
       "    </tr>\n",
       "    <tr>\n",
       "      <th>2</th>\n",
       "      <td>9237-hqitu</td>\n",
       "      <td>no</td>\n",
       "    </tr>\n",
       "    <tr>\n",
       "      <th>3</th>\n",
       "      <td>9305-cdskc</td>\n",
       "      <td>yes</td>\n",
       "    </tr>\n",
       "    <tr>\n",
       "      <th>4</th>\n",
       "      <td>1452-kiovk</td>\n",
       "      <td>yes</td>\n",
       "    </tr>\n",
       "  </tbody>\n",
       "</table>\n",
       "</div>"
      ],
      "text/plain": [
       "   customerid multiplelines\n",
       "0  5575-gnvde            no\n",
       "1  3668-qpybk            no\n",
       "2  9237-hqitu            no\n",
       "3  9305-cdskc           yes\n",
       "4  1452-kiovk           yes"
      ]
     },
     "metadata": {},
     "output_type": "display_data"
    },
    {
     "name": "stdout",
     "output_type": "stream",
     "text": [
      "<class 'pandas.core.frame.DataFrame'>\n",
      "RangeIndex: 6361 entries, 0 to 6360\n",
      "Data columns (total 2 columns):\n",
      " #   Column         Non-Null Count  Dtype \n",
      "---  ------         --------------  ----- \n",
      " 0   customerid     6361 non-null   object\n",
      " 1   multiplelines  6361 non-null   object\n",
      "dtypes: object(2)\n",
      "memory usage: 99.5+ KB\n"
     ]
    },
    {
     "data": {
      "text/plain": [
       "None"
      ]
     },
     "metadata": {},
     "output_type": "display_data"
    }
   ],
   "source": [
    "for data in over_data:\n",
    "    lowercase_columns(data)\n",
    "    display(data.head())\n",
    "    display(data.info())"
   ]
  },
  {
   "cell_type": "markdown",
   "metadata": {},
   "source": [
    "сверим количество уникальных значений среди ID пользователей с количеством строк в таблицах"
   ]
  },
  {
   "cell_type": "code",
   "execution_count": 11,
   "metadata": {},
   "outputs": [
    {
     "data": {
      "text/plain": [
       "7043"
      ]
     },
     "metadata": {},
     "output_type": "display_data"
    },
    {
     "data": {
      "text/plain": [
       "7043"
      ]
     },
     "metadata": {},
     "output_type": "display_data"
    },
    {
     "data": {
      "text/plain": [
       "5517"
      ]
     },
     "metadata": {},
     "output_type": "display_data"
    },
    {
     "data": {
      "text/plain": [
       "6361"
      ]
     },
     "metadata": {},
     "output_type": "display_data"
    }
   ],
   "source": [
    "for data in over_data:\n",
    "    display(data['customerid'].nunique())\n",
    "    "
   ]
  },
  {
   "cell_type": "markdown",
   "metadata": {},
   "source": [
    "количества совпадают. посмотрим на уникальные значения в столбце, с датой расторжения контракта"
   ]
  },
  {
   "cell_type": "code",
   "execution_count": 12,
   "metadata": {},
   "outputs": [
    {
     "data": {
      "text/plain": [
       "array(['no', '2017-05-01', '2016-03-01', '2018-09-01', '2018-11-01',\n",
       "       '2018-12-01', '2019-08-01', '2018-07-01', '2017-09-01',\n",
       "       '2015-09-01', '2016-07-01', '2016-06-01', '2018-03-01',\n",
       "       '2019-02-01', '2018-06-01', '2019-06-01', '2020-01-01',\n",
       "       '2019-11-01', '2016-09-01', '2015-06-01', '2016-12-01',\n",
       "       '2019-05-01', '2019-04-01', '2017-06-01', '2017-08-01',\n",
       "       '2018-04-01', '2018-08-01', '2018-02-01', '2019-07-01',\n",
       "       '2015-12-01', '2014-06-01', '2018-10-01', '2019-01-01',\n",
       "       '2017-07-01', '2017-12-01', '2018-05-01', '2015-11-01',\n",
       "       '2019-10-01', '2019-03-01', '2016-02-01', '2016-10-01',\n",
       "       '2018-01-01', '2017-11-01', '2015-10-01', '2019-12-01',\n",
       "       '2015-07-01', '2017-04-01', '2015-02-01', '2017-03-01',\n",
       "       '2016-05-01', '2016-11-01', '2015-08-01', '2019-09-01',\n",
       "       '2017-10-01', '2017-02-01', '2016-08-01', '2016-04-01',\n",
       "       '2015-05-01', '2014-09-01', '2014-10-01', '2017-01-01',\n",
       "       '2015-03-01', '2015-01-01', '2016-01-01', '2015-04-01',\n",
       "       '2014-12-01', '2014-11-01'], dtype=object)"
      ]
     },
     "execution_count": 12,
     "metadata": {},
     "output_type": "execute_result"
    }
   ],
   "source": [
    "contract_data['enddate'].unique()"
   ]
  },
  {
   "cell_type": "markdown",
   "metadata": {},
   "source": [
    "Загрузили 4 таблицы: contract_new.csv, personal_new.csv, internet_new.csv, phone_new.csv.\n",
    "- contract_new.csv - информация о договоре\n",
    "- personal_new.csv - персональные данные клиента\n",
    "- internet_new.csv - информация об интернет-услугах\n",
    "- phone_new.csv - информация об услугах телефонии\n",
    "\n",
    "\n",
    "Данные таблицы не имеют пропусков, не имеют дубликатов по ID клиента. Все данные в таблицах, для удобства их обработки, мы превели к нижнему регистру.\n",
    "\n",
    "В таблице с данными по заключенным контрактам, в поле даты окончания контракта есть значение 'no' - нужно будет его преобразовать в какую-то дату (подумаем пока в какую), что-бы понимать, что контракт не расторгнут.\n",
    "Также, в этой таблице есть столбец totalcharges с типом object, хотя там лежит общая сумма потраченных денег на услуги - изменим тип на числовой.\n",
    "Напрашивается изменить тип на дату у столбцов с датами начала и окончания действия контракта и добавить новый столбец с разницей этих дат - время действия контракта.\n",
    "\n",
    "В таблице с персональными данными видим также ID клиента (все ID уникальные), видим, что часть признаков у нас бинарные, а часть категориальные (yes\\no) - в последствии, при подготовке к моделированию - будем их кодировать в зависимости от выбранных моделей.\n",
    "\n",
    "В таблицах с информацией об интернет-услугах и о телефонии пока не видим необходимости вносить какие-то изменения.\n",
    "посмотрим распределения значений в таблицах на графиках"
   ]
  },
  {
   "cell_type": "code",
   "execution_count": 13,
   "metadata": {},
   "outputs": [
    {
     "name": "stdout",
     "output_type": "stream",
     "text": [
      "<class 'pandas.core.frame.DataFrame'>\n",
      "RangeIndex: 7043 entries, 0 to 7042\n",
      "Data columns (total 8 columns):\n",
      " #   Column            Non-Null Count  Dtype  \n",
      "---  ------            --------------  -----  \n",
      " 0   customerid        7043 non-null   object \n",
      " 1   begindate         7043 non-null   object \n",
      " 2   enddate           7043 non-null   object \n",
      " 3   type              7043 non-null   object \n",
      " 4   paperlessbilling  7043 non-null   object \n",
      " 5   paymentmethod     7043 non-null   object \n",
      " 6   monthlycharges    7043 non-null   float64\n",
      " 7   totalcharges      7032 non-null   float64\n",
      "dtypes: float64(2), object(6)\n",
      "memory usage: 440.3+ KB\n"
     ]
    }
   ],
   "source": [
    "contract_data['totalcharges'] = pd.to_numeric(contract_data['totalcharges'], errors='coerce')\n",
    "contract_data.info()"
   ]
  },
  {
   "cell_type": "code",
   "execution_count": 14,
   "metadata": {},
   "outputs": [
    {
     "name": "stdout",
     "output_type": "stream",
     "text": [
      "<class 'pandas.core.frame.DataFrame'>\n",
      "RangeIndex: 7043 entries, 0 to 7042\n",
      "Data columns (total 8 columns):\n",
      " #   Column            Non-Null Count  Dtype         \n",
      "---  ------            --------------  -----         \n",
      " 0   customerid        7043 non-null   object        \n",
      " 1   begindate         7043 non-null   datetime64[ns]\n",
      " 2   enddate           7043 non-null   object        \n",
      " 3   type              7043 non-null   object        \n",
      " 4   paperlessbilling  7043 non-null   object        \n",
      " 5   paymentmethod     7043 non-null   object        \n",
      " 6   monthlycharges    7043 non-null   float64       \n",
      " 7   totalcharges      7032 non-null   float64       \n",
      "dtypes: datetime64[ns](1), float64(2), object(5)\n",
      "memory usage: 440.3+ KB\n"
     ]
    }
   ],
   "source": [
    "contract_data['begindate'] = pd.to_datetime(contract_data['begindate'])\n",
    "contract_data.info()"
   ]
  },
  {
   "cell_type": "markdown",
   "metadata": {},
   "source": [
    "Чтобы изменить тип данных в столбце с датой окончания договора - заменим значения поля, где есть 'no' на '2020-02-01' - мы знаем, что информация о договорах актуально на 01-02-2020 а мы планировали получить данные о сроке действия контрактов. Но нам пока нужно это значение 'no', т.к. с его помощью мы можем определить является ли данный пользователь текущим клиентом или расторг договор в крайнюю дату (1 февраля 2020), поэтому для начала создадим новый столбец в таблице с контрактами - в котором проставим значения действующих договоров (yes 1 - если договор действующий, no 0 - если уже расторгнут, а потом только преобразуем."
   ]
  },
  {
   "cell_type": "code",
   "execution_count": 15,
   "metadata": {},
   "outputs": [
    {
     "data": {
      "text/html": [
       "<div>\n",
       "<style scoped>\n",
       "    .dataframe tbody tr th:only-of-type {\n",
       "        vertical-align: middle;\n",
       "    }\n",
       "\n",
       "    .dataframe tbody tr th {\n",
       "        vertical-align: top;\n",
       "    }\n",
       "\n",
       "    .dataframe thead th {\n",
       "        text-align: right;\n",
       "    }\n",
       "</style>\n",
       "<table border=\"1\" class=\"dataframe\">\n",
       "  <thead>\n",
       "    <tr style=\"text-align: right;\">\n",
       "      <th></th>\n",
       "      <th>customerid</th>\n",
       "      <th>begindate</th>\n",
       "      <th>enddate</th>\n",
       "      <th>type</th>\n",
       "      <th>paperlessbilling</th>\n",
       "      <th>paymentmethod</th>\n",
       "      <th>monthlycharges</th>\n",
       "      <th>totalcharges</th>\n",
       "      <th>active</th>\n",
       "    </tr>\n",
       "  </thead>\n",
       "  <tbody>\n",
       "    <tr>\n",
       "      <th>0</th>\n",
       "      <td>7590-vhveg</td>\n",
       "      <td>2020-01-01</td>\n",
       "      <td>no</td>\n",
       "      <td>month-to-month</td>\n",
       "      <td>yes</td>\n",
       "      <td>electronic check</td>\n",
       "      <td>29.85</td>\n",
       "      <td>31.04</td>\n",
       "      <td>1</td>\n",
       "    </tr>\n",
       "    <tr>\n",
       "      <th>1</th>\n",
       "      <td>5575-gnvde</td>\n",
       "      <td>2017-04-01</td>\n",
       "      <td>no</td>\n",
       "      <td>one year</td>\n",
       "      <td>no</td>\n",
       "      <td>mailed check</td>\n",
       "      <td>56.95</td>\n",
       "      <td>2071.84</td>\n",
       "      <td>1</td>\n",
       "    </tr>\n",
       "    <tr>\n",
       "      <th>2</th>\n",
       "      <td>3668-qpybk</td>\n",
       "      <td>2019-10-01</td>\n",
       "      <td>no</td>\n",
       "      <td>month-to-month</td>\n",
       "      <td>yes</td>\n",
       "      <td>mailed check</td>\n",
       "      <td>53.85</td>\n",
       "      <td>226.17</td>\n",
       "      <td>1</td>\n",
       "    </tr>\n",
       "    <tr>\n",
       "      <th>3</th>\n",
       "      <td>7795-cfocw</td>\n",
       "      <td>2016-05-01</td>\n",
       "      <td>no</td>\n",
       "      <td>one year</td>\n",
       "      <td>no</td>\n",
       "      <td>bank transfer (automatic)</td>\n",
       "      <td>42.30</td>\n",
       "      <td>1960.60</td>\n",
       "      <td>1</td>\n",
       "    </tr>\n",
       "    <tr>\n",
       "      <th>4</th>\n",
       "      <td>9237-hqitu</td>\n",
       "      <td>2019-09-01</td>\n",
       "      <td>no</td>\n",
       "      <td>month-to-month</td>\n",
       "      <td>yes</td>\n",
       "      <td>electronic check</td>\n",
       "      <td>70.70</td>\n",
       "      <td>353.50</td>\n",
       "      <td>1</td>\n",
       "    </tr>\n",
       "    <tr>\n",
       "      <th>5</th>\n",
       "      <td>9305-cdskc</td>\n",
       "      <td>2019-03-01</td>\n",
       "      <td>no</td>\n",
       "      <td>month-to-month</td>\n",
       "      <td>yes</td>\n",
       "      <td>electronic check</td>\n",
       "      <td>99.65</td>\n",
       "      <td>1150.96</td>\n",
       "      <td>1</td>\n",
       "    </tr>\n",
       "    <tr>\n",
       "      <th>6</th>\n",
       "      <td>1452-kiovk</td>\n",
       "      <td>2018-04-01</td>\n",
       "      <td>no</td>\n",
       "      <td>month-to-month</td>\n",
       "      <td>yes</td>\n",
       "      <td>credit card (automatic)</td>\n",
       "      <td>89.10</td>\n",
       "      <td>2058.21</td>\n",
       "      <td>1</td>\n",
       "    </tr>\n",
       "    <tr>\n",
       "      <th>7</th>\n",
       "      <td>6713-okomc</td>\n",
       "      <td>2019-04-01</td>\n",
       "      <td>no</td>\n",
       "      <td>month-to-month</td>\n",
       "      <td>no</td>\n",
       "      <td>mailed check</td>\n",
       "      <td>29.75</td>\n",
       "      <td>300.48</td>\n",
       "      <td>1</td>\n",
       "    </tr>\n",
       "    <tr>\n",
       "      <th>8</th>\n",
       "      <td>7892-pookp</td>\n",
       "      <td>2017-07-01</td>\n",
       "      <td>no</td>\n",
       "      <td>month-to-month</td>\n",
       "      <td>yes</td>\n",
       "      <td>electronic check</td>\n",
       "      <td>104.80</td>\n",
       "      <td>3573.68</td>\n",
       "      <td>1</td>\n",
       "    </tr>\n",
       "    <tr>\n",
       "      <th>9</th>\n",
       "      <td>6388-tabgu</td>\n",
       "      <td>2014-12-01</td>\n",
       "      <td>2017-05-01</td>\n",
       "      <td>one year</td>\n",
       "      <td>no</td>\n",
       "      <td>bank transfer (automatic)</td>\n",
       "      <td>56.15</td>\n",
       "      <td>1628.35</td>\n",
       "      <td>0</td>\n",
       "    </tr>\n",
       "  </tbody>\n",
       "</table>\n",
       "</div>"
      ],
      "text/plain": [
       "   customerid  begindate     enddate            type paperlessbilling  \\\n",
       "0  7590-vhveg 2020-01-01          no  month-to-month              yes   \n",
       "1  5575-gnvde 2017-04-01          no        one year               no   \n",
       "2  3668-qpybk 2019-10-01          no  month-to-month              yes   \n",
       "3  7795-cfocw 2016-05-01          no        one year               no   \n",
       "4  9237-hqitu 2019-09-01          no  month-to-month              yes   \n",
       "5  9305-cdskc 2019-03-01          no  month-to-month              yes   \n",
       "6  1452-kiovk 2018-04-01          no  month-to-month              yes   \n",
       "7  6713-okomc 2019-04-01          no  month-to-month               no   \n",
       "8  7892-pookp 2017-07-01          no  month-to-month              yes   \n",
       "9  6388-tabgu 2014-12-01  2017-05-01        one year               no   \n",
       "\n",
       "               paymentmethod  monthlycharges  totalcharges active  \n",
       "0           electronic check           29.85         31.04      1  \n",
       "1               mailed check           56.95       2071.84      1  \n",
       "2               mailed check           53.85        226.17      1  \n",
       "3  bank transfer (automatic)           42.30       1960.60      1  \n",
       "4           electronic check           70.70        353.50      1  \n",
       "5           electronic check           99.65       1150.96      1  \n",
       "6    credit card (automatic)           89.10       2058.21      1  \n",
       "7               mailed check           29.75        300.48      1  \n",
       "8           electronic check          104.80       3573.68      1  \n",
       "9  bank transfer (automatic)           56.15       1628.35      0  "
      ]
     },
     "execution_count": 15,
     "metadata": {},
     "output_type": "execute_result"
    }
   ],
   "source": [
    "contract_data['active'] = contract_data['enddate'].transform(lambda x: '1' if x == 'no' else '0')\n",
    "contract_data.head(10)"
   ]
  },
  {
   "cell_type": "code",
   "execution_count": 16,
   "metadata": {},
   "outputs": [
    {
     "data": {
      "text/html": [
       "<div>\n",
       "<style scoped>\n",
       "    .dataframe tbody tr th:only-of-type {\n",
       "        vertical-align: middle;\n",
       "    }\n",
       "\n",
       "    .dataframe tbody tr th {\n",
       "        vertical-align: top;\n",
       "    }\n",
       "\n",
       "    .dataframe thead th {\n",
       "        text-align: right;\n",
       "    }\n",
       "</style>\n",
       "<table border=\"1\" class=\"dataframe\">\n",
       "  <thead>\n",
       "    <tr style=\"text-align: right;\">\n",
       "      <th></th>\n",
       "      <th>customerid</th>\n",
       "      <th>begindate</th>\n",
       "      <th>enddate</th>\n",
       "      <th>type</th>\n",
       "      <th>paperlessbilling</th>\n",
       "      <th>paymentmethod</th>\n",
       "      <th>monthlycharges</th>\n",
       "      <th>totalcharges</th>\n",
       "      <th>active</th>\n",
       "    </tr>\n",
       "  </thead>\n",
       "  <tbody>\n",
       "    <tr>\n",
       "      <th>0</th>\n",
       "      <td>7590-vhveg</td>\n",
       "      <td>2020-01-01</td>\n",
       "      <td>2020-02-01</td>\n",
       "      <td>month-to-month</td>\n",
       "      <td>yes</td>\n",
       "      <td>electronic check</td>\n",
       "      <td>29.85</td>\n",
       "      <td>31.04</td>\n",
       "      <td>1</td>\n",
       "    </tr>\n",
       "    <tr>\n",
       "      <th>1</th>\n",
       "      <td>5575-gnvde</td>\n",
       "      <td>2017-04-01</td>\n",
       "      <td>2020-02-01</td>\n",
       "      <td>one year</td>\n",
       "      <td>no</td>\n",
       "      <td>mailed check</td>\n",
       "      <td>56.95</td>\n",
       "      <td>2071.84</td>\n",
       "      <td>1</td>\n",
       "    </tr>\n",
       "    <tr>\n",
       "      <th>2</th>\n",
       "      <td>3668-qpybk</td>\n",
       "      <td>2019-10-01</td>\n",
       "      <td>2020-02-01</td>\n",
       "      <td>month-to-month</td>\n",
       "      <td>yes</td>\n",
       "      <td>mailed check</td>\n",
       "      <td>53.85</td>\n",
       "      <td>226.17</td>\n",
       "      <td>1</td>\n",
       "    </tr>\n",
       "    <tr>\n",
       "      <th>3</th>\n",
       "      <td>7795-cfocw</td>\n",
       "      <td>2016-05-01</td>\n",
       "      <td>2020-02-01</td>\n",
       "      <td>one year</td>\n",
       "      <td>no</td>\n",
       "      <td>bank transfer (automatic)</td>\n",
       "      <td>42.30</td>\n",
       "      <td>1960.60</td>\n",
       "      <td>1</td>\n",
       "    </tr>\n",
       "    <tr>\n",
       "      <th>4</th>\n",
       "      <td>9237-hqitu</td>\n",
       "      <td>2019-09-01</td>\n",
       "      <td>2020-02-01</td>\n",
       "      <td>month-to-month</td>\n",
       "      <td>yes</td>\n",
       "      <td>electronic check</td>\n",
       "      <td>70.70</td>\n",
       "      <td>353.50</td>\n",
       "      <td>1</td>\n",
       "    </tr>\n",
       "    <tr>\n",
       "      <th>5</th>\n",
       "      <td>9305-cdskc</td>\n",
       "      <td>2019-03-01</td>\n",
       "      <td>2020-02-01</td>\n",
       "      <td>month-to-month</td>\n",
       "      <td>yes</td>\n",
       "      <td>electronic check</td>\n",
       "      <td>99.65</td>\n",
       "      <td>1150.96</td>\n",
       "      <td>1</td>\n",
       "    </tr>\n",
       "    <tr>\n",
       "      <th>6</th>\n",
       "      <td>1452-kiovk</td>\n",
       "      <td>2018-04-01</td>\n",
       "      <td>2020-02-01</td>\n",
       "      <td>month-to-month</td>\n",
       "      <td>yes</td>\n",
       "      <td>credit card (automatic)</td>\n",
       "      <td>89.10</td>\n",
       "      <td>2058.21</td>\n",
       "      <td>1</td>\n",
       "    </tr>\n",
       "    <tr>\n",
       "      <th>7</th>\n",
       "      <td>6713-okomc</td>\n",
       "      <td>2019-04-01</td>\n",
       "      <td>2020-02-01</td>\n",
       "      <td>month-to-month</td>\n",
       "      <td>no</td>\n",
       "      <td>mailed check</td>\n",
       "      <td>29.75</td>\n",
       "      <td>300.48</td>\n",
       "      <td>1</td>\n",
       "    </tr>\n",
       "    <tr>\n",
       "      <th>8</th>\n",
       "      <td>7892-pookp</td>\n",
       "      <td>2017-07-01</td>\n",
       "      <td>2020-02-01</td>\n",
       "      <td>month-to-month</td>\n",
       "      <td>yes</td>\n",
       "      <td>electronic check</td>\n",
       "      <td>104.80</td>\n",
       "      <td>3573.68</td>\n",
       "      <td>1</td>\n",
       "    </tr>\n",
       "    <tr>\n",
       "      <th>9</th>\n",
       "      <td>6388-tabgu</td>\n",
       "      <td>2014-12-01</td>\n",
       "      <td>2017-05-01</td>\n",
       "      <td>one year</td>\n",
       "      <td>no</td>\n",
       "      <td>bank transfer (automatic)</td>\n",
       "      <td>56.15</td>\n",
       "      <td>1628.35</td>\n",
       "      <td>0</td>\n",
       "    </tr>\n",
       "  </tbody>\n",
       "</table>\n",
       "</div>"
      ],
      "text/plain": [
       "   customerid  begindate    enddate            type paperlessbilling  \\\n",
       "0  7590-vhveg 2020-01-01 2020-02-01  month-to-month              yes   \n",
       "1  5575-gnvde 2017-04-01 2020-02-01        one year               no   \n",
       "2  3668-qpybk 2019-10-01 2020-02-01  month-to-month              yes   \n",
       "3  7795-cfocw 2016-05-01 2020-02-01        one year               no   \n",
       "4  9237-hqitu 2019-09-01 2020-02-01  month-to-month              yes   \n",
       "5  9305-cdskc 2019-03-01 2020-02-01  month-to-month              yes   \n",
       "6  1452-kiovk 2018-04-01 2020-02-01  month-to-month              yes   \n",
       "7  6713-okomc 2019-04-01 2020-02-01  month-to-month               no   \n",
       "8  7892-pookp 2017-07-01 2020-02-01  month-to-month              yes   \n",
       "9  6388-tabgu 2014-12-01 2017-05-01        one year               no   \n",
       "\n",
       "               paymentmethod  monthlycharges  totalcharges active  \n",
       "0           electronic check           29.85         31.04      1  \n",
       "1               mailed check           56.95       2071.84      1  \n",
       "2               mailed check           53.85        226.17      1  \n",
       "3  bank transfer (automatic)           42.30       1960.60      1  \n",
       "4           electronic check           70.70        353.50      1  \n",
       "5           electronic check           99.65       1150.96      1  \n",
       "6    credit card (automatic)           89.10       2058.21      1  \n",
       "7               mailed check           29.75        300.48      1  \n",
       "8           electronic check          104.80       3573.68      1  \n",
       "9  bank transfer (automatic)           56.15       1628.35      0  "
      ]
     },
     "execution_count": 16,
     "metadata": {},
     "output_type": "execute_result"
    }
   ],
   "source": [
    "contract_data['enddate'] = contract_data['enddate'].transform(lambda x: '2020-02-01' if x == 'no' else x)\n",
    "contract_data['enddate'] = pd.to_datetime(contract_data['enddate'])\n",
    "contract_data.head(10)"
   ]
  },
  {
   "cell_type": "markdown",
   "metadata": {},
   "source": [
    "Добавим столбец с количеством дней действия контракта"
   ]
  },
  {
   "cell_type": "code",
   "execution_count": 17,
   "metadata": {},
   "outputs": [
    {
     "data": {
      "text/html": [
       "<div>\n",
       "<style scoped>\n",
       "    .dataframe tbody tr th:only-of-type {\n",
       "        vertical-align: middle;\n",
       "    }\n",
       "\n",
       "    .dataframe tbody tr th {\n",
       "        vertical-align: top;\n",
       "    }\n",
       "\n",
       "    .dataframe thead th {\n",
       "        text-align: right;\n",
       "    }\n",
       "</style>\n",
       "<table border=\"1\" class=\"dataframe\">\n",
       "  <thead>\n",
       "    <tr style=\"text-align: right;\">\n",
       "      <th></th>\n",
       "      <th>customerid</th>\n",
       "      <th>begindate</th>\n",
       "      <th>enddate</th>\n",
       "      <th>type</th>\n",
       "      <th>paperlessbilling</th>\n",
       "      <th>paymentmethod</th>\n",
       "      <th>monthlycharges</th>\n",
       "      <th>totalcharges</th>\n",
       "      <th>active</th>\n",
       "      <th>duration</th>\n",
       "    </tr>\n",
       "  </thead>\n",
       "  <tbody>\n",
       "    <tr>\n",
       "      <th>0</th>\n",
       "      <td>7590-vhveg</td>\n",
       "      <td>2020-01-01</td>\n",
       "      <td>2020-02-01</td>\n",
       "      <td>month-to-month</td>\n",
       "      <td>yes</td>\n",
       "      <td>electronic check</td>\n",
       "      <td>29.85</td>\n",
       "      <td>31.04</td>\n",
       "      <td>1</td>\n",
       "      <td>31</td>\n",
       "    </tr>\n",
       "    <tr>\n",
       "      <th>1</th>\n",
       "      <td>5575-gnvde</td>\n",
       "      <td>2017-04-01</td>\n",
       "      <td>2020-02-01</td>\n",
       "      <td>one year</td>\n",
       "      <td>no</td>\n",
       "      <td>mailed check</td>\n",
       "      <td>56.95</td>\n",
       "      <td>2071.84</td>\n",
       "      <td>1</td>\n",
       "      <td>1036</td>\n",
       "    </tr>\n",
       "    <tr>\n",
       "      <th>2</th>\n",
       "      <td>3668-qpybk</td>\n",
       "      <td>2019-10-01</td>\n",
       "      <td>2020-02-01</td>\n",
       "      <td>month-to-month</td>\n",
       "      <td>yes</td>\n",
       "      <td>mailed check</td>\n",
       "      <td>53.85</td>\n",
       "      <td>226.17</td>\n",
       "      <td>1</td>\n",
       "      <td>123</td>\n",
       "    </tr>\n",
       "    <tr>\n",
       "      <th>3</th>\n",
       "      <td>7795-cfocw</td>\n",
       "      <td>2016-05-01</td>\n",
       "      <td>2020-02-01</td>\n",
       "      <td>one year</td>\n",
       "      <td>no</td>\n",
       "      <td>bank transfer (automatic)</td>\n",
       "      <td>42.30</td>\n",
       "      <td>1960.60</td>\n",
       "      <td>1</td>\n",
       "      <td>1371</td>\n",
       "    </tr>\n",
       "    <tr>\n",
       "      <th>4</th>\n",
       "      <td>9237-hqitu</td>\n",
       "      <td>2019-09-01</td>\n",
       "      <td>2020-02-01</td>\n",
       "      <td>month-to-month</td>\n",
       "      <td>yes</td>\n",
       "      <td>electronic check</td>\n",
       "      <td>70.70</td>\n",
       "      <td>353.50</td>\n",
       "      <td>1</td>\n",
       "      <td>153</td>\n",
       "    </tr>\n",
       "    <tr>\n",
       "      <th>5</th>\n",
       "      <td>9305-cdskc</td>\n",
       "      <td>2019-03-01</td>\n",
       "      <td>2020-02-01</td>\n",
       "      <td>month-to-month</td>\n",
       "      <td>yes</td>\n",
       "      <td>electronic check</td>\n",
       "      <td>99.65</td>\n",
       "      <td>1150.96</td>\n",
       "      <td>1</td>\n",
       "      <td>337</td>\n",
       "    </tr>\n",
       "    <tr>\n",
       "      <th>6</th>\n",
       "      <td>1452-kiovk</td>\n",
       "      <td>2018-04-01</td>\n",
       "      <td>2020-02-01</td>\n",
       "      <td>month-to-month</td>\n",
       "      <td>yes</td>\n",
       "      <td>credit card (automatic)</td>\n",
       "      <td>89.10</td>\n",
       "      <td>2058.21</td>\n",
       "      <td>1</td>\n",
       "      <td>671</td>\n",
       "    </tr>\n",
       "    <tr>\n",
       "      <th>7</th>\n",
       "      <td>6713-okomc</td>\n",
       "      <td>2019-04-01</td>\n",
       "      <td>2020-02-01</td>\n",
       "      <td>month-to-month</td>\n",
       "      <td>no</td>\n",
       "      <td>mailed check</td>\n",
       "      <td>29.75</td>\n",
       "      <td>300.48</td>\n",
       "      <td>1</td>\n",
       "      <td>306</td>\n",
       "    </tr>\n",
       "    <tr>\n",
       "      <th>8</th>\n",
       "      <td>7892-pookp</td>\n",
       "      <td>2017-07-01</td>\n",
       "      <td>2020-02-01</td>\n",
       "      <td>month-to-month</td>\n",
       "      <td>yes</td>\n",
       "      <td>electronic check</td>\n",
       "      <td>104.80</td>\n",
       "      <td>3573.68</td>\n",
       "      <td>1</td>\n",
       "      <td>945</td>\n",
       "    </tr>\n",
       "    <tr>\n",
       "      <th>9</th>\n",
       "      <td>6388-tabgu</td>\n",
       "      <td>2014-12-01</td>\n",
       "      <td>2017-05-01</td>\n",
       "      <td>one year</td>\n",
       "      <td>no</td>\n",
       "      <td>bank transfer (automatic)</td>\n",
       "      <td>56.15</td>\n",
       "      <td>1628.35</td>\n",
       "      <td>0</td>\n",
       "      <td>882</td>\n",
       "    </tr>\n",
       "  </tbody>\n",
       "</table>\n",
       "</div>"
      ],
      "text/plain": [
       "   customerid  begindate    enddate            type paperlessbilling  \\\n",
       "0  7590-vhveg 2020-01-01 2020-02-01  month-to-month              yes   \n",
       "1  5575-gnvde 2017-04-01 2020-02-01        one year               no   \n",
       "2  3668-qpybk 2019-10-01 2020-02-01  month-to-month              yes   \n",
       "3  7795-cfocw 2016-05-01 2020-02-01        one year               no   \n",
       "4  9237-hqitu 2019-09-01 2020-02-01  month-to-month              yes   \n",
       "5  9305-cdskc 2019-03-01 2020-02-01  month-to-month              yes   \n",
       "6  1452-kiovk 2018-04-01 2020-02-01  month-to-month              yes   \n",
       "7  6713-okomc 2019-04-01 2020-02-01  month-to-month               no   \n",
       "8  7892-pookp 2017-07-01 2020-02-01  month-to-month              yes   \n",
       "9  6388-tabgu 2014-12-01 2017-05-01        one year               no   \n",
       "\n",
       "               paymentmethod  monthlycharges  totalcharges active  duration  \n",
       "0           electronic check           29.85         31.04      1        31  \n",
       "1               mailed check           56.95       2071.84      1      1036  \n",
       "2               mailed check           53.85        226.17      1       123  \n",
       "3  bank transfer (automatic)           42.30       1960.60      1      1371  \n",
       "4           electronic check           70.70        353.50      1       153  \n",
       "5           electronic check           99.65       1150.96      1       337  \n",
       "6    credit card (automatic)           89.10       2058.21      1       671  \n",
       "7               mailed check           29.75        300.48      1       306  \n",
       "8           electronic check          104.80       3573.68      1       945  \n",
       "9  bank transfer (automatic)           56.15       1628.35      0       882  "
      ]
     },
     "execution_count": 17,
     "metadata": {},
     "output_type": "execute_result"
    }
   ],
   "source": [
    "contract_data['duration'] = contract_data['enddate'] - contract_data['begindate']\n",
    "contract_data['duration'] = contract_data['duration'] / np.timedelta64(1,'D')\n",
    "contract_data['duration'] = contract_data['duration'].astype('int64')\n",
    "contract_data.head(10)"
   ]
  },
  {
   "cell_type": "markdown",
   "metadata": {},
   "source": [
    "В последствии я думаю что столбец 'active' возьмем как целевой признак"
   ]
  },
  {
   "cell_type": "markdown",
   "metadata": {},
   "source": [
    "построим графики распределения данных"
   ]
  },
  {
   "cell_type": "code",
   "execution_count": 18,
   "metadata": {},
   "outputs": [
    {
     "data": {
      "image/png": "[encoded data removed]",
      "text/plain": [
       "<Figure size 936x936 with 5 Axes>"
      ]
     },
     "metadata": {
      "needs_background": "light"
     },
     "output_type": "display_data"
    }
   ],
   "source": [
    "fig = plt.figure(figsize=(13, 13))\n",
    "fig.subplots_adjust(wspace=0.25, hspace=0.25)\n",
    "\n",
    "fig.add_subplot(2, 3, 1)\n",
    "plt.hist(contract_data['paperlessbilling'])\n",
    "plt.grid()\n",
    "plt.title('PaperlessBilling')\n",
    "\n",
    "fig.add_subplot(2, 3, 2)\n",
    "plt.hist(contract_data['type'])\n",
    "plt.grid()\n",
    "plt.title('Type')\n",
    "plt.xticks(rotation=90)\n",
    "\n",
    "fig.add_subplot(2, 3, 3)\n",
    "plt.hist(contract_data['paymentmethod'])\n",
    "plt.grid()\n",
    "plt.title('PaymentMethod')\n",
    "plt.xticks(rotation=90)\n",
    "\n",
    "fig.add_subplot(2, 3, 4)\n",
    "plt.hist(contract_data['monthlycharges'])\n",
    "plt.grid()\n",
    "plt.title('MonthlyCharges')\n",
    "\n",
    "fig.add_subplot(2, 3, 5)\n",
    "plt.hist(contract_data['totalcharges'])\n",
    "plt.grid()\n",
    "plt.title('TotalCharges')\n",
    "\n",
    "plt.show()"
   ]
  },
  {
   "cell_type": "markdown",
   "metadata": {},
   "source": [
    "По графикам можно заметить, что бОльшая часть клиентов предпочитает электронный платёжный документ, также большинство выбирают ежемесячную оплату. У большога числа клиентов ежемесячные траты по договору не привышают 30 у.е.(нигде в данных не увидела валюту, в которой заполнены данные по суммам). График общей суммы показывает, что примерно 1000 человек из общего объема клиентов потратили более 2500 у.е.на оплату услуг.\n",
    "Рассмотрим график оттока клиентов"
   ]
  },
  {
   "cell_type": "code",
   "execution_count": 19,
   "metadata": {},
   "outputs": [
    {
     "data": {
      "image/png": "[encoded data removed]",
      "text/plain": [
       "<Figure size 1080x504 with 2 Axes>"
      ]
     },
     "metadata": {
      "needs_background": "light"
     },
     "output_type": "display_data"
    }
   ],
   "source": [
    "fig = plt.figure(figsize=(15, 7))\n",
    "fig.subplots_adjust(wspace=0.25, hspace=0.25)\n",
    "\n",
    "fig.add_subplot(1, 2, 1)\n",
    "plt.hist(contract_data['begindate'])\n",
    "plt.grid()\n",
    "plt.title('BeginDate')\n",
    "\n",
    "fig.add_subplot(1, 2, 2)\n",
    "plt.hist(contract_data['enddate'])\n",
    "plt.grid()\n",
    "plt.xticks(rotation=90)\n",
    "plt.title('EndDate')\n",
    "\n",
    "plt.show()"
   ]
  },
  {
   "cell_type": "markdown",
   "metadata": {},
   "source": [
    "Видим, что больше всего расторгнутых договоров (это видно на втором графике) у нас в 2020 - но это искусственное завышение, т.к.мы изменили значение даты расторжения договора на последнюю актуальную дату (2020г). в остальные года видим, что в период с начала 2015г до третьей декады 2015г и примерно со второй декады до конца 2016г был спад в оформлении договоров, далее, объемы заклученных договоров увеличивались, причем с 2018г до 2020г объемы увеличились более чем в 2 раза.\n",
    "Что касается расторжения договоров - мы видим также растущий тренд, сравнивая кол-во пришедших и ушедших клиентов - можно сказать что период с 2016 по 2017гг были самые не удачные."
   ]
  },
  {
   "cell_type": "markdown",
   "metadata": {},
   "source": [
    "Посмотрим на распределения значений в таблице с персональными данными"
   ]
  },
  {
   "cell_type": "code",
   "execution_count": 20,
   "metadata": {},
   "outputs": [
    {
     "data": {
      "image/png": "[encoded data removed]",
      "text/plain": [
       "<Figure size 936x504 with 4 Axes>"
      ]
     },
     "metadata": {
      "needs_background": "light"
     },
     "output_type": "display_data"
    }
   ],
   "source": [
    "fig = plt.figure(figsize=(13, 7))\n",
    "for i in range(1, 5):\n",
    "    fig.add_subplot(1, 4, i)\n",
    "    plt.hist(personal_data[personal_data.columns[i]])\n",
    "    plt.grid()\n",
    "    plt.title(personal_data.columns[i])\n",
    "    plt.tight_layout()"
   ]
  },
  {
   "cell_type": "markdown",
   "metadata": {},
   "source": [
    "Судя по графикам мы можем сказать, что у нас в базе примерно поровну клиентов мужского и женского пола, гораздо меньше пенсионеров и людей с иждивенцами. Клиенты, имеющие партнера, также, разделились примерно по-ровну.\n",
    "\n",
    "Посомтрим на распределение значений в таблице с интернет-услугами"
   ]
  },
  {
   "cell_type": "code",
   "execution_count": 21,
   "metadata": {},
   "outputs": [
    {
     "data": {
      "image/png": "[encoded data removed]",
      "text/plain": [
       "<Figure size 936x504 with 7 Axes>"
      ]
     },
     "metadata": {
      "needs_background": "light"
     },
     "output_type": "display_data"
    }
   ],
   "source": [
    "fig = plt.figure(figsize=(13, 7))\n",
    "for i in range(1, 8):\n",
    "    fig.add_subplot(2, 4, i)\n",
    "    plt.hist(internet_data[internet_data.columns[i]])\n",
    "    plt.grid()\n",
    "    plt.title(internet_data.columns[i])\n",
    "    plt.tight_layout()"
   ]
  },
  {
   "cell_type": "markdown",
   "metadata": {},
   "source": [
    "Исходя из графиков, можно сделать вывод, что киентов, предпочетающих оптоволоконное соединение больше. Также больше и клиентов, которые принебрегают онлайн-защитой, не пользуются облачным хранилищем, не обращаются в техподдержку. Клиентов, которые пользуется стримминговыми сервисами по просмотру тв и видео примерно половина, из общего числа клиентов.\n",
    "\n",
    "Осталось посмотреть, как рапределились значения в таблице, хранящей только одну услугу - это многоканальную линию"
   ]
  },
  {
   "cell_type": "code",
   "execution_count": 22,
   "metadata": {},
   "outputs": [
    {
     "data": {
      "image/png": "[encoded data removed]",
      "text/plain": [
       "<Figure size 360x360 with 1 Axes>"
      ]
     },
     "metadata": {
      "needs_background": "light"
     },
     "output_type": "display_data"
    }
   ],
   "source": [
    "phone_data['multiplelines'].hist(figsize=(5, 5))\n",
    "plt.show()"
   ]
  },
  {
   "cell_type": "markdown",
   "metadata": {},
   "source": [
    "Видим, что у большинства клиентов эта услуга не подключена."
   ]
  },
  {
   "cell_type": "markdown",
   "metadata": {},
   "source": [
    "Промежуточный вывод: Мы загрузили 4 таблицы, посмотрели распределение данных в этих таблицах. В некторые таблицы дополнительно добавили новые столбцы, которые помогут нам в обучении моделей - добавили целевой признак (значение расторгнут ли договор, либо еще действующий).\n",
    "\n",
    "Во многих столбцах встречаются категориальные значения, которые мы в будующем закодируем.\n",
    "\n",
    "Прежде чем приступать к обучению моделей, нам понадобится объединить 4 таблицы в одну, провести анализ коллинеарности, чтобы оставить необходимые для обучения признаки, а лишние удалить.\n",
    "Т.К. 4 таблицы у нас не объема, пр объединении появятся пустые поля - заполним эти поля (будем подбирать значения индивидуально, смотря где будут пропуски)\n",
    "Разделим наши данные на 2 выборки с соотнощшением 3/1\n",
    "Возьмем (простые для меня) модели логистической регрессии, случайного леса и градиентоного бустинга, в них будем подбирать гиперпараметри с помощью GridSearch и сравнивать их по метрике AUC-ROC, нам важно добиться значения больше 0,85\n",
    "На тест возьмем лучшую модель и на ней уже посчитаем метрику Accuracy"
   ]
  },
  {
   "cell_type": "markdown",
   "metadata": {},
   "source": [
    "Часть 2"
   ]
  },
  {
   "cell_type": "markdown",
   "metadata": {},
   "source": [
    "Объединяем таблицы по customerid"
   ]
  },
  {
   "cell_type": "code",
   "execution_count": 23,
   "metadata": {},
   "outputs": [],
   "source": [
    "big_data = contract_data.merge(personal_data, on='customerid', how='outer').merge(internet_data, on='customerid', how='outer').merge(phone_data, on='customerid', how='outer')"
   ]
  },
  {
   "cell_type": "code",
   "execution_count": 24,
   "metadata": {},
   "outputs": [
    {
     "data": {
      "text/html": [
       "<div>\n",
       "<style scoped>\n",
       "    .dataframe tbody tr th:only-of-type {\n",
       "        vertical-align: middle;\n",
       "    }\n",
       "\n",
       "    .dataframe tbody tr th {\n",
       "        vertical-align: top;\n",
       "    }\n",
       "\n",
       "    .dataframe thead th {\n",
       "        text-align: right;\n",
       "    }\n",
       "</style>\n",
       "<table border=\"1\" class=\"dataframe\">\n",
       "  <thead>\n",
       "    <tr style=\"text-align: right;\">\n",
       "      <th></th>\n",
       "      <th>customerid</th>\n",
       "      <th>begindate</th>\n",
       "      <th>enddate</th>\n",
       "      <th>type</th>\n",
       "      <th>paperlessbilling</th>\n",
       "      <th>paymentmethod</th>\n",
       "      <th>monthlycharges</th>\n",
       "      <th>totalcharges</th>\n",
       "      <th>active</th>\n",
       "      <th>duration</th>\n",
       "      <th>...</th>\n",
       "      <th>partner</th>\n",
       "      <th>dependents</th>\n",
       "      <th>internetservice</th>\n",
       "      <th>onlinesecurity</th>\n",
       "      <th>onlinebackup</th>\n",
       "      <th>deviceprotection</th>\n",
       "      <th>techsupport</th>\n",
       "      <th>streamingtv</th>\n",
       "      <th>streamingmovies</th>\n",
       "      <th>multiplelines</th>\n",
       "    </tr>\n",
       "  </thead>\n",
       "  <tbody>\n",
       "    <tr>\n",
       "      <th>0</th>\n",
       "      <td>7590-vhveg</td>\n",
       "      <td>2020-01-01</td>\n",
       "      <td>2020-02-01</td>\n",
       "      <td>month-to-month</td>\n",
       "      <td>yes</td>\n",
       "      <td>electronic check</td>\n",
       "      <td>29.85</td>\n",
       "      <td>31.04</td>\n",
       "      <td>1</td>\n",
       "      <td>31</td>\n",
       "      <td>...</td>\n",
       "      <td>yes</td>\n",
       "      <td>no</td>\n",
       "      <td>dsl</td>\n",
       "      <td>no</td>\n",
       "      <td>yes</td>\n",
       "      <td>no</td>\n",
       "      <td>no</td>\n",
       "      <td>no</td>\n",
       "      <td>no</td>\n",
       "      <td>NaN</td>\n",
       "    </tr>\n",
       "    <tr>\n",
       "      <th>1</th>\n",
       "      <td>5575-gnvde</td>\n",
       "      <td>2017-04-01</td>\n",
       "      <td>2020-02-01</td>\n",
       "      <td>one year</td>\n",
       "      <td>no</td>\n",
       "      <td>mailed check</td>\n",
       "      <td>56.95</td>\n",
       "      <td>2071.84</td>\n",
       "      <td>1</td>\n",
       "      <td>1036</td>\n",
       "      <td>...</td>\n",
       "      <td>no</td>\n",
       "      <td>no</td>\n",
       "      <td>dsl</td>\n",
       "      <td>yes</td>\n",
       "      <td>no</td>\n",
       "      <td>yes</td>\n",
       "      <td>no</td>\n",
       "      <td>no</td>\n",
       "      <td>no</td>\n",
       "      <td>no</td>\n",
       "    </tr>\n",
       "    <tr>\n",
       "      <th>2</th>\n",
       "      <td>3668-qpybk</td>\n",
       "      <td>2019-10-01</td>\n",
       "      <td>2020-02-01</td>\n",
       "      <td>month-to-month</td>\n",
       "      <td>yes</td>\n",
       "      <td>mailed check</td>\n",
       "      <td>53.85</td>\n",
       "      <td>226.17</td>\n",
       "      <td>1</td>\n",
       "      <td>123</td>\n",
       "      <td>...</td>\n",
       "      <td>no</td>\n",
       "      <td>no</td>\n",
       "      <td>dsl</td>\n",
       "      <td>yes</td>\n",
       "      <td>yes</td>\n",
       "      <td>no</td>\n",
       "      <td>no</td>\n",
       "      <td>no</td>\n",
       "      <td>no</td>\n",
       "      <td>no</td>\n",
       "    </tr>\n",
       "    <tr>\n",
       "      <th>3</th>\n",
       "      <td>7795-cfocw</td>\n",
       "      <td>2016-05-01</td>\n",
       "      <td>2020-02-01</td>\n",
       "      <td>one year</td>\n",
       "      <td>no</td>\n",
       "      <td>bank transfer (automatic)</td>\n",
       "      <td>42.30</td>\n",
       "      <td>1960.60</td>\n",
       "      <td>1</td>\n",
       "      <td>1371</td>\n",
       "      <td>...</td>\n",
       "      <td>no</td>\n",
       "      <td>no</td>\n",
       "      <td>dsl</td>\n",
       "      <td>yes</td>\n",
       "      <td>no</td>\n",
       "      <td>yes</td>\n",
       "      <td>yes</td>\n",
       "      <td>no</td>\n",
       "      <td>no</td>\n",
       "      <td>NaN</td>\n",
       "    </tr>\n",
       "    <tr>\n",
       "      <th>4</th>\n",
       "      <td>9237-hqitu</td>\n",
       "      <td>2019-09-01</td>\n",
       "      <td>2020-02-01</td>\n",
       "      <td>month-to-month</td>\n",
       "      <td>yes</td>\n",
       "      <td>electronic check</td>\n",
       "      <td>70.70</td>\n",
       "      <td>353.50</td>\n",
       "      <td>1</td>\n",
       "      <td>153</td>\n",
       "      <td>...</td>\n",
       "      <td>no</td>\n",
       "      <td>no</td>\n",
       "      <td>fiber optic</td>\n",
       "      <td>no</td>\n",
       "      <td>no</td>\n",
       "      <td>no</td>\n",
       "      <td>no</td>\n",
       "      <td>no</td>\n",
       "      <td>no</td>\n",
       "      <td>no</td>\n",
       "    </tr>\n",
       "  </tbody>\n",
       "</table>\n",
       "<p>5 rows × 22 columns</p>\n",
       "</div>"
      ],
      "text/plain": [
       "   customerid  begindate    enddate            type paperlessbilling  \\\n",
       "0  7590-vhveg 2020-01-01 2020-02-01  month-to-month              yes   \n",
       "1  5575-gnvde 2017-04-01 2020-02-01        one year               no   \n",
       "2  3668-qpybk 2019-10-01 2020-02-01  month-to-month              yes   \n",
       "3  7795-cfocw 2016-05-01 2020-02-01        one year               no   \n",
       "4  9237-hqitu 2019-09-01 2020-02-01  month-to-month              yes   \n",
       "\n",
       "               paymentmethod  monthlycharges  totalcharges active  duration  \\\n",
       "0           electronic check           29.85         31.04      1        31   \n",
       "1               mailed check           56.95       2071.84      1      1036   \n",
       "2               mailed check           53.85        226.17      1       123   \n",
       "3  bank transfer (automatic)           42.30       1960.60      1      1371   \n",
       "4           electronic check           70.70        353.50      1       153   \n",
       "\n",
       "   ... partner  dependents internetservice onlinesecurity onlinebackup  \\\n",
       "0  ...     yes          no             dsl             no          yes   \n",
       "1  ...      no          no             dsl            yes           no   \n",
       "2  ...      no          no             dsl            yes          yes   \n",
       "3  ...      no          no             dsl            yes           no   \n",
       "4  ...      no          no     fiber optic             no           no   \n",
       "\n",
       "  deviceprotection techsupport streamingtv streamingmovies multiplelines  \n",
       "0               no          no          no              no           NaN  \n",
       "1              yes          no          no              no            no  \n",
       "2               no          no          no              no            no  \n",
       "3              yes         yes          no              no           NaN  \n",
       "4               no          no          no              no            no  \n",
       "\n",
       "[5 rows x 22 columns]"
      ]
     },
     "execution_count": 24,
     "metadata": {},
     "output_type": "execute_result"
    }
   ],
   "source": [
    "big_data.head()"
   ]
  },
  {
   "cell_type": "markdown",
   "metadata": {},
   "source": [
    "смотрим наличие пропусков в данных"
   ]
  },
  {
   "cell_type": "code",
   "execution_count": 25,
   "metadata": {},
   "outputs": [
    {
     "name": "stdout",
     "output_type": "stream",
     "text": [
      "<class 'pandas.core.frame.DataFrame'>\n",
      "Int64Index: 7043 entries, 0 to 7042\n",
      "Data columns (total 22 columns):\n",
      " #   Column            Non-Null Count  Dtype         \n",
      "---  ------            --------------  -----         \n",
      " 0   customerid        7043 non-null   object        \n",
      " 1   begindate         7043 non-null   datetime64[ns]\n",
      " 2   enddate           7043 non-null   datetime64[ns]\n",
      " 3   type              7043 non-null   object        \n",
      " 4   paperlessbilling  7043 non-null   object        \n",
      " 5   paymentmethod     7043 non-null   object        \n",
      " 6   monthlycharges    7043 non-null   float64       \n",
      " 7   totalcharges      7032 non-null   float64       \n",
      " 8   active            7043 non-null   object        \n",
      " 9   duration          7043 non-null   int64         \n",
      " 10  gender            7043 non-null   object        \n",
      " 11  seniorcitizen     7043 non-null   int64         \n",
      " 12  partner           7043 non-null   object        \n",
      " 13  dependents        7043 non-null   object        \n",
      " 14  internetservice   5517 non-null   object        \n",
      " 15  onlinesecurity    5517 non-null   object        \n",
      " 16  onlinebackup      5517 non-null   object        \n",
      " 17  deviceprotection  5517 non-null   object        \n",
      " 18  techsupport       5517 non-null   object        \n",
      " 19  streamingtv       5517 non-null   object        \n",
      " 20  streamingmovies   5517 non-null   object        \n",
      " 21  multiplelines     6361 non-null   object        \n",
      "dtypes: datetime64[ns](2), float64(2), int64(2), object(16)\n",
      "memory usage: 1.2+ MB\n"
     ]
    }
   ],
   "source": [
    "big_data.info()"
   ]
  },
  {
   "cell_type": "markdown",
   "metadata": {},
   "source": [
    "видим пропуски в столбце totalcharges (сумма потраченная на услуги - проверим дату подключения по договору, вероятно это новые абоненты),и в столбцах с доп услугами, таким как тех.поддержка, стримминговые сервисы, многоканальность - эти пропуски заменим на одинаковую заглушку "
   ]
  },
  {
   "cell_type": "code",
   "execution_count": 26,
   "metadata": {},
   "outputs": [
    {
     "data": {
      "text/html": [
       "<div>\n",
       "<style scoped>\n",
       "    .dataframe tbody tr th:only-of-type {\n",
       "        vertical-align: middle;\n",
       "    }\n",
       "\n",
       "    .dataframe tbody tr th {\n",
       "        vertical-align: top;\n",
       "    }\n",
       "\n",
       "    .dataframe thead th {\n",
       "        text-align: right;\n",
       "    }\n",
       "</style>\n",
       "<table border=\"1\" class=\"dataframe\">\n",
       "  <thead>\n",
       "    <tr style=\"text-align: right;\">\n",
       "      <th></th>\n",
       "      <th>customerid</th>\n",
       "      <th>begindate</th>\n",
       "      <th>enddate</th>\n",
       "      <th>type</th>\n",
       "      <th>paperlessbilling</th>\n",
       "      <th>paymentmethod</th>\n",
       "      <th>monthlycharges</th>\n",
       "      <th>totalcharges</th>\n",
       "      <th>active</th>\n",
       "      <th>duration</th>\n",
       "      <th>...</th>\n",
       "      <th>partner</th>\n",
       "      <th>dependents</th>\n",
       "      <th>internetservice</th>\n",
       "      <th>onlinesecurity</th>\n",
       "      <th>onlinebackup</th>\n",
       "      <th>deviceprotection</th>\n",
       "      <th>techsupport</th>\n",
       "      <th>streamingtv</th>\n",
       "      <th>streamingmovies</th>\n",
       "      <th>multiplelines</th>\n",
       "    </tr>\n",
       "  </thead>\n",
       "  <tbody>\n",
       "    <tr>\n",
       "      <th>488</th>\n",
       "      <td>4472-lvygi</td>\n",
       "      <td>2020-02-01</td>\n",
       "      <td>2020-02-01</td>\n",
       "      <td>two year</td>\n",
       "      <td>yes</td>\n",
       "      <td>bank transfer (automatic)</td>\n",
       "      <td>52.55</td>\n",
       "      <td>NaN</td>\n",
       "      <td>1</td>\n",
       "      <td>0</td>\n",
       "      <td>...</td>\n",
       "      <td>yes</td>\n",
       "      <td>yes</td>\n",
       "      <td>dsl</td>\n",
       "      <td>yes</td>\n",
       "      <td>no</td>\n",
       "      <td>yes</td>\n",
       "      <td>yes</td>\n",
       "      <td>yes</td>\n",
       "      <td>no</td>\n",
       "      <td>NaN</td>\n",
       "    </tr>\n",
       "    <tr>\n",
       "      <th>753</th>\n",
       "      <td>3115-czmzd</td>\n",
       "      <td>2020-02-01</td>\n",
       "      <td>2020-02-01</td>\n",
       "      <td>two year</td>\n",
       "      <td>no</td>\n",
       "      <td>mailed check</td>\n",
       "      <td>20.25</td>\n",
       "      <td>NaN</td>\n",
       "      <td>1</td>\n",
       "      <td>0</td>\n",
       "      <td>...</td>\n",
       "      <td>no</td>\n",
       "      <td>yes</td>\n",
       "      <td>NaN</td>\n",
       "      <td>NaN</td>\n",
       "      <td>NaN</td>\n",
       "      <td>NaN</td>\n",
       "      <td>NaN</td>\n",
       "      <td>NaN</td>\n",
       "      <td>NaN</td>\n",
       "      <td>no</td>\n",
       "    </tr>\n",
       "    <tr>\n",
       "      <th>936</th>\n",
       "      <td>5709-lvoeq</td>\n",
       "      <td>2020-02-01</td>\n",
       "      <td>2020-02-01</td>\n",
       "      <td>two year</td>\n",
       "      <td>no</td>\n",
       "      <td>mailed check</td>\n",
       "      <td>80.85</td>\n",
       "      <td>NaN</td>\n",
       "      <td>1</td>\n",
       "      <td>0</td>\n",
       "      <td>...</td>\n",
       "      <td>yes</td>\n",
       "      <td>yes</td>\n",
       "      <td>dsl</td>\n",
       "      <td>yes</td>\n",
       "      <td>yes</td>\n",
       "      <td>yes</td>\n",
       "      <td>no</td>\n",
       "      <td>yes</td>\n",
       "      <td>yes</td>\n",
       "      <td>no</td>\n",
       "    </tr>\n",
       "    <tr>\n",
       "      <th>1082</th>\n",
       "      <td>4367-nuyao</td>\n",
       "      <td>2020-02-01</td>\n",
       "      <td>2020-02-01</td>\n",
       "      <td>two year</td>\n",
       "      <td>no</td>\n",
       "      <td>mailed check</td>\n",
       "      <td>25.75</td>\n",
       "      <td>NaN</td>\n",
       "      <td>1</td>\n",
       "      <td>0</td>\n",
       "      <td>...</td>\n",
       "      <td>yes</td>\n",
       "      <td>yes</td>\n",
       "      <td>NaN</td>\n",
       "      <td>NaN</td>\n",
       "      <td>NaN</td>\n",
       "      <td>NaN</td>\n",
       "      <td>NaN</td>\n",
       "      <td>NaN</td>\n",
       "      <td>NaN</td>\n",
       "      <td>yes</td>\n",
       "    </tr>\n",
       "    <tr>\n",
       "      <th>1340</th>\n",
       "      <td>1371-dwpaz</td>\n",
       "      <td>2020-02-01</td>\n",
       "      <td>2020-02-01</td>\n",
       "      <td>two year</td>\n",
       "      <td>no</td>\n",
       "      <td>credit card (automatic)</td>\n",
       "      <td>56.05</td>\n",
       "      <td>NaN</td>\n",
       "      <td>1</td>\n",
       "      <td>0</td>\n",
       "      <td>...</td>\n",
       "      <td>yes</td>\n",
       "      <td>yes</td>\n",
       "      <td>dsl</td>\n",
       "      <td>yes</td>\n",
       "      <td>yes</td>\n",
       "      <td>yes</td>\n",
       "      <td>yes</td>\n",
       "      <td>yes</td>\n",
       "      <td>no</td>\n",
       "      <td>NaN</td>\n",
       "    </tr>\n",
       "    <tr>\n",
       "      <th>3331</th>\n",
       "      <td>7644-omvmy</td>\n",
       "      <td>2020-02-01</td>\n",
       "      <td>2020-02-01</td>\n",
       "      <td>two year</td>\n",
       "      <td>no</td>\n",
       "      <td>mailed check</td>\n",
       "      <td>19.85</td>\n",
       "      <td>NaN</td>\n",
       "      <td>1</td>\n",
       "      <td>0</td>\n",
       "      <td>...</td>\n",
       "      <td>yes</td>\n",
       "      <td>yes</td>\n",
       "      <td>NaN</td>\n",
       "      <td>NaN</td>\n",
       "      <td>NaN</td>\n",
       "      <td>NaN</td>\n",
       "      <td>NaN</td>\n",
       "      <td>NaN</td>\n",
       "      <td>NaN</td>\n",
       "      <td>no</td>\n",
       "    </tr>\n",
       "    <tr>\n",
       "      <th>3826</th>\n",
       "      <td>3213-vvolg</td>\n",
       "      <td>2020-02-01</td>\n",
       "      <td>2020-02-01</td>\n",
       "      <td>two year</td>\n",
       "      <td>no</td>\n",
       "      <td>mailed check</td>\n",
       "      <td>25.35</td>\n",
       "      <td>NaN</td>\n",
       "      <td>1</td>\n",
       "      <td>0</td>\n",
       "      <td>...</td>\n",
       "      <td>yes</td>\n",
       "      <td>yes</td>\n",
       "      <td>NaN</td>\n",
       "      <td>NaN</td>\n",
       "      <td>NaN</td>\n",
       "      <td>NaN</td>\n",
       "      <td>NaN</td>\n",
       "      <td>NaN</td>\n",
       "      <td>NaN</td>\n",
       "      <td>yes</td>\n",
       "    </tr>\n",
       "    <tr>\n",
       "      <th>4380</th>\n",
       "      <td>2520-sgtta</td>\n",
       "      <td>2020-02-01</td>\n",
       "      <td>2020-02-01</td>\n",
       "      <td>two year</td>\n",
       "      <td>no</td>\n",
       "      <td>mailed check</td>\n",
       "      <td>20.00</td>\n",
       "      <td>NaN</td>\n",
       "      <td>1</td>\n",
       "      <td>0</td>\n",
       "      <td>...</td>\n",
       "      <td>yes</td>\n",
       "      <td>yes</td>\n",
       "      <td>NaN</td>\n",
       "      <td>NaN</td>\n",
       "      <td>NaN</td>\n",
       "      <td>NaN</td>\n",
       "      <td>NaN</td>\n",
       "      <td>NaN</td>\n",
       "      <td>NaN</td>\n",
       "      <td>no</td>\n",
       "    </tr>\n",
       "    <tr>\n",
       "      <th>5218</th>\n",
       "      <td>2923-arzlg</td>\n",
       "      <td>2020-02-01</td>\n",
       "      <td>2020-02-01</td>\n",
       "      <td>one year</td>\n",
       "      <td>yes</td>\n",
       "      <td>mailed check</td>\n",
       "      <td>19.70</td>\n",
       "      <td>NaN</td>\n",
       "      <td>1</td>\n",
       "      <td>0</td>\n",
       "      <td>...</td>\n",
       "      <td>yes</td>\n",
       "      <td>yes</td>\n",
       "      <td>NaN</td>\n",
       "      <td>NaN</td>\n",
       "      <td>NaN</td>\n",
       "      <td>NaN</td>\n",
       "      <td>NaN</td>\n",
       "      <td>NaN</td>\n",
       "      <td>NaN</td>\n",
       "      <td>no</td>\n",
       "    </tr>\n",
       "    <tr>\n",
       "      <th>6670</th>\n",
       "      <td>4075-wkniu</td>\n",
       "      <td>2020-02-01</td>\n",
       "      <td>2020-02-01</td>\n",
       "      <td>two year</td>\n",
       "      <td>no</td>\n",
       "      <td>mailed check</td>\n",
       "      <td>73.35</td>\n",
       "      <td>NaN</td>\n",
       "      <td>1</td>\n",
       "      <td>0</td>\n",
       "      <td>...</td>\n",
       "      <td>yes</td>\n",
       "      <td>yes</td>\n",
       "      <td>dsl</td>\n",
       "      <td>no</td>\n",
       "      <td>yes</td>\n",
       "      <td>yes</td>\n",
       "      <td>yes</td>\n",
       "      <td>yes</td>\n",
       "      <td>no</td>\n",
       "      <td>yes</td>\n",
       "    </tr>\n",
       "    <tr>\n",
       "      <th>6754</th>\n",
       "      <td>2775-sefee</td>\n",
       "      <td>2020-02-01</td>\n",
       "      <td>2020-02-01</td>\n",
       "      <td>two year</td>\n",
       "      <td>yes</td>\n",
       "      <td>bank transfer (automatic)</td>\n",
       "      <td>61.90</td>\n",
       "      <td>NaN</td>\n",
       "      <td>1</td>\n",
       "      <td>0</td>\n",
       "      <td>...</td>\n",
       "      <td>no</td>\n",
       "      <td>yes</td>\n",
       "      <td>dsl</td>\n",
       "      <td>yes</td>\n",
       "      <td>yes</td>\n",
       "      <td>no</td>\n",
       "      <td>yes</td>\n",
       "      <td>no</td>\n",
       "      <td>no</td>\n",
       "      <td>yes</td>\n",
       "    </tr>\n",
       "  </tbody>\n",
       "</table>\n",
       "<p>11 rows × 22 columns</p>\n",
       "</div>"
      ],
      "text/plain": [
       "      customerid  begindate    enddate      type paperlessbilling  \\\n",
       "488   4472-lvygi 2020-02-01 2020-02-01  two year              yes   \n",
       "753   3115-czmzd 2020-02-01 2020-02-01  two year               no   \n",
       "936   5709-lvoeq 2020-02-01 2020-02-01  two year               no   \n",
       "1082  4367-nuyao 2020-02-01 2020-02-01  two year               no   \n",
       "1340  1371-dwpaz 2020-02-01 2020-02-01  two year               no   \n",
       "3331  7644-omvmy 2020-02-01 2020-02-01  two year               no   \n",
       "3826  3213-vvolg 2020-02-01 2020-02-01  two year               no   \n",
       "4380  2520-sgtta 2020-02-01 2020-02-01  two year               no   \n",
       "5218  2923-arzlg 2020-02-01 2020-02-01  one year              yes   \n",
       "6670  4075-wkniu 2020-02-01 2020-02-01  two year               no   \n",
       "6754  2775-sefee 2020-02-01 2020-02-01  two year              yes   \n",
       "\n",
       "                  paymentmethod  monthlycharges  totalcharges active  \\\n",
       "488   bank transfer (automatic)           52.55           NaN      1   \n",
       "753                mailed check           20.25           NaN      1   \n",
       "936                mailed check           80.85           NaN      1   \n",
       "1082               mailed check           25.75           NaN      1   \n",
       "1340    credit card (automatic)           56.05           NaN      1   \n",
       "3331               mailed check           19.85           NaN      1   \n",
       "3826               mailed check           25.35           NaN      1   \n",
       "4380               mailed check           20.00           NaN      1   \n",
       "5218               mailed check           19.70           NaN      1   \n",
       "6670               mailed check           73.35           NaN      1   \n",
       "6754  bank transfer (automatic)           61.90           NaN      1   \n",
       "\n",
       "      duration  ... partner  dependents internetservice onlinesecurity  \\\n",
       "488          0  ...     yes         yes             dsl            yes   \n",
       "753          0  ...      no         yes             NaN            NaN   \n",
       "936          0  ...     yes         yes             dsl            yes   \n",
       "1082         0  ...     yes         yes             NaN            NaN   \n",
       "1340         0  ...     yes         yes             dsl            yes   \n",
       "3331         0  ...     yes         yes             NaN            NaN   \n",
       "3826         0  ...     yes         yes             NaN            NaN   \n",
       "4380         0  ...     yes         yes             NaN            NaN   \n",
       "5218         0  ...     yes         yes             NaN            NaN   \n",
       "6670         0  ...     yes         yes             dsl             no   \n",
       "6754         0  ...      no         yes             dsl            yes   \n",
       "\n",
       "     onlinebackup deviceprotection techsupport streamingtv streamingmovies  \\\n",
       "488            no              yes         yes         yes              no   \n",
       "753           NaN              NaN         NaN         NaN             NaN   \n",
       "936           yes              yes          no         yes             yes   \n",
       "1082          NaN              NaN         NaN         NaN             NaN   \n",
       "1340          yes              yes         yes         yes              no   \n",
       "3331          NaN              NaN         NaN         NaN             NaN   \n",
       "3826          NaN              NaN         NaN         NaN             NaN   \n",
       "4380          NaN              NaN         NaN         NaN             NaN   \n",
       "5218          NaN              NaN         NaN         NaN             NaN   \n",
       "6670          yes              yes         yes         yes              no   \n",
       "6754          yes               no         yes          no              no   \n",
       "\n",
       "     multiplelines  \n",
       "488            NaN  \n",
       "753             no  \n",
       "936             no  \n",
       "1082           yes  \n",
       "1340           NaN  \n",
       "3331            no  \n",
       "3826           yes  \n",
       "4380            no  \n",
       "5218            no  \n",
       "6670           yes  \n",
       "6754           yes  \n",
       "\n",
       "[11 rows x 22 columns]"
      ]
     },
     "metadata": {},
     "output_type": "display_data"
    }
   ],
   "source": [
    "filtered_big_data = big_data[big_data['totalcharges'].isnull()]\n",
    "display(filtered_big_data)"
   ]
  },
  {
   "cell_type": "markdown",
   "metadata": {},
   "source": [
    "Видим что действительно, 11 человек подптсали договор в последнюю актуальную дату полученой базы, поэтому заполним значения в столбце totalcharges медианными значениями, объем незаполненных значений не значительный, не думаю что это повлияет на работу моделей."
   ]
  },
  {
   "cell_type": "code",
   "execution_count": 29,
   "metadata": {},
   "outputs": [],
   "source": [
    "big_data['totalcharges'] = big_data['totalcharges'].fillna(0)"
   ]
  },
  {
   "cell_type": "code",
   "execution_count": 30,
   "metadata": {},
   "outputs": [
    {
     "name": "stdout",
     "output_type": "stream",
     "text": [
      "<class 'pandas.core.frame.DataFrame'>\n",
      "Int64Index: 7043 entries, 0 to 7042\n",
      "Data columns (total 22 columns):\n",
      " #   Column            Non-Null Count  Dtype         \n",
      "---  ------            --------------  -----         \n",
      " 0   customerid        7043 non-null   object        \n",
      " 1   begindate         7043 non-null   datetime64[ns]\n",
      " 2   enddate           7043 non-null   datetime64[ns]\n",
      " 3   type              7043 non-null   object        \n",
      " 4   paperlessbilling  7043 non-null   object        \n",
      " 5   paymentmethod     7043 non-null   object        \n",
      " 6   monthlycharges    7043 non-null   float64       \n",
      " 7   totalcharges      7043 non-null   float64       \n",
      " 8   active            7043 non-null   object        \n",
      " 9   duration          7043 non-null   int64         \n",
      " 10  gender            7043 non-null   object        \n",
      " 11  seniorcitizen     7043 non-null   int64         \n",
      " 12  partner           7043 non-null   object        \n",
      " 13  dependents        7043 non-null   object        \n",
      " 14  internetservice   5517 non-null   object        \n",
      " 15  onlinesecurity    5517 non-null   object        \n",
      " 16  onlinebackup      5517 non-null   object        \n",
      " 17  deviceprotection  5517 non-null   object        \n",
      " 18  techsupport       5517 non-null   object        \n",
      " 19  streamingtv       5517 non-null   object        \n",
      " 20  streamingmovies   5517 non-null   object        \n",
      " 21  multiplelines     6361 non-null   object        \n",
      "dtypes: datetime64[ns](2), float64(2), int64(2), object(16)\n",
      "memory usage: 1.2+ MB\n"
     ]
    }
   ],
   "source": [
    "big_data.info()"
   ]
  },
  {
   "cell_type": "markdown",
   "metadata": {},
   "source": [
    "заполним пропуски в столбцах с услугами как \"не используется\" (not_used)"
   ]
  },
  {
   "cell_type": "code",
   "execution_count": 31,
   "metadata": {},
   "outputs": [
    {
     "name": "stdout",
     "output_type": "stream",
     "text": [
      "<class 'pandas.core.frame.DataFrame'>\n",
      "Int64Index: 7043 entries, 0 to 7042\n",
      "Data columns (total 22 columns):\n",
      " #   Column            Non-Null Count  Dtype         \n",
      "---  ------            --------------  -----         \n",
      " 0   customerid        7043 non-null   object        \n",
      " 1   begindate         7043 non-null   datetime64[ns]\n",
      " 2   enddate           7043 non-null   datetime64[ns]\n",
      " 3   type              7043 non-null   object        \n",
      " 4   paperlessbilling  7043 non-null   object        \n",
      " 5   paymentmethod     7043 non-null   object        \n",
      " 6   monthlycharges    7043 non-null   float64       \n",
      " 7   totalcharges      7043 non-null   float64       \n",
      " 8   active            7043 non-null   object        \n",
      " 9   duration          7043 non-null   int64         \n",
      " 10  gender            7043 non-null   object        \n",
      " 11  seniorcitizen     7043 non-null   int64         \n",
      " 12  partner           7043 non-null   object        \n",
      " 13  dependents        7043 non-null   object        \n",
      " 14  internetservice   7043 non-null   object        \n",
      " 15  onlinesecurity    7043 non-null   object        \n",
      " 16  onlinebackup      7043 non-null   object        \n",
      " 17  deviceprotection  7043 non-null   object        \n",
      " 18  techsupport       7043 non-null   object        \n",
      " 19  streamingtv       7043 non-null   object        \n",
      " 20  streamingmovies   7043 non-null   object        \n",
      " 21  multiplelines     7043 non-null   object        \n",
      "dtypes: datetime64[ns](2), float64(2), int64(2), object(16)\n",
      "memory usage: 1.2+ MB\n"
     ]
    }
   ],
   "source": [
    "big_data = big_data.fillna('not_used')\n",
    "big_data.info()"
   ]
  },
  {
   "cell_type": "markdown",
   "metadata": {},
   "source": [
    "Все пропуски заполнены, ни одного пользователя, при заполнении пропусков не потеряли."
   ]
  },
  {
   "cell_type": "markdown",
   "metadata": {},
   "source": [
    "далее, наша задача - отобрать (возможно создать новые) признаки для обучения наших моделей. Но для начала посмотрим на новое распределение данных"
   ]
  },
  {
   "cell_type": "code",
   "execution_count": 32,
   "metadata": {},
   "outputs": [
    {
     "data": {
      "image/png": "[encoded data removed]",
      "text/plain": [
       "<Figure size 1080x1080 with 6 Axes>"
      ]
     },
     "metadata": {
      "needs_background": "light"
     },
     "output_type": "display_data"
    }
   ],
   "source": [
    "big_data.hist(figsize=(15,15), bins=20);"
   ]
  },
  {
   "cell_type": "markdown",
   "metadata": {},
   "source": [
    "Видим выбросы в дате расторжения договора - мы помним что это созданный нами выброс, т.к.у действующих договоров нет даты расторжения. на графике продолжительности видим, что чем дольше клиент пользуетсяуслугами - тем реже он уходит, крайний правый пик - опять таки искусственный, созданный нами выброс."
   ]
  },
  {
   "cell_type": "code",
   "execution_count": 33,
   "metadata": {},
   "outputs": [],
   "source": [
    "columns = ['active','partner', 'gender', 'dependents','seniorcitizen','internetservice','onlinesecurity','onlinebackup','deviceprotection','techsupport','streamingtv','streamingmovies','multiplelines']"
   ]
  },
  {
   "cell_type": "code",
   "execution_count": 34,
   "metadata": {},
   "outputs": [],
   "source": [
    "count_columns = len(columns)\n",
    "count_str = (count_columns + 3) // 4"
   ]
  },
  {
   "cell_type": "code",
   "execution_count": 35,
   "metadata": {},
   "outputs": [
    {
     "data": {
      "image/png": "[encoded data removed]",
      "text/plain": [
       "<Figure size 1440x1440 with 15 Axes>"
      ]
     },
     "metadata": {
      "needs_background": "light"
     },
     "output_type": "display_data"
    }
   ],
   "source": [
    "fig, axs = plt.subplots(count_str, 4, figsize=(20, 20))\n",
    "for i, column in enumerate(columns):\n",
    "    count = big_data[column].value_counts()\n",
    "    ax = axs[i // 4, i % 4]\n",
    "    count.plot(kind='bar', ax=ax, fontsize=15)\n",
    "    ax.set_xlabel(column, fontsize=15)\n",
    "    ax.set_ylabel('Кол-во', fontsize=15)\n",
    "    ax.set_title(f'Столбец: {column}', fontsize=15)\n",
    "\n",
    "\n",
    "if count_columns % 4 != 0:\n",
    "    axs[count_str - 1, 1].remove()\n",
    "\n",
    "\n",
    "plt.tight_layout()\n",
    "plt.show()"
   ]
  },
  {
   "cell_type": "markdown",
   "metadata": {},
   "source": [
    "после объединения таблиц, видим, что количество действующих договоров преобладает над количеством расторгнутых договоров. Пол распределился примерно одинаково, наличие партнера тоже отличается не сильно, график  иждевенцев показывает в большей степени отсутсвие иждевенцев, клиенты заказчика в основном не пенсионеры, которые пользуются больше оптоволокном, которые не используют онлайн-защиту, облачное хранилище, тех.поддержку и мультилинию. что касается использования стримминговых сервисов - тут количество тех кто пользуется и тех кто не пользуется - примерно одинаковое"
   ]
  },
  {
   "cell_type": "markdown",
   "metadata": {},
   "source": [
    "Посмотрим на графики созданных нами признаков - актуальноси договора и продолжительности использования услуг по договору."
   ]
  },
  {
   "cell_type": "code",
   "execution_count": 36,
   "metadata": {},
   "outputs": [
    {
     "data": {
      "image/png": "[encoded data removed]",
      "text/plain": [
       "<Figure size 576x216 with 2 Axes>"
      ]
     },
     "metadata": {
      "needs_background": "light"
     },
     "output_type": "display_data"
    }
   ],
   "source": [
    "fig = plt.figure(figsize=(8, 3))\n",
    "\n",
    "fig.add_subplot(1, 2, 1)\n",
    "big_data['duration'].hist()\n",
    "plt.title('duration')\n",
    "plt.xlabel('Количество дней')\n",
    "plt.ylabel('Количество клиентов')\n",
    "\n",
    "fig.add_subplot(1, 2, 2)\n",
    "big_data['active'].hist()\n",
    "plt.title('active')\n",
    "plt.xlabel('Действие договора')\n",
    "\n",
    "plt.show()"
   ]
  },
  {
   "cell_type": "markdown",
   "metadata": {},
   "source": [
    "на графике, отражающий количество действующих и прекращенных договор видим явный дисбаланс классов, который может дать большое количество ложноотрицательных ответов."
   ]
  },
  {
   "cell_type": "markdown",
   "metadata": {},
   "source": [
    "сделаем копию последней версии таблицы"
   ]
  },
  {
   "cell_type": "code",
   "execution_count": 38,
   "metadata": {},
   "outputs": [],
   "source": [
    "copy_data = big_data.copy()"
   ]
  },
  {
   "cell_type": "markdown",
   "metadata": {},
   "source": [
    "пока можем сказать, что столбцы с id клиента, с датой начала и датой окончания действия контраката нам точно не помогут в предсказании, удалим их"
   ]
  },
  {
   "cell_type": "code",
   "execution_count": 39,
   "metadata": {},
   "outputs": [],
   "source": [
    "copy_data = copy_data.drop(columns=['customerid', 'begindate', 'enddate'])"
   ]
  },
  {
   "cell_type": "code",
   "execution_count": 43,
   "metadata": {},
   "outputs": [
    {
     "name": "stdout",
     "output_type": "stream",
     "text": [
      "<class 'pandas.core.frame.DataFrame'>\n",
      "Int64Index: 7043 entries, 0 to 7042\n",
      "Data columns (total 19 columns):\n",
      " #   Column            Non-Null Count  Dtype  \n",
      "---  ------            --------------  -----  \n",
      " 0   type              7043 non-null   object \n",
      " 1   paperlessbilling  7043 non-null   object \n",
      " 2   paymentmethod     7043 non-null   object \n",
      " 3   monthlycharges    7043 non-null   float64\n",
      " 4   totalcharges      7043 non-null   float64\n",
      " 5   active            7043 non-null   object \n",
      " 6   duration          7043 non-null   int64  \n",
      " 7   gender            7043 non-null   object \n",
      " 8   seniorcitizen     7043 non-null   int64  \n",
      " 9   partner           7043 non-null   object \n",
      " 10  dependents        7043 non-null   object \n",
      " 11  internetservice   7043 non-null   object \n",
      " 12  onlinesecurity    7043 non-null   object \n",
      " 13  onlinebackup      7043 non-null   object \n",
      " 14  deviceprotection  7043 non-null   object \n",
      " 15  techsupport       7043 non-null   object \n",
      " 16  streamingtv       7043 non-null   object \n",
      " 17  streamingmovies   7043 non-null   object \n",
      " 18  multiplelines     7043 non-null   object \n",
      "dtypes: float64(2), int64(2), object(15)\n",
      "memory usage: 1.1+ MB\n"
     ]
    }
   ],
   "source": [
    "copy_data.info()"
   ]
  },
  {
   "cell_type": "code",
   "execution_count": 44,
   "metadata": {},
   "outputs": [
    {
     "data": {
      "text/html": [
       "<div>\n",
       "<style scoped>\n",
       "    .dataframe tbody tr th:only-of-type {\n",
       "        vertical-align: middle;\n",
       "    }\n",
       "\n",
       "    .dataframe tbody tr th {\n",
       "        vertical-align: top;\n",
       "    }\n",
       "\n",
       "    .dataframe thead th {\n",
       "        text-align: right;\n",
       "    }\n",
       "</style>\n",
       "<table border=\"1\" class=\"dataframe\">\n",
       "  <thead>\n",
       "    <tr style=\"text-align: right;\">\n",
       "      <th></th>\n",
       "      <th>type</th>\n",
       "      <th>paperlessbilling</th>\n",
       "      <th>paymentmethod</th>\n",
       "      <th>monthlycharges</th>\n",
       "      <th>totalcharges</th>\n",
       "      <th>active</th>\n",
       "      <th>duration</th>\n",
       "      <th>gender</th>\n",
       "      <th>seniorcitizen</th>\n",
       "      <th>partner</th>\n",
       "      <th>dependents</th>\n",
       "      <th>internetservice</th>\n",
       "      <th>onlinesecurity</th>\n",
       "      <th>onlinebackup</th>\n",
       "      <th>deviceprotection</th>\n",
       "      <th>techsupport</th>\n",
       "      <th>streamingtv</th>\n",
       "      <th>streamingmovies</th>\n",
       "      <th>multiplelines</th>\n",
       "    </tr>\n",
       "  </thead>\n",
       "  <tbody>\n",
       "    <tr>\n",
       "      <th>0</th>\n",
       "      <td>month-to-month</td>\n",
       "      <td>yes</td>\n",
       "      <td>electronic check</td>\n",
       "      <td>29.85</td>\n",
       "      <td>31.04</td>\n",
       "      <td>1</td>\n",
       "      <td>31</td>\n",
       "      <td>female</td>\n",
       "      <td>0</td>\n",
       "      <td>yes</td>\n",
       "      <td>no</td>\n",
       "      <td>dsl</td>\n",
       "      <td>no</td>\n",
       "      <td>yes</td>\n",
       "      <td>no</td>\n",
       "      <td>no</td>\n",
       "      <td>no</td>\n",
       "      <td>no</td>\n",
       "      <td>not_used</td>\n",
       "    </tr>\n",
       "    <tr>\n",
       "      <th>1</th>\n",
       "      <td>one year</td>\n",
       "      <td>no</td>\n",
       "      <td>mailed check</td>\n",
       "      <td>56.95</td>\n",
       "      <td>2071.84</td>\n",
       "      <td>1</td>\n",
       "      <td>1036</td>\n",
       "      <td>male</td>\n",
       "      <td>0</td>\n",
       "      <td>no</td>\n",
       "      <td>no</td>\n",
       "      <td>dsl</td>\n",
       "      <td>yes</td>\n",
       "      <td>no</td>\n",
       "      <td>yes</td>\n",
       "      <td>no</td>\n",
       "      <td>no</td>\n",
       "      <td>no</td>\n",
       "      <td>no</td>\n",
       "    </tr>\n",
       "    <tr>\n",
       "      <th>2</th>\n",
       "      <td>month-to-month</td>\n",
       "      <td>yes</td>\n",
       "      <td>mailed check</td>\n",
       "      <td>53.85</td>\n",
       "      <td>226.17</td>\n",
       "      <td>1</td>\n",
       "      <td>123</td>\n",
       "      <td>male</td>\n",
       "      <td>0</td>\n",
       "      <td>no</td>\n",
       "      <td>no</td>\n",
       "      <td>dsl</td>\n",
       "      <td>yes</td>\n",
       "      <td>yes</td>\n",
       "      <td>no</td>\n",
       "      <td>no</td>\n",
       "      <td>no</td>\n",
       "      <td>no</td>\n",
       "      <td>no</td>\n",
       "    </tr>\n",
       "    <tr>\n",
       "      <th>3</th>\n",
       "      <td>one year</td>\n",
       "      <td>no</td>\n",
       "      <td>bank transfer (automatic)</td>\n",
       "      <td>42.30</td>\n",
       "      <td>1960.60</td>\n",
       "      <td>1</td>\n",
       "      <td>1371</td>\n",
       "      <td>male</td>\n",
       "      <td>0</td>\n",
       "      <td>no</td>\n",
       "      <td>no</td>\n",
       "      <td>dsl</td>\n",
       "      <td>yes</td>\n",
       "      <td>no</td>\n",
       "      <td>yes</td>\n",
       "      <td>yes</td>\n",
       "      <td>no</td>\n",
       "      <td>no</td>\n",
       "      <td>not_used</td>\n",
       "    </tr>\n",
       "    <tr>\n",
       "      <th>4</th>\n",
       "      <td>month-to-month</td>\n",
       "      <td>yes</td>\n",
       "      <td>electronic check</td>\n",
       "      <td>70.70</td>\n",
       "      <td>353.50</td>\n",
       "      <td>1</td>\n",
       "      <td>153</td>\n",
       "      <td>female</td>\n",
       "      <td>0</td>\n",
       "      <td>no</td>\n",
       "      <td>no</td>\n",
       "      <td>fiber optic</td>\n",
       "      <td>no</td>\n",
       "      <td>no</td>\n",
       "      <td>no</td>\n",
       "      <td>no</td>\n",
       "      <td>no</td>\n",
       "      <td>no</td>\n",
       "      <td>no</td>\n",
       "    </tr>\n",
       "  </tbody>\n",
       "</table>\n",
       "</div>"
      ],
      "text/plain": [
       "             type paperlessbilling              paymentmethod  monthlycharges  \\\n",
       "0  month-to-month              yes           electronic check           29.85   \n",
       "1        one year               no               mailed check           56.95   \n",
       "2  month-to-month              yes               mailed check           53.85   \n",
       "3        one year               no  bank transfer (automatic)           42.30   \n",
       "4  month-to-month              yes           electronic check           70.70   \n",
       "\n",
       "   totalcharges active  duration  gender  seniorcitizen partner dependents  \\\n",
       "0         31.04      1        31  female              0     yes         no   \n",
       "1       2071.84      1      1036    male              0      no         no   \n",
       "2        226.17      1       123    male              0      no         no   \n",
       "3       1960.60      1      1371    male              0      no         no   \n",
       "4        353.50      1       153  female              0      no         no   \n",
       "\n",
       "  internetservice onlinesecurity onlinebackup deviceprotection techsupport  \\\n",
       "0             dsl             no          yes               no          no   \n",
       "1             dsl            yes           no              yes          no   \n",
       "2             dsl            yes          yes               no          no   \n",
       "3             dsl            yes           no              yes         yes   \n",
       "4     fiber optic             no           no               no          no   \n",
       "\n",
       "  streamingtv streamingmovies multiplelines  \n",
       "0          no              no      not_used  \n",
       "1          no              no            no  \n",
       "2          no              no            no  \n",
       "3          no              no      not_used  \n",
       "4          no              no            no  "
      ]
     },
     "execution_count": 44,
     "metadata": {},
     "output_type": "execute_result"
    }
   ],
   "source": [
    "copy_data.head()"
   ]
  },
  {
   "cell_type": "markdown",
   "metadata": {},
   "source": [
    "в interval_cols вношу числовые признаки"
   ]
  },
  {
   "cell_type": "code",
   "execution_count": 45,
   "metadata": {},
   "outputs": [
    {
     "data": {
      "image/png": "[encoded data removed]",
      "text/plain": [
       "<Figure size 1440x576 with 2 Axes>"
      ]
     },
     "metadata": {
      "needs_background": "light"
     },
     "output_type": "display_data"
    }
   ],
   "source": [
    "data_phik = phik_matrix(copy_data, interval_cols=['monthlycharges', 'totalcharges', 'duration'])\n",
    "plt.figure(figsize=(20,8))\n",
    "sns.heatmap(data_phik, annot=True, cmap='coolwarm')\n",
    "plt.show()"
   ]
  },
  {
   "cell_type": "markdown",
   "metadata": {},
   "source": [
    "с помощью матрицы, видим сильную зависимость подключенных услуг друг от друга, также видим влияние подключенных доп.услуг на размер ежемесячной оплаты (что логично), видим связь между доп.услугами и типом оплаты. Также видим, что значения продолжительности контракта коррелируют с типом оплаты, общей суммой оплаты, ежемесячными тратами, способами оплаты, с наличием партнера и актуальностью контракта, и примерно в равной друг от друга степени коррелирует с доп.услугами. "
   ]
  },
  {
   "cell_type": "code",
   "execution_count": 47,
   "metadata": {},
   "outputs": [
    {
     "data": {
      "text/plain": [
       "0       1\n",
       "1       1\n",
       "2       1\n",
       "3       1\n",
       "4       1\n",
       "       ..\n",
       "7038    1\n",
       "7039    1\n",
       "7040    1\n",
       "7041    1\n",
       "7042    1\n",
       "Name: active, Length: 7043, dtype: int64"
      ]
     },
     "execution_count": 47,
     "metadata": {},
     "output_type": "execute_result"
    }
   ],
   "source": [
    "copy_data['active'].astype(str).astype(int)"
   ]
  },
  {
   "cell_type": "markdown",
   "metadata": {},
   "source": [
    "Перехожу непосредственно к делению выборок и потом кодирования признаков. для кодирования разбиваю на категориальные и числовые, далее выделяю целевой признак"
   ]
  },
  {
   "cell_type": "code",
   "execution_count": 49,
   "metadata": {},
   "outputs": [],
   "source": [
    "numeric_features = ['monthlycharges', 'totalcharges', 'duration']\n",
    "categorical_features = ['type',\t'paperlessbilling',\t'paymentmethod', 'gender', 'seniorcitizen', 'partner', 'dependents', 'internetservice',\t'onlinesecurity', 'onlinebackup','deviceprotection','techsupport','streamingtv','streamingmovies','multiplelines']"
   ]
  },
  {
   "cell_type": "markdown",
   "metadata": {},
   "source": [
    "делю в соотношении 3/1"
   ]
  },
  {
   "cell_type": "code",
   "execution_count": 50,
   "metadata": {},
   "outputs": [],
   "source": [
    "y = copy_data['active']\n",
    "X = copy_data.drop(['active'], axis=1)"
   ]
  },
  {
   "cell_type": "code",
   "execution_count": 51,
   "metadata": {},
   "outputs": [],
   "source": [
    "X_train, X_test, y_train, y_test = train_test_split(X, y, test_size=0.25, train_size=0.75, random_state=RANDOM_STATE)"
   ]
  },
  {
   "cell_type": "markdown",
   "metadata": {},
   "source": [
    "создаем трансформеры для признаков"
   ]
  },
  {
   "cell_type": "code",
   "execution_count": 52,
   "metadata": {},
   "outputs": [],
   "source": [
    "numeric_transformer = StandardScaler()\n",
    "categorical_transformer_rf_gb = OrdinalEncoder(handle_unknown='use_encoded_value', unknown_value=999)\n",
    "categorical_transformer_lr = OneHotEncoder(handle_unknown='error', drop='first')"
   ]
  },
  {
   "cell_type": "markdown",
   "metadata": {},
   "source": [
    "создаем ColumnTransformer для применения трансформеров к каждому типу признаков"
   ]
  },
  {
   "cell_type": "code",
   "execution_count": 53,
   "metadata": {},
   "outputs": [],
   "source": [
    "preprocessor_rf_gb = ColumnTransformer(\n",
    "    transformers=[\n",
    "        ('num', numeric_transformer, numeric_features),\n",
    "        ('cat', categorical_transformer_rf_gb, categorical_features)\n",
    "    ]\n",
    ")\n",
    "\n",
    "preprocessor_lr = ColumnTransformer(\n",
    "    transformers=[\n",
    "        ('num', numeric_transformer, numeric_features),\n",
    "        ('cat', categorical_transformer_lr, categorical_features)\n",
    "    ]\n",
    ")"
   ]
  },
  {
   "cell_type": "markdown",
   "metadata": {},
   "source": [
    "создаем пайплайн для каждой модели"
   ]
  },
  {
   "cell_type": "code",
   "execution_count": 54,
   "metadata": {},
   "outputs": [],
   "source": [
    "pipeline_lr = Pipeline(steps=[('preprocessor', preprocessor_lr), ('classifier', LogisticRegression(penalty='l2', random_state=RANDOM_STATE, class_weight='balanced'))])\n",
    "pipeline_rf = Pipeline(steps=[('preprocessor', preprocessor_rf_gb), ('classifier', RandomForestClassifier(random_state=RANDOM_STATE))])\n",
    "pipeline_gb = Pipeline(steps=[('preprocessor', preprocessor_rf_gb), ('classifier', GradientBoostingClassifier(random_state=RANDOM_STATE))])"
   ]
  },
  {
   "cell_type": "markdown",
   "metadata": {},
   "source": [
    "задаем гиперпараметры для каждой модели"
   ]
  },
  {
   "cell_type": "code",
   "execution_count": 55,
   "metadata": {},
   "outputs": [],
   "source": [
    "param_grid_lr = {'classifier__C': [0.1, 1, 10]}\n",
    "param_grid_rf = {'classifier__n_estimators': [100, 200, 300], 'classifier__max_depth': [5, 10, 15]}\n",
    "param_grid_gb = {'classifier__learning_rate': [0.1, 0.01, 0.001], 'classifier__n_estimators': [50, 100, 150]}"
   ]
  },
  {
   "cell_type": "markdown",
   "metadata": {},
   "source": [
    "Создаем объекты GridSearchCV для каждой модели"
   ]
  },
  {
   "cell_type": "code",
   "execution_count": 56,
   "metadata": {},
   "outputs": [],
   "source": [
    "grid_search_lr = GridSearchCV(pipeline_lr, param_grid_lr, scoring='roc_auc', cv=5)\n",
    "grid_search_rf = GridSearchCV(pipeline_rf, param_grid_rf, scoring='roc_auc', cv=5)\n",
    "grid_search_gb = GridSearchCV(pipeline_gb, param_grid_gb, scoring='roc_auc', cv=5)"
   ]
  },
  {
   "cell_type": "markdown",
   "metadata": {},
   "source": [
    "обучаем логистическую регрессию на обучающей выборке с помощью кроссвалидации"
   ]
  },
  {
   "cell_type": "code",
   "execution_count": 57,
   "metadata": {
    "scrolled": true
   },
   "outputs": [
    {
     "name": "stdout",
     "output_type": "stream",
     "text": [
      "Логистическая регрессия: {'classifier__C': 1} 0.7586921351557072\n"
     ]
    }
   ],
   "source": [
    "grid_search_lr.fit(X_train, y_train)\n",
    "print(\"Логистическая регрессия:\", grid_search_lr.best_params_, grid_search_lr.best_score_)\n"
   ]
  },
  {
   "cell_type": "markdown",
   "metadata": {},
   "source": [
    "обучаем случайный лес на обучающей выборке с помощью кроссвалидации и подбором наилучших параметров"
   ]
  },
  {
   "cell_type": "code",
   "execution_count": 58,
   "metadata": {},
   "outputs": [
    {
     "name": "stdout",
     "output_type": "stream",
     "text": [
      "Случайный лес: {'classifier__max_depth': 10, 'classifier__n_estimators': 300} 0.8245791968249774\n"
     ]
    }
   ],
   "source": [
    "grid_search_rf.fit(X_train, y_train)\n",
    "print(\"Случайный лес:\", grid_search_rf.best_params_, grid_search_rf.best_score_)"
   ]
  },
  {
   "cell_type": "markdown",
   "metadata": {},
   "source": [
    "обучаем градиентный бустинг на обучающей выборке с помощью кроссвалидации и подбором наилучших параметров"
   ]
  },
  {
   "cell_type": "code",
   "execution_count": 59,
   "metadata": {},
   "outputs": [
    {
     "name": "stdout",
     "output_type": "stream",
     "text": [
      "Градиентный бустинг: {'classifier__learning_rate': 0.1, 'classifier__n_estimators': 150} 0.85769127509162\n"
     ]
    }
   ],
   "source": [
    "grid_search_gb.fit(X_train, y_train)\n",
    "print(\"Градиентный бустинг:\", grid_search_gb.best_params_, grid_search_gb.best_score_)"
   ]
  },
  {
   "cell_type": "markdown",
   "metadata": {},
   "source": [
    "у меня получилось это не с первого раза, но я перешагнула рубеж в 0,85. берем модель градиентного бустинга, с гиперпараметрами classifier__learning_rate': 0.1, 'classifier__n_estimators': 150 для рассчета предсказаний на тестовую выборку. на тестовой выборке находим метрику auc-roc и accuracy"
   ]
  },
  {
   "cell_type": "code",
   "execution_count": 61,
   "metadata": {},
   "outputs": [
    {
     "name": "stdout",
     "output_type": "stream",
     "text": [
      "Метрики на тестовой выборке для градиентного бустинга с наилучшими гиперпараметрами:\n",
      "AUC-ROC: 0.882677875559365\n",
      "Accuracy: 0.8847245883021011\n"
     ]
    }
   ],
   "source": [
    "best_gb_model = grid_search_gb.best_estimator_\n",
    "y_pred_gb = best_gb_model.predict_proba(X_test)[:, 1]\n",
    "y_true = y_test.astype(int)\n",
    "print(\"Метрики на тестовой выборке для градиентного бустинга с наилучшими гиперпараметрами:\")\n",
    "print(\"AUC-ROC:\", roc_auc_score(y_test, y_pred_gb))\n",
    "print(\"Accuracy:\", accuracy_score(y_true, np.round(y_pred_gb)))"
   ]
  },
  {
   "cell_type": "markdown",
   "metadata": {},
   "source": [
    "проинтерпретируем полученные результаты с точки зрения бизнеса.\n",
    "\n",
    "AUC-ROC: Значение AUC-ROC равное 0.8827 говорит о том, что модель с высокой вероятностью правильно классифицирует случаи и генерирует более высокие вероятности для положительных классов по сравнению с отрицательными. Это означает, что модель обладает хорошей способностью различать между положительными и отрицательными случаями.\n",
    "\n",
    "Accuracy: Значение точности (accuracy) равное 0.8847 указывает на то, что модель правильно классифицирует около 88.47% тестовых примеров. Это говорит о том, что модель в целом демонстрирует высокую точность в предсказании классов.\n",
    "\n",
    "Общая интерпретация этих результатов для бизнеса состоит в том, что модель градиентного бустинга с наилучшими гиперпараметрами показывает хорошую способность различать между положительными и отрицательными случаями. Она также обладает высокой точностью в предсказании классов. Это может быть полезно во многих сценариях бизнеса, например, в задачах бинарной классификации, где важно точно определить положительные и отрицательные случаи, какой и является наша задача."
   ]
  },
  {
   "cell_type": "markdown",
   "metadata": {},
   "source": [
    "выведем матрицу ошибок наилучшей модели"
   ]
  },
  {
   "cell_type": "code",
   "execution_count": 62,
   "metadata": {},
   "outputs": [
    {
     "name": "stdout",
     "output_type": "stream",
     "text": [
      "Матрица ошибок:\n",
      "[[  87  182]\n",
      " [  21 1471]]\n"
     ]
    }
   ],
   "source": [
    "confusion = confusion_matrix(y_true, np.round(y_pred_gb))\n",
    "\n",
    "print(\"Матрица ошибок:\")\n",
    "print(confusion)"
   ]
  },
  {
   "cell_type": "markdown",
   "metadata": {},
   "source": [
    "первое значение - количество правильно классифицированных отрицательных случаев, в нашей матрице это значение равно 87, это значит модель правильно предсказала 87 расторжений договора\n",
    "\n",
    "второе значение - количество не правильно классифиццированных отрицательных случаев, в нашей матрице это значение равно 21, это означает, что модель пропустила 21 положительный случай (договор действителен) и отнесла их к группе расторгнутых договоров\n",
    "\n",
    "третье значение - 182, и оно означает количество неправильно классифицированных положительных случаев. модель ошибочно отнесла 182 договора к действующим\n",
    "\n",
    "четвертое значение - 1471, говорит о том, что модель правильно классифицировала 1471 положительный случай (договор действует)"
   ]
  },
  {
   "cell_type": "code",
   "execution_count": 63,
   "metadata": {},
   "outputs": [
    {
     "name": "stdout",
     "output_type": "stream",
     "text": [
      "Оценка важности признаков:\n",
      "paymentmethod: 0.4565297762105712\n",
      "gender: 0.1689709062697957\n",
      "type: 0.11381993600686931\n",
      "paperlessbilling: 0.10015183311009912\n",
      "duration: 0.03804523700184296\n",
      "onlinesecurity: 0.03185914153701189\n",
      "partner: 0.03118769849905122\n",
      "streamingmovies: 0.019180028613065593\n",
      "streamingtv: 0.016111242242085818\n",
      "techsupport: 0.0052029262789796615\n",
      "onlinebackup: 0.00442079447442841\n",
      "internetservice: 0.0035140138992956565\n",
      "multiplelines: 0.0028808018243112092\n",
      "seniorcitizen: 0.0026677768106399087\n",
      "monthlycharges: 0.002646286935547117\n",
      "totalcharges: 0.0014527563378627126\n",
      "deviceprotection: 0.0009130819515306502\n",
      "dependents: 0.0004457619970120304\n"
     ]
    }
   ],
   "source": [
    "feature_importances = best_gb_model.named_steps['classifier'].feature_importances_\n",
    "sorted_importances = sorted(zip(feature_importances, categorical_features + numeric_features), reverse=True)\n",
    "print(\"Оценка важности признаков:\")\n",
    "for importance, feature in sorted_importances:\n",
    "    print(f\"{feature}: {importance}\")"
   ]
  },
  {
   "cell_type": "markdown",
   "metadata": {},
   "source": [
    "Согласно оценке важности признаков видим, что набилее важные признаки для нашей модели градиентного бустинга являются:\n",
    "- вид оплаты (0,457) - означает, что различные методы оплаты имеют существенное влияние на решение расторгнуть договор или остаться\n",
    "- пол клиента (0,169) - влияет на решение уйти\\остаться\n",
    "- тип контркта (0,114) - скорее всего, клиенты с долгосрочными контрактами менее склонны к оттоку, по сравнению с клиентами, у которых краткосрочные контракты\n",
    "- опция безбумажного биллинга (100) - также влияет на активность клиентов. Возможно клиенты, которые предпочитают электронные счета, более склонны оставаться активными\n",
    "- длительность использования услуг (0,038) - оказывает влияние на активность клиентов. Клиенты, которые пользуются услугами компании уже длительное время, скорее всего, будут и дальше ими пользоваться.\n",
    "\n",
    "Остальные признаки также вносят некоторый вклад в модель, но их важность относительно ниже.\n",
    "\n",
    "Эти результаты позволяют нам лучше понять, какие факторы оказывают наибольшее влияние на активность клиентов и могут помочь в принятии более обоснованных решений в области управления клиентами и предотвращении оттока.\n",
    "\n"
   ]
  },
  {
   "cell_type": "markdown",
   "metadata": {},
   "source": [
    "# Отчет"
   ]
  },
  {
   "cell_type": "markdown",
   "metadata": {},
   "source": [
    "Оператор связи «Ниединогоразрыва.ком» хочет научиться прогнозировать отток клиентов. Если выяснится, что пользователь планирует уйти, ему будут предложены промокоды и специальные условия. Команда оператора собрала персональные данные о некоторых клиентах, информацию об их тарифах и договорах"
   ]
  },
  {
   "cell_type": "markdown",
   "metadata": {},
   "source": [
    "Оператор предоставляет два основных типа услуг:\n",
    "\n",
    "- Стационарную телефонную связь. Возможно подключение телефонного аппарата к нескольким линиям одновременно.\n",
    "\n",
    "- Интернет. Подключение может быть двух типов: через телефонную линию (DSL, от англ. digital subscriber line, «цифровая абонентская линия») или оптоволоконный кабель (Fiber optic).\n",
    "\n",
    "Также доступны такие услуги:\n",
    "\n",
    "- Интернет-безопасность: антивирус (DeviceProtection) и блокировка небезопасных сайтов (OnlineSecurity);\n",
    "- Выделенная линия технической поддержки (TechSupport);\n",
    "- Облачное хранилище файлов для резервного копирования данных (OnlineBackup);\n",
    "- Стриминговое телевидение (StreamingTV) и каталог фильмов (StreamingMovies).\n",
    "- За услуги клиенты могут платить каждый месяц или заключить договор на 1–2 года. Доступны различные способы расчёта и возможность получения электронного чека.\n",
    "\n",
    "Описание данных.\n",
    "Данные состоят из файлов, полученных из разных источников:\n",
    "\n",
    "- contract_new.csv — информация о договоре;\n",
    "- personal_new.csv — персональные данные клиента;\n",
    "- internet_new.csv — информация об интернет-услугах;\n",
    "- phone_new.csv — информация об услугах телефонии.\n",
    "- Во всех файлах столбец customerID содержит код клиента.\n",
    "\n",
    "Информация о договорах актуальна на 1 февраля 2020.\n",
    "\n",
    "Цель данного проекта - дать клиенту систему, которая, на основе реальных данных пользователей опретора связи, будет прогнозировать отток клиентов, для возможности остановить клиента, предложив ему специальные условия."
   ]
  },
  {
   "cell_type": "markdown",
   "metadata": {},
   "source": [
    "### Ключевые шаги работы над проектом:"
   ]
  },
  {
   "cell_type": "markdown",
   "metadata": {},
   "source": [
    "- Загрузить данные, полученные от клиента\n",
    "\n",
    "- Изучить эти данные,при необходимости - преобразовали;\n",
    "\n",
    "- Выделеть необходимые признаки;\n",
    "\n",
    "- Определиться с моделями;\n",
    "\n",
    "- Подготовить данные, подходящие выбранным моделям ;\n",
    "\n",
    "- Провести моделирование на обучающей выборке;\n",
    "\n",
    "- Проверить лучшую модель на тествой выборке;\n",
    "\n",
    "- Провести анализ важности признаков модели\n",
    "\n",
    "- Провести анализ матрицы ошибок лучшей модели\n",
    "\n"
   ]
  },
  {
   "cell_type": "markdown",
   "metadata": {},
   "source": [
    "### Анализ соответствия фактической работы запланированным шагам:"
   ]
  },
  {
   "cell_type": "markdown",
   "metadata": {},
   "source": [
    "Фактическая работа проводилась в соответсвии с написанным планом, за исключением дополнительного анализа данных,который потребовался после сведения нескольких таблиц, полученных от заказчика, в одну общую таблицу"
   ]
  },
  {
   "cell_type": "markdown",
   "metadata": {},
   "source": [
    "### Рефлексия над сложностями и описание путей их решения:"
   ]
  },
  {
   "cell_type": "markdown",
   "metadata": {},
   "source": [
    "- Сложность в интерпретировании данных, особенно в переводе полученных результатов на язык бизнеса. Пришлось додумывать кому мы \"сдаем проект\" и что ему на самом деле полезно слышать\n",
    "- Пробел в кодировании и масштабировании, в необходимости устранения дисбаланса\n",
    "- Сложности интерпретации значений у полученных метрик и опять таки их перевод на язык бизнеса\n",
    "- Не понимание установленного порога на метрики - кто их на самом деле устанавливает и какой должен быть критерий для этого порога "
   ]
  },
  {
   "cell_type": "markdown",
   "metadata": {},
   "source": [
    "### Итоговый список признаков для обучения модели, способы их обработки:"
   ]
  },
  {
   "cell_type": "markdown",
   "metadata": {},
   "source": [
    "Для обучения моделей, кроме целевого признака (active) мы оставили признаки, перечисленные ниже:\n",
    "\n",
    "- PaymentMethod - Способ оплаты\n",
    "- Gender - Пол\n",
    "- Type - тип оплаты: ежемесячный, годовой и т.д.\n",
    "- PaperlessBilling - электронный платёжны документ\n",
    "- Duration - созданный признак - продолжительность действия договора (с момента его заключения до момента его расторжения)\n",
    "- OnlineSecurity - Онлайн-безопасность\n",
    "- Partner - наличие партнера\n",
    "- StreamingMovies - сервис просмотра фильмов онлайн\n",
    "- StreamingTV - сервис просмотра ТВ онлайн\n",
    "- TechSupport - услуга технической поддержки\n",
    "- OnlineBackup - облачное хранилище\n",
    "- InternetService - интернет-провайдер клиента (DSL, Fiber optic, No)\n",
    "- Multiplelines - наличие многоканальной линии\n",
    "- SeniorCitizen - наличие статуса пенсионера\n",
    "- MonthlyCharges - месячный размер оплат по услугам\n",
    "- TotalCharges - общая сумма оплат за все время\n",
    "- DeviceProtection - наличие или отсутствие страховки оборудования\n",
    "- Dependents - наличие иждевенцев"
   ]
  },
  {
   "cell_type": "markdown",
   "metadata": {},
   "source": [
    "Часть признаков была числовыми, а часть категориальными. Числовые признаки стандартизировали с помощью StandardScaler. Для категориальных - воспользовались двумя кодировщиками - OrdinalEncoder для модели случайного леса и градиентного бустинга, и OneHotEncoder для модели логистической регрессии. На этапе анализа корреляции признаков была выявлена мультиколлинеарность, которую устраняли с помощью L2 регуляризации"
   ]
  },
  {
   "cell_type": "markdown",
   "metadata": {},
   "source": [
    "### Краткое описание предобработки данных:"
   ]
  },
  {
   "cell_type": "markdown",
   "metadata": {},
   "source": [
    "- загрузили осмотрели данные в 4х таблицах\n",
    "- исследовали на наличие пропусков - не выявили\n",
    "- преобразовали все символы в таблицах к нижнему регистру\n",
    "- преобразовали некторые признакы к другим типам данных (например дата заключения и расторжения договоров)\n",
    "- обратили внимание на значение \"no\" в столбце с датой расторжения договора - заменили данное значение на дату выгрузки данных, с помощью этого заполнения смогли высчитать и добавить новые признаки - длительность договора и актуальности действия договора\n",
    "- Объединили таблицы и обнаружили пропуски в некоторых полях. пропуски в поле с общей суммой внесенных платежей заполнили нулями (т.к. проверили что клиенты заключили договор в день выгрузки данных и еще не успели ничего оплатить), а пропуски в других полях заполнили заглушкой \"not_used\" для маркировки услуг, которые вообще не использовались абонентом\n",
    "- исследовали графики, на которых обнаружили что пол и наличие и отсутствие партнера находятся примерно в равном распределении, а вот количество действующих договоров намного превышает количество расторгнутых (которое указало на дисбаланс классов)\n",
    "- изучили график корреляции, на котором выявили мультиколлинеарность, которую устраняли для линейной модели с помощью L2 регуляризации\n",
    "- разбили на выборки\n",
    "- закодировали данные - для этого разделили кодирование данных для линейной модели и данных для случайного леса и градиентного бустинга"
   ]
  },
  {
   "cell_type": "markdown",
   "metadata": {},
   "source": [
    "### Сводная таблица исследованных моделей и их метрика на кросс-валидации"
   ]
  },
  {
   "cell_type": "code",
   "execution_count": 64,
   "metadata": {},
   "outputs": [],
   "source": [
    "results = pd.DataFrame(columns=['Модель', 'Лучшие параметры', 'Лучшая метрика'])"
   ]
  },
  {
   "cell_type": "code",
   "execution_count": 65,
   "metadata": {},
   "outputs": [
    {
     "data": {
      "text/html": [
       "<div>\n",
       "<style scoped>\n",
       "    .dataframe tbody tr th:only-of-type {\n",
       "        vertical-align: middle;\n",
       "    }\n",
       "\n",
       "    .dataframe tbody tr th {\n",
       "        vertical-align: top;\n",
       "    }\n",
       "\n",
       "    .dataframe thead th {\n",
       "        text-align: right;\n",
       "    }\n",
       "</style>\n",
       "<table border=\"1\" class=\"dataframe\">\n",
       "  <thead>\n",
       "    <tr style=\"text-align: right;\">\n",
       "      <th></th>\n",
       "      <th>Модель</th>\n",
       "      <th>Лучшие параметры</th>\n",
       "      <th>Лучшая метрика</th>\n",
       "    </tr>\n",
       "  </thead>\n",
       "  <tbody>\n",
       "    <tr>\n",
       "      <th>0</th>\n",
       "      <td>Логистическая регрессия</td>\n",
       "      <td>{'classifier__C': 1}</td>\n",
       "      <td>0.758692</td>\n",
       "    </tr>\n",
       "  </tbody>\n",
       "</table>\n",
       "</div>"
      ],
      "text/plain": [
       "                    Модель      Лучшие параметры  Лучшая метрика\n",
       "0  Логистическая регрессия  {'classifier__C': 1}        0.758692"
      ]
     },
     "metadata": {},
     "output_type": "display_data"
    }
   ],
   "source": [
    "lr_best_params = grid_search_lr.best_params_\n",
    "lr_best_score = grid_search_lr.best_score_\n",
    "results.loc[0] = ['Логистическая регрессия', lr_best_params, lr_best_score]\n",
    "display(results)"
   ]
  },
  {
   "cell_type": "code",
   "execution_count": 66,
   "metadata": {},
   "outputs": [
    {
     "data": {
      "text/html": [
       "<div>\n",
       "<style scoped>\n",
       "    .dataframe tbody tr th:only-of-type {\n",
       "        vertical-align: middle;\n",
       "    }\n",
       "\n",
       "    .dataframe tbody tr th {\n",
       "        vertical-align: top;\n",
       "    }\n",
       "\n",
       "    .dataframe thead th {\n",
       "        text-align: right;\n",
       "    }\n",
       "</style>\n",
       "<table border=\"1\" class=\"dataframe\">\n",
       "  <thead>\n",
       "    <tr style=\"text-align: right;\">\n",
       "      <th></th>\n",
       "      <th>Модель</th>\n",
       "      <th>Лучшие параметры</th>\n",
       "      <th>Лучшая метрика</th>\n",
       "    </tr>\n",
       "  </thead>\n",
       "  <tbody>\n",
       "    <tr>\n",
       "      <th>0</th>\n",
       "      <td>Логистическая регрессия</td>\n",
       "      <td>{'classifier__C': 1}</td>\n",
       "      <td>0.758692</td>\n",
       "    </tr>\n",
       "    <tr>\n",
       "      <th>1</th>\n",
       "      <td>Случайный лес</td>\n",
       "      <td>{'classifier__max_depth': 10, 'classifier__n_estimators': 300}</td>\n",
       "      <td>0.824579</td>\n",
       "    </tr>\n",
       "  </tbody>\n",
       "</table>\n",
       "</div>"
      ],
      "text/plain": [
       "                    Модель  \\\n",
       "0  Логистическая регрессия   \n",
       "1            Случайный лес   \n",
       "\n",
       "                                                 Лучшие параметры  \\\n",
       "0                                            {'classifier__C': 1}   \n",
       "1  {'classifier__max_depth': 10, 'classifier__n_estimators': 300}   \n",
       "\n",
       "   Лучшая метрика  \n",
       "0        0.758692  \n",
       "1        0.824579  "
      ]
     },
     "metadata": {},
     "output_type": "display_data"
    }
   ],
   "source": [
    "rf_best_params = grid_search_rf.best_params_\n",
    "rf_best_score = grid_search_rf.best_score_\n",
    "pd.set_option('display.max_colwidth', None)\n",
    "results.loc[1] = ['Случайный лес', rf_best_params, rf_best_score]\n",
    "display(results)"
   ]
  },
  {
   "cell_type": "code",
   "execution_count": 67,
   "metadata": {},
   "outputs": [
    {
     "data": {
      "text/html": [
       "<div>\n",
       "<style scoped>\n",
       "    .dataframe tbody tr th:only-of-type {\n",
       "        vertical-align: middle;\n",
       "    }\n",
       "\n",
       "    .dataframe tbody tr th {\n",
       "        vertical-align: top;\n",
       "    }\n",
       "\n",
       "    .dataframe thead th {\n",
       "        text-align: right;\n",
       "    }\n",
       "</style>\n",
       "<table border=\"1\" class=\"dataframe\">\n",
       "  <thead>\n",
       "    <tr style=\"text-align: right;\">\n",
       "      <th></th>\n",
       "      <th>Модель</th>\n",
       "      <th>Лучшие параметры</th>\n",
       "      <th>Лучшая метрика</th>\n",
       "    </tr>\n",
       "  </thead>\n",
       "  <tbody>\n",
       "    <tr>\n",
       "      <th>0</th>\n",
       "      <td>Логистическая регрессия</td>\n",
       "      <td>{'classifier__C': 1}</td>\n",
       "      <td>0.758692</td>\n",
       "    </tr>\n",
       "    <tr>\n",
       "      <th>1</th>\n",
       "      <td>Случайный лес</td>\n",
       "      <td>{'classifier__max_depth': 10, 'classifier__n_estimators': 300}</td>\n",
       "      <td>0.824579</td>\n",
       "    </tr>\n",
       "    <tr>\n",
       "      <th>2</th>\n",
       "      <td>Градиентный бустинг</td>\n",
       "      <td>{'classifier__learning_rate': 0.1, 'classifier__n_estimators': 150}</td>\n",
       "      <td>0.857691</td>\n",
       "    </tr>\n",
       "  </tbody>\n",
       "</table>\n",
       "</div>"
      ],
      "text/plain": [
       "                    Модель  \\\n",
       "0  Логистическая регрессия   \n",
       "1            Случайный лес   \n",
       "2      Градиентный бустинг   \n",
       "\n",
       "                                                      Лучшие параметры  \\\n",
       "0                                                 {'classifier__C': 1}   \n",
       "1       {'classifier__max_depth': 10, 'classifier__n_estimators': 300}   \n",
       "2  {'classifier__learning_rate': 0.1, 'classifier__n_estimators': 150}   \n",
       "\n",
       "   Лучшая метрика  \n",
       "0        0.758692  \n",
       "1        0.824579  \n",
       "2        0.857691  "
      ]
     },
     "metadata": {},
     "output_type": "display_data"
    }
   ],
   "source": [
    "gb_best_params = grid_search_gb.best_params_\n",
    "gb_best_score = grid_search_gb.best_score_\n",
    "pd.set_option('display.max_colwidth', None)\n",
    "results.loc[2] = ['Градиентный бустинг', gb_best_params, gb_best_score]\n",
    "display(results)"
   ]
  },
  {
   "cell_type": "markdown",
   "metadata": {},
   "source": [
    "### Лучшая модель на кросс-валидации"
   ]
  },
  {
   "cell_type": "code",
   "execution_count": 68,
   "metadata": {},
   "outputs": [
    {
     "name": "stdout",
     "output_type": "stream",
     "text": [
      "Лучшая модель по AUC-ROC: Градиентный бустинг\n",
      "Значение AUC-ROC: 0.85769127509162\n",
      "Гиперпараметры лучшей модели:\n",
      "{'classifier__learning_rate': 0.1, 'classifier__n_estimators': 150}\n"
     ]
    }
   ],
   "source": [
    "best_model = results.loc[results['Лучшая метрика'].idxmax()]\n",
    "best_model_name = best_model['Модель']\n",
    "best_model_params = best_model['Лучшие параметры']\n",
    "best_score = best_model['Лучшая метрика']\n",
    "print(f\"Лучшая модель по AUC-ROC: {best_model_name}\")\n",
    "print(f\"Значение AUC-ROC: {best_score}\")\n",
    "print(\"Гиперпараметры лучшей модели:\")\n",
    "print(best_model_params)"
   ]
  },
  {
   "cell_type": "markdown",
   "metadata": {},
   "source": [
    "### Итоговая метрика на test "
   ]
  },
  {
   "cell_type": "code",
   "execution_count": 69,
   "metadata": {},
   "outputs": [
    {
     "data": {
      "text/html": [
       "<div>\n",
       "<style scoped>\n",
       "    .dataframe tbody tr th:only-of-type {\n",
       "        vertical-align: middle;\n",
       "    }\n",
       "\n",
       "    .dataframe tbody tr th {\n",
       "        vertical-align: top;\n",
       "    }\n",
       "\n",
       "    .dataframe thead th {\n",
       "        text-align: right;\n",
       "    }\n",
       "</style>\n",
       "<table border=\"1\" class=\"dataframe\">\n",
       "  <thead>\n",
       "    <tr style=\"text-align: right;\">\n",
       "      <th></th>\n",
       "      <th>Model</th>\n",
       "      <th>AUC-ROC</th>\n",
       "      <th>Accuracy</th>\n",
       "      <th>Гиперпараметры</th>\n",
       "    </tr>\n",
       "  </thead>\n",
       "  <tbody>\n",
       "    <tr>\n",
       "      <th>0</th>\n",
       "      <td>Градиентный Бустинг</td>\n",
       "      <td>0.882678</td>\n",
       "      <td>0.884725</td>\n",
       "      <td>{'classifier__learning_rate': 0.1, 'classifier__n_estimators': 150}</td>\n",
       "    </tr>\n",
       "  </tbody>\n",
       "</table>\n",
       "</div>"
      ],
      "text/plain": [
       "                 Model   AUC-ROC  Accuracy  \\\n",
       "0  Градиентный Бустинг  0.882678  0.884725   \n",
       "\n",
       "                                                        Гиперпараметры  \n",
       "0  {'classifier__learning_rate': 0.1, 'classifier__n_estimators': 150}  "
      ]
     },
     "execution_count": 69,
     "metadata": {},
     "output_type": "execute_result"
    }
   ],
   "source": [
    "test_model = {\n",
    "    'Model': ['Градиентный Бустинг'],\n",
    "    'AUC-ROC': [roc_auc_score(y_test, y_pred_gb)],\n",
    "    'Accuracy': [accuracy_score(y_true, np.round(y_pred_gb))],\n",
    "    'Гиперпараметры': [best_model_params]\n",
    "}\n",
    "\n",
    "\n",
    "best_test_model = pd.DataFrame(test_model)\n",
    "pd.set_option('display.max_colwidth', None)\n",
    "best_test_model"
   ]
  },
  {
   "cell_type": "markdown",
   "metadata": {},
   "source": [
    "проинтерпретируем полученные результаты с точки зрения бизнеса.\n",
    "\n",
    "AUC-ROC: Значение AUC-ROC равное 0.8827 говорит о том, что модель с высокой вероятностью правильно классифицирует случаи и генерирует более высокие вероятности для положительных классов по сравнению с отрицательными. Это означает, что модель обладает хорошей способностью различать между положительными и отрицательными случаями.\n",
    "\n",
    "Accuracy: Значение точности (accuracy) равное 0.8847 указывает на то, что модель правильно классифицирует около 88.47% тестовых примеров. Это говорит о том, что модель в целом демонстрирует высокую точность в предсказании классов.\n",
    "\n",
    "Общая интерпретация этих результатов для бизнеса состоит в том, что модель градиентного бустинга с наилучшими гиперпараметрами показывает хорошую способность различать между положительными и отрицательными случаями. Она также обладает высокой точностью в предсказании классов. Это может быть полезно во многих сценариях бизнеса, например, в задачах бинарной классификации, где важно точно определить положительные и отрицательные случаи, какой и является наша задача."
   ]
  },
  {
   "cell_type": "markdown",
   "metadata": {},
   "source": [
    "### Матрица ошибок"
   ]
  },
  {
   "cell_type": "code",
   "execution_count": 70,
   "metadata": {},
   "outputs": [
    {
     "name": "stdout",
     "output_type": "stream",
     "text": [
      "Матрица ошибок:\n",
      "[[  87  182]\n",
      " [  21 1471]]\n"
     ]
    }
   ],
   "source": [
    "confusion = confusion_matrix(y_true, np.round(y_pred_gb))\n",
    "\n",
    "print(\"Матрица ошибок:\")\n",
    "print(confusion)"
   ]
  },
  {
   "cell_type": "markdown",
   "metadata": {},
   "source": [
    "Интерпретация матрицы ошибок: \n",
    "\n",
    "первое значение - количество правильно классифицированных отрицательных случаев, в нашей матрице это значение равно 87, это значит модель правильно предсказала 87 расторжений договора\n",
    "\n",
    "второе значение - количество не правильно классифиццированных отрицательных случаев, в нашей матрице это значение равно 21, это означает, что модель пропустила 21 положительный случай (договор действителен) и отнесла их к группе расторгнутых договоров\n",
    "\n",
    "третье значение - 182, и оно означает количество неправильно классифицированных положительных случаев. модель ошибочно отнесла 182 договора к действующим\n",
    "\n",
    "четвертое значение - 1471, говорит о том, что модель правильно классифицировала 1471 положительный случай (договор действует)"
   ]
  },
  {
   "cell_type": "markdown",
   "metadata": {},
   "source": [
    "### Важность признаков"
   ]
  },
  {
   "cell_type": "code",
   "execution_count": 71,
   "metadata": {},
   "outputs": [
    {
     "name": "stdout",
     "output_type": "stream",
     "text": [
      "Оценка важности признаков:\n",
      "paymentmethod: 0.4565297762105712\n",
      "gender: 0.1689709062697957\n",
      "type: 0.11381993600686931\n",
      "paperlessbilling: 0.10015183311009912\n",
      "duration: 0.03804523700184296\n",
      "onlinesecurity: 0.03185914153701189\n",
      "partner: 0.03118769849905122\n",
      "streamingmovies: 0.019180028613065593\n",
      "streamingtv: 0.016111242242085818\n",
      "techsupport: 0.0052029262789796615\n",
      "onlinebackup: 0.00442079447442841\n",
      "internetservice: 0.0035140138992956565\n",
      "multiplelines: 0.0028808018243112092\n",
      "seniorcitizen: 0.0026677768106399087\n",
      "monthlycharges: 0.002646286935547117\n",
      "totalcharges: 0.0014527563378627126\n",
      "deviceprotection: 0.0009130819515306502\n",
      "dependents: 0.0004457619970120304\n"
     ]
    }
   ],
   "source": [
    "feature_importances = best_gb_model.named_steps['classifier'].feature_importances_\n",
    "sorted_importances = sorted(zip(feature_importances, categorical_features + numeric_features), reverse=True)\n",
    "print(\"Оценка важности признаков:\")\n",
    "for importance, feature in sorted_importances:\n",
    "    print(f\"{feature}: {importance}\")"
   ]
  },
  {
   "cell_type": "code",
   "execution_count": 72,
   "metadata": {},
   "outputs": [],
   "source": [
    "feature_importances = best_gb_model.named_steps['classifier'].feature_importances_\n",
    "features = categorical_features + numeric_features\n",
    "sorted_importances = sorted(zip(feature_importances, features), reverse=True)\n",
    "importances = [imp for imp, _ in sorted_importances]\n",
    "labels = [feat for _, feat in sorted_importances]"
   ]
  },
  {
   "cell_type": "code",
   "execution_count": 73,
   "metadata": {},
   "outputs": [
    {
     "data": {
      "image/png": "[encoded data removed]",
      "text/plain": [
       "<Figure size 1008x720 with 1 Axes>"
      ]
     },
     "metadata": {
      "needs_background": "light"
     },
     "output_type": "display_data"
    }
   ],
   "source": [
    "plt.figure(figsize=(14, 10))\n",
    "plt.bar(range(len(importances)), importances, align='center')\n",
    "plt.xticks(range(len(importances)), labels, rotation='vertical', fontsize=15)\n",
    "plt.xlabel('Признаки', fontsize=15)\n",
    "plt.ylabel('Важность', fontsize=15)\n",
    "plt.title('Оценка важности признаков', fontsize=15)\n",
    "plt.tight_layout()\n",
    "plt.show()"
   ]
  },
  {
   "cell_type": "markdown",
   "metadata": {},
   "source": [
    "Согласно оценке важности признаков видим, что набилее важные признаки для нашей модели градиентного бустинга являются:\n",
    "\n",
    "вид оплаты (0,457) - означает, что различные методы оплаты имеют существенное влияние на решение расторгнуть договор или остаться\n",
    "\n",
    "пол клиента (0,169) - влияет на решение уйти\\остаться\n",
    "\n",
    "тип контркта (0,114) - скорее всего, клиенты с долгосрочными контрактами менее склонны к оттоку, по сравнению с клиентами, у которых краткосрочные контракты\n",
    "\n",
    "опция безбумажного биллинга (100) - также влияет на активность клиентов. Возможно клиенты, которые предпочитают электронные счета, более склонны оставаться активными\n",
    "\n",
    "длительность использования услуг (0,038) - оказывает влияние на активность клиентов. Клиенты, которые пользуются услугами компании уже длительное время, скорее всего, будут и дальше ими пользоваться.\n",
    "\n",
    "Остальные признаки также вносят некоторый вклад в модель, но их важность относительно ниже.\n",
    "\n",
    "Эти результаты позволяют нам лучше понять, какие факторы оказывают наибольшее влияние на активность клиентов и могут помочь в принятии более обоснованных решений в области управления клиентами и предотвращении оттока."
   ]
  }
 ],
 "metadata": {
  "ExecuteTimeLog": [
   {
    "duration": 1792,
    "start_time": "2023-08-15T06:48:59.127Z"
   },
   {
    "duration": 319,
    "start_time": "2023-08-15T06:55:23.355Z"
   },
   {
    "duration": 3,
    "start_time": "2023-08-15T06:57:37.270Z"
   },
   {
    "duration": 67,
    "start_time": "2023-08-15T07:00:26.033Z"
   },
   {
    "duration": 14,
    "start_time": "2023-08-15T07:01:50.876Z"
   },
   {
    "duration": 53,
    "start_time": "2023-08-15T07:02:04.895Z"
   },
   {
    "duration": 26,
    "start_time": "2023-08-15T07:02:38.160Z"
   },
   {
    "duration": 32,
    "start_time": "2023-08-15T07:02:56.682Z"
   },
   {
    "duration": 10,
    "start_time": "2023-08-15T07:03:32.939Z"
   },
   {
    "duration": 110,
    "start_time": "2023-08-15T07:04:06.953Z"
   },
   {
    "duration": 12,
    "start_time": "2023-08-15T07:04:14.487Z"
   },
   {
    "duration": 10,
    "start_time": "2023-08-15T07:04:35.319Z"
   },
   {
    "duration": 98,
    "start_time": "2023-08-15T07:06:22.423Z"
   },
   {
    "duration": 3,
    "start_time": "2023-08-15T07:06:24.852Z"
   },
   {
    "duration": 34,
    "start_time": "2023-08-15T07:06:25.626Z"
   },
   {
    "duration": 12,
    "start_time": "2023-08-15T07:06:26.952Z"
   },
   {
    "duration": 9,
    "start_time": "2023-08-15T07:06:28.356Z"
   },
   {
    "duration": 12,
    "start_time": "2023-08-15T07:06:29.156Z"
   },
   {
    "duration": 8,
    "start_time": "2023-08-15T07:06:29.876Z"
   },
   {
    "duration": 11,
    "start_time": "2023-08-15T07:14:06.991Z"
   },
   {
    "duration": 13,
    "start_time": "2023-08-15T07:14:32.506Z"
   },
   {
    "duration": 5,
    "start_time": "2023-08-15T07:22:38.437Z"
   },
   {
    "duration": 8,
    "start_time": "2023-08-15T07:22:51.130Z"
   },
   {
    "duration": 48,
    "start_time": "2023-08-16T03:31:14.793Z"
   },
   {
    "duration": 2,
    "start_time": "2023-08-16T03:33:25.096Z"
   },
   {
    "duration": 5,
    "start_time": "2023-08-16T03:34:29.791Z"
   },
   {
    "duration": 1581,
    "start_time": "2023-08-16T03:34:38.026Z"
   },
   {
    "duration": 376,
    "start_time": "2023-08-16T03:34:40.735Z"
   },
   {
    "duration": 3,
    "start_time": "2023-08-16T03:34:42.163Z"
   },
   {
    "duration": 30,
    "start_time": "2023-08-16T03:34:43.742Z"
   },
   {
    "duration": 13,
    "start_time": "2023-08-16T03:34:44.668Z"
   },
   {
    "duration": 8,
    "start_time": "2023-08-16T03:34:45.649Z"
   },
   {
    "duration": 9,
    "start_time": "2023-08-16T03:34:46.252Z"
   },
   {
    "duration": 6,
    "start_time": "2023-08-16T03:34:46.818Z"
   },
   {
    "duration": 3,
    "start_time": "2023-08-16T03:34:47.422Z"
   },
   {
    "duration": 6,
    "start_time": "2023-08-16T03:34:47.984Z"
   },
   {
    "duration": 3,
    "start_time": "2023-08-16T03:34:48.788Z"
   },
   {
    "duration": 98,
    "start_time": "2023-08-16T03:34:50.042Z"
   },
   {
    "duration": 8,
    "start_time": "2023-08-16T03:35:37.067Z"
   },
   {
    "duration": 9,
    "start_time": "2023-08-16T03:35:49.069Z"
   },
   {
    "duration": 19,
    "start_time": "2023-08-16T03:48:11.183Z"
   },
   {
    "duration": 92,
    "start_time": "2023-08-16T03:48:51.118Z"
   },
   {
    "duration": 3,
    "start_time": "2023-08-16T03:48:51.876Z"
   },
   {
    "duration": 27,
    "start_time": "2023-08-16T03:48:52.552Z"
   },
   {
    "duration": 10,
    "start_time": "2023-08-16T03:48:53.042Z"
   },
   {
    "duration": 8,
    "start_time": "2023-08-16T03:48:53.468Z"
   },
   {
    "duration": 13,
    "start_time": "2023-08-16T03:48:53.886Z"
   },
   {
    "duration": 7,
    "start_time": "2023-08-16T03:48:54.224Z"
   },
   {
    "duration": 4,
    "start_time": "2023-08-16T03:48:54.630Z"
   },
   {
    "duration": 7,
    "start_time": "2023-08-16T03:48:55.160Z"
   },
   {
    "duration": 3,
    "start_time": "2023-08-16T03:48:55.758Z"
   },
   {
    "duration": 7,
    "start_time": "2023-08-16T03:48:56.280Z"
   },
   {
    "duration": 8,
    "start_time": "2023-08-16T03:48:56.796Z"
   },
   {
    "duration": 26,
    "start_time": "2023-08-16T03:48:57.672Z"
   },
   {
    "duration": 30,
    "start_time": "2023-08-16T03:49:21.888Z"
   },
   {
    "duration": 8,
    "start_time": "2023-08-16T03:54:49.654Z"
   },
   {
    "duration": 10,
    "start_time": "2023-08-16T03:55:29.299Z"
   },
   {
    "duration": 100,
    "start_time": "2023-08-16T03:56:06.786Z"
   },
   {
    "duration": 28,
    "start_time": "2023-08-16T03:56:13.015Z"
   },
   {
    "duration": 1518,
    "start_time": "2023-08-16T04:00:13.377Z"
   },
   {
    "duration": 1379,
    "start_time": "2023-08-16T04:00:47.324Z"
   },
   {
    "duration": 8,
    "start_time": "2023-08-16T04:01:12.124Z"
   },
   {
    "duration": 8,
    "start_time": "2023-08-16T04:01:22.160Z"
   },
   {
    "duration": 9,
    "start_time": "2023-08-16T04:01:46.174Z"
   },
   {
    "duration": 13,
    "start_time": "2023-08-16T04:02:09.587Z"
   },
   {
    "duration": 1377,
    "start_time": "2023-08-16T04:04:07.218Z"
   },
   {
    "duration": 92,
    "start_time": "2023-08-16T04:04:08.597Z"
   },
   {
    "duration": 3,
    "start_time": "2023-08-16T04:04:08.691Z"
   },
   {
    "duration": 47,
    "start_time": "2023-08-16T04:04:08.696Z"
   },
   {
    "duration": 14,
    "start_time": "2023-08-16T04:04:08.745Z"
   },
   {
    "duration": 8,
    "start_time": "2023-08-16T04:04:08.760Z"
   },
   {
    "duration": 13,
    "start_time": "2023-08-16T04:04:08.769Z"
   },
   {
    "duration": 11,
    "start_time": "2023-08-16T04:04:08.783Z"
   },
   {
    "duration": 6,
    "start_time": "2023-08-16T04:04:08.796Z"
   },
   {
    "duration": 17,
    "start_time": "2023-08-16T04:04:08.803Z"
   },
   {
    "duration": 17,
    "start_time": "2023-08-16T04:04:08.821Z"
   },
   {
    "duration": 16,
    "start_time": "2023-08-16T04:04:49.693Z"
   },
   {
    "duration": 136,
    "start_time": "2023-08-16T04:05:29.604Z"
   },
   {
    "duration": 4,
    "start_time": "2023-08-16T04:07:53.708Z"
   },
   {
    "duration": 27,
    "start_time": "2023-08-16T04:07:55.309Z"
   },
   {
    "duration": 1386,
    "start_time": "2023-08-16T04:08:17.098Z"
   },
   {
    "duration": 90,
    "start_time": "2023-08-16T04:08:18.485Z"
   },
   {
    "duration": 2,
    "start_time": "2023-08-16T04:08:18.577Z"
   },
   {
    "duration": 42,
    "start_time": "2023-08-16T04:08:18.581Z"
   },
   {
    "duration": 13,
    "start_time": "2023-08-16T04:08:18.625Z"
   },
   {
    "duration": 32,
    "start_time": "2023-08-16T04:08:18.639Z"
   },
   {
    "duration": 20,
    "start_time": "2023-08-16T04:08:18.672Z"
   },
   {
    "duration": 31,
    "start_time": "2023-08-16T04:08:18.694Z"
   },
   {
    "duration": 25,
    "start_time": "2023-08-16T04:08:18.726Z"
   },
   {
    "duration": 28,
    "start_time": "2023-08-16T04:08:18.753Z"
   },
   {
    "duration": 25,
    "start_time": "2023-08-16T04:08:18.782Z"
   },
   {
    "duration": 135,
    "start_time": "2023-08-16T04:08:18.809Z"
   },
   {
    "duration": 30,
    "start_time": "2023-08-16T04:08:31.626Z"
   },
   {
    "duration": 47,
    "start_time": "2023-08-16T04:09:09.694Z"
   },
   {
    "duration": 6,
    "start_time": "2023-08-16T04:09:22.867Z"
   },
   {
    "duration": 63,
    "start_time": "2023-08-16T04:09:55.449Z"
   },
   {
    "duration": 1419,
    "start_time": "2023-08-16T04:11:00.133Z"
   },
   {
    "duration": 96,
    "start_time": "2023-08-16T04:11:01.554Z"
   },
   {
    "duration": 3,
    "start_time": "2023-08-16T04:11:01.652Z"
   },
   {
    "duration": 84,
    "start_time": "2023-08-16T04:11:01.656Z"
   },
   {
    "duration": 24,
    "start_time": "2023-08-16T04:11:01.742Z"
   },
   {
    "duration": 45,
    "start_time": "2023-08-16T04:11:01.768Z"
   },
   {
    "duration": 135,
    "start_time": "2023-08-16T04:11:01.815Z"
   },
   {
    "duration": 123,
    "start_time": "2023-08-16T04:33:59.522Z"
   },
   {
    "duration": 112,
    "start_time": "2023-08-16T04:38:50.837Z"
   },
   {
    "duration": 9,
    "start_time": "2023-08-16T04:39:13.937Z"
   },
   {
    "duration": 9,
    "start_time": "2023-08-16T04:40:25.549Z"
   },
   {
    "duration": 8,
    "start_time": "2023-08-16T04:40:35.343Z"
   },
   {
    "duration": 8,
    "start_time": "2023-08-16T04:40:47.268Z"
   },
   {
    "duration": 5,
    "start_time": "2023-08-16T04:41:08.884Z"
   },
   {
    "duration": 12,
    "start_time": "2023-08-16T04:41:24.167Z"
   },
   {
    "duration": 10,
    "start_time": "2023-08-16T04:49:25.639Z"
   },
   {
    "duration": 8,
    "start_time": "2023-08-16T04:50:21.089Z"
   },
   {
    "duration": 9,
    "start_time": "2023-08-16T04:51:39.733Z"
   },
   {
    "duration": 14,
    "start_time": "2023-08-16T04:52:12.368Z"
   },
   {
    "duration": 4,
    "start_time": "2023-08-16T05:28:33.274Z"
   },
   {
    "duration": 14,
    "start_time": "2023-08-16T05:47:41.663Z"
   },
   {
    "duration": 1899,
    "start_time": "2023-08-16T05:53:12.397Z"
   },
   {
    "duration": 18,
    "start_time": "2023-08-16T05:56:48.481Z"
   },
   {
    "duration": 2001,
    "start_time": "2023-08-16T05:57:31.536Z"
   },
   {
    "duration": 24,
    "start_time": "2023-08-16T06:43:53.051Z"
   },
   {
    "duration": 13,
    "start_time": "2023-08-16T06:58:41.465Z"
   },
   {
    "duration": 20,
    "start_time": "2023-08-16T06:58:53.838Z"
   },
   {
    "duration": 18,
    "start_time": "2023-08-16T07:03:42.681Z"
   },
   {
    "duration": 87,
    "start_time": "2023-08-16T07:04:21.761Z"
   },
   {
    "duration": 1406,
    "start_time": "2023-08-16T07:04:33.774Z"
   },
   {
    "duration": 91,
    "start_time": "2023-08-16T07:04:35.182Z"
   },
   {
    "duration": 3,
    "start_time": "2023-08-16T07:04:35.274Z"
   },
   {
    "duration": 53,
    "start_time": "2023-08-16T07:04:35.278Z"
   },
   {
    "duration": 6,
    "start_time": "2023-08-16T07:04:35.332Z"
   },
   {
    "duration": 33,
    "start_time": "2023-08-16T07:04:35.340Z"
   },
   {
    "duration": 120,
    "start_time": "2023-08-16T07:04:35.374Z"
   },
   {
    "duration": 12,
    "start_time": "2023-08-16T07:04:35.495Z"
   },
   {
    "duration": 30,
    "start_time": "2023-08-16T07:04:35.508Z"
   },
   {
    "duration": 19,
    "start_time": "2023-08-16T07:04:35.541Z"
   },
   {
    "duration": 40,
    "start_time": "2023-08-16T07:04:35.562Z"
   },
   {
    "duration": 49,
    "start_time": "2023-08-16T07:04:35.603Z"
   },
   {
    "duration": 52,
    "start_time": "2023-08-16T07:04:35.653Z"
   },
   {
    "duration": 17,
    "start_time": "2023-08-16T07:12:02.807Z"
   },
   {
    "duration": 413,
    "start_time": "2023-08-16T07:18:11.206Z"
   },
   {
    "duration": 455,
    "start_time": "2023-08-16T07:18:53.658Z"
   },
   {
    "duration": 521,
    "start_time": "2023-08-16T07:19:04.133Z"
   },
   {
    "duration": 339,
    "start_time": "2023-08-16T07:28:01.625Z"
   },
   {
    "duration": 245,
    "start_time": "2023-08-16T07:28:08.180Z"
   },
   {
    "duration": 315,
    "start_time": "2023-08-16T07:28:13.556Z"
   },
   {
    "duration": 349,
    "start_time": "2023-08-16T07:28:19.542Z"
   },
   {
    "duration": 511,
    "start_time": "2023-08-16T07:41:58.635Z"
   },
   {
    "duration": 523,
    "start_time": "2023-08-16T07:42:08.436Z"
   },
   {
    "duration": 875,
    "start_time": "2023-08-16T07:45:43.893Z"
   },
   {
    "duration": 74,
    "start_time": "2023-08-16T07:51:35.244Z"
   },
   {
    "duration": 94,
    "start_time": "2023-08-16T07:51:44.933Z"
   },
   {
    "duration": 3,
    "start_time": "2023-08-16T08:08:24.451Z"
   },
   {
    "duration": 2,
    "start_time": "2023-08-16T08:09:34.310Z"
   },
   {
    "duration": 58,
    "start_time": "2023-08-22T10:14:02.842Z"
   },
   {
    "duration": 1719,
    "start_time": "2023-08-22T10:14:31.870Z"
   },
   {
    "duration": 343,
    "start_time": "2023-08-22T10:14:33.592Z"
   },
   {
    "duration": 4,
    "start_time": "2023-08-22T10:14:33.938Z"
   },
   {
    "duration": 108,
    "start_time": "2023-08-22T10:14:33.943Z"
   },
   {
    "duration": 4,
    "start_time": "2023-08-22T10:14:34.053Z"
   },
   {
    "duration": 32,
    "start_time": "2023-08-22T10:14:34.059Z"
   },
   {
    "duration": 204,
    "start_time": "2023-08-22T10:14:34.092Z"
   },
   {
    "duration": 64,
    "start_time": "2023-08-22T10:14:34.298Z"
   },
   {
    "duration": 33,
    "start_time": "2023-08-22T10:14:34.364Z"
   },
   {
    "duration": 41,
    "start_time": "2023-08-22T10:14:34.399Z"
   },
   {
    "duration": 84,
    "start_time": "2023-08-22T10:14:34.442Z"
   },
   {
    "duration": 97,
    "start_time": "2023-08-22T10:14:34.528Z"
   },
   {
    "duration": 91,
    "start_time": "2023-08-22T10:14:34.626Z"
   },
   {
    "duration": 16,
    "start_time": "2023-08-22T10:14:34.720Z"
   },
   {
    "duration": 685,
    "start_time": "2023-08-22T10:14:34.738Z"
   },
   {
    "duration": 581,
    "start_time": "2023-08-22T10:14:35.425Z"
   },
   {
    "duration": 696,
    "start_time": "2023-08-22T10:14:36.009Z"
   },
   {
    "duration": 985,
    "start_time": "2023-08-22T10:14:36.707Z"
   },
   {
    "duration": 137,
    "start_time": "2023-08-22T10:14:37.695Z"
   },
   {
    "duration": 33,
    "start_time": "2023-08-22T10:14:37.841Z"
   },
   {
    "duration": 24,
    "start_time": "2023-08-22T10:14:57.067Z"
   },
   {
    "duration": 28,
    "start_time": "2023-08-22T10:15:52.525Z"
   },
   {
    "duration": 16,
    "start_time": "2023-08-22T10:19:57.740Z"
   },
   {
    "duration": 2434,
    "start_time": "2023-08-22T10:27:23.394Z"
   },
   {
    "duration": 3,
    "start_time": "2023-08-22T10:31:10.375Z"
   },
   {
    "duration": 12,
    "start_time": "2023-08-22T10:31:39.591Z"
   },
   {
    "duration": 18,
    "start_time": "2023-08-22T10:31:57.442Z"
   },
   {
    "duration": 1673,
    "start_time": "2023-08-22T10:32:28.537Z"
   },
   {
    "duration": 1489,
    "start_time": "2023-08-22T10:40:32.555Z"
   },
   {
    "duration": 93,
    "start_time": "2023-08-22T10:40:34.046Z"
   },
   {
    "duration": 3,
    "start_time": "2023-08-22T10:40:34.141Z"
   },
   {
    "duration": 38,
    "start_time": "2023-08-22T10:40:34.147Z"
   },
   {
    "duration": 4,
    "start_time": "2023-08-22T10:40:34.187Z"
   },
   {
    "duration": 15,
    "start_time": "2023-08-22T10:40:34.193Z"
   },
   {
    "duration": 153,
    "start_time": "2023-08-22T10:40:34.210Z"
   },
   {
    "duration": 12,
    "start_time": "2023-08-22T10:40:34.365Z"
   },
   {
    "duration": 5,
    "start_time": "2023-08-22T10:40:34.379Z"
   },
   {
    "duration": 51,
    "start_time": "2023-08-22T10:40:34.387Z"
   },
   {
    "duration": 22,
    "start_time": "2023-08-22T10:40:34.440Z"
   },
   {
    "duration": 17,
    "start_time": "2023-08-22T10:40:34.464Z"
   },
   {
    "duration": 74,
    "start_time": "2023-08-22T10:40:34.483Z"
   },
   {
    "duration": 15,
    "start_time": "2023-08-22T10:40:34.558Z"
   },
   {
    "duration": 631,
    "start_time": "2023-08-22T10:40:34.575Z"
   },
   {
    "duration": 486,
    "start_time": "2023-08-22T10:40:35.208Z"
   },
   {
    "duration": 687,
    "start_time": "2023-08-22T10:40:35.695Z"
   },
   {
    "duration": 970,
    "start_time": "2023-08-22T10:40:36.384Z"
   },
   {
    "duration": 125,
    "start_time": "2023-08-22T10:40:37.356Z"
   },
   {
    "duration": 29,
    "start_time": "2023-08-22T10:40:37.483Z"
   },
   {
    "duration": 36,
    "start_time": "2023-08-22T10:40:37.514Z"
   },
   {
    "duration": 24,
    "start_time": "2023-08-22T10:40:37.552Z"
   },
   {
    "duration": 3,
    "start_time": "2023-08-22T10:40:37.578Z"
   },
   {
    "duration": 126,
    "start_time": "2023-08-22T10:42:45.465Z"
   },
   {
    "duration": 6,
    "start_time": "2023-08-22T11:35:15.384Z"
   },
   {
    "duration": 11,
    "start_time": "2023-08-22T11:38:57.046Z"
   },
   {
    "duration": 14,
    "start_time": "2023-08-22T11:43:13.378Z"
   },
   {
    "duration": 23,
    "start_time": "2023-08-22T11:43:37.167Z"
   },
   {
    "duration": 12,
    "start_time": "2023-08-22T11:49:22.800Z"
   },
   {
    "duration": 19,
    "start_time": "2023-08-22T11:49:43.152Z"
   },
   {
    "duration": 1629,
    "start_time": "2023-08-22T11:50:05.462Z"
   },
   {
    "duration": 101,
    "start_time": "2023-08-22T11:50:07.093Z"
   },
   {
    "duration": 3,
    "start_time": "2023-08-22T11:50:07.196Z"
   },
   {
    "duration": 43,
    "start_time": "2023-08-22T11:50:07.200Z"
   },
   {
    "duration": 4,
    "start_time": "2023-08-22T11:50:07.246Z"
   },
   {
    "duration": 7,
    "start_time": "2023-08-22T11:50:07.252Z"
   },
   {
    "duration": 144,
    "start_time": "2023-08-22T11:50:07.260Z"
   },
   {
    "duration": 39,
    "start_time": "2023-08-22T11:50:07.405Z"
   },
   {
    "duration": 5,
    "start_time": "2023-08-22T11:50:07.445Z"
   },
   {
    "duration": 15,
    "start_time": "2023-08-22T11:50:07.451Z"
   },
   {
    "duration": 16,
    "start_time": "2023-08-22T11:50:07.467Z"
   },
   {
    "duration": 54,
    "start_time": "2023-08-22T11:50:07.484Z"
   },
   {
    "duration": 22,
    "start_time": "2023-08-22T11:50:07.542Z"
   },
   {
    "duration": 16,
    "start_time": "2023-08-22T11:50:07.567Z"
   },
   {
    "duration": 595,
    "start_time": "2023-08-22T11:50:07.585Z"
   },
   {
    "duration": 470,
    "start_time": "2023-08-22T11:50:08.182Z"
   },
   {
    "duration": 683,
    "start_time": "2023-08-22T11:50:08.654Z"
   },
   {
    "duration": 924,
    "start_time": "2023-08-22T11:50:09.339Z"
   },
   {
    "duration": 138,
    "start_time": "2023-08-22T11:50:10.265Z"
   },
   {
    "duration": 49,
    "start_time": "2023-08-22T11:50:10.404Z"
   },
   {
    "duration": 22,
    "start_time": "2023-08-22T11:50:10.455Z"
   },
   {
    "duration": 17,
    "start_time": "2023-08-22T11:50:10.478Z"
   },
   {
    "duration": 58,
    "start_time": "2023-08-22T11:50:10.496Z"
   },
   {
    "duration": 9,
    "start_time": "2023-08-22T11:50:10.556Z"
   },
   {
    "duration": 32,
    "start_time": "2023-08-22T11:50:10.567Z"
   },
   {
    "duration": 2,
    "start_time": "2023-08-22T11:50:10.601Z"
   },
   {
    "duration": 139,
    "start_time": "2023-08-22T11:50:10.605Z"
   },
   {
    "duration": 3,
    "start_time": "2023-08-22T11:56:16.803Z"
   },
   {
    "duration": 6,
    "start_time": "2023-08-22T11:56:25.343Z"
   },
   {
    "duration": 3,
    "start_time": "2023-08-22T11:57:53.206Z"
   },
   {
    "duration": 18,
    "start_time": "2023-08-22T11:57:56.385Z"
   },
   {
    "duration": 1764,
    "start_time": "2023-08-22T11:58:08.731Z"
   },
   {
    "duration": 104,
    "start_time": "2023-08-22T11:58:10.497Z"
   },
   {
    "duration": 3,
    "start_time": "2023-08-22T11:58:10.602Z"
   },
   {
    "duration": 63,
    "start_time": "2023-08-22T11:58:10.607Z"
   },
   {
    "duration": 4,
    "start_time": "2023-08-22T11:58:10.672Z"
   },
   {
    "duration": 19,
    "start_time": "2023-08-22T11:58:10.678Z"
   },
   {
    "duration": 178,
    "start_time": "2023-08-22T11:58:10.699Z"
   },
   {
    "duration": 14,
    "start_time": "2023-08-22T11:58:10.879Z"
   },
   {
    "duration": 35,
    "start_time": "2023-08-22T11:58:10.895Z"
   },
   {
    "duration": 27,
    "start_time": "2023-08-22T11:58:10.932Z"
   },
   {
    "duration": 16,
    "start_time": "2023-08-22T11:58:10.961Z"
   },
   {
    "duration": 15,
    "start_time": "2023-08-22T11:58:10.979Z"
   },
   {
    "duration": 56,
    "start_time": "2023-08-22T11:58:10.996Z"
   },
   {
    "duration": 17,
    "start_time": "2023-08-22T11:58:11.056Z"
   },
   {
    "duration": 665,
    "start_time": "2023-08-22T11:58:11.074Z"
   },
   {
    "duration": 474,
    "start_time": "2023-08-22T11:58:11.741Z"
   },
   {
    "duration": 660,
    "start_time": "2023-08-22T11:58:12.217Z"
   },
   {
    "duration": 996,
    "start_time": "2023-08-22T11:58:12.879Z"
   },
   {
    "duration": 143,
    "start_time": "2023-08-22T11:58:13.877Z"
   },
   {
    "duration": 42,
    "start_time": "2023-08-22T11:58:14.021Z"
   },
   {
    "duration": 22,
    "start_time": "2023-08-22T11:58:14.064Z"
   },
   {
    "duration": 23,
    "start_time": "2023-08-22T11:58:14.088Z"
   },
   {
    "duration": 40,
    "start_time": "2023-08-22T11:58:14.124Z"
   },
   {
    "duration": 6,
    "start_time": "2023-08-22T11:58:14.166Z"
   },
   {
    "duration": 4,
    "start_time": "2023-08-22T11:58:14.173Z"
   },
   {
    "duration": 18,
    "start_time": "2023-08-22T11:58:14.179Z"
   },
   {
    "duration": 11,
    "start_time": "2023-08-22T11:58:14.229Z"
   },
   {
    "duration": 4,
    "start_time": "2023-08-22T11:58:14.242Z"
   },
   {
    "duration": 4,
    "start_time": "2023-08-22T11:59:26.013Z"
   },
   {
    "duration": 27,
    "start_time": "2023-08-22T12:02:28.842Z"
   },
   {
    "duration": 1079,
    "start_time": "2023-08-22T12:23:50.662Z"
   },
   {
    "duration": 4,
    "start_time": "2023-08-22T13:04:16.882Z"
   },
   {
    "duration": 2,
    "start_time": "2023-08-22T13:06:38.219Z"
   },
   {
    "duration": 143,
    "start_time": "2023-08-22T13:09:12.410Z"
   },
   {
    "duration": 7,
    "start_time": "2023-08-22T13:10:41.049Z"
   },
   {
    "duration": 1840,
    "start_time": "2023-08-22T13:17:37.745Z"
   },
   {
    "duration": 14,
    "start_time": "2023-08-22T13:18:09.048Z"
   },
   {
    "duration": 27,
    "start_time": "2023-08-22T13:20:18.919Z"
   },
   {
    "duration": 2,
    "start_time": "2023-08-22T13:23:38.588Z"
   },
   {
    "duration": 28,
    "start_time": "2023-08-22T13:25:25.340Z"
   },
   {
    "duration": 16,
    "start_time": "2023-08-22T13:25:40.791Z"
   },
   {
    "duration": 27,
    "start_time": "2023-08-22T13:27:10.332Z"
   },
   {
    "duration": 9,
    "start_time": "2023-08-22T13:32:57.151Z"
   },
   {
    "duration": 6,
    "start_time": "2023-08-22T13:33:42.994Z"
   },
   {
    "duration": 46,
    "start_time": "2023-08-22T13:33:48.222Z"
   },
   {
    "duration": 26,
    "start_time": "2023-08-22T13:34:01.843Z"
   },
   {
    "duration": 1663,
    "start_time": "2023-08-22T13:39:04.443Z"
   },
   {
    "duration": 154,
    "start_time": "2023-08-22T13:39:06.110Z"
   },
   {
    "duration": 6,
    "start_time": "2023-08-22T13:39:06.266Z"
   },
   {
    "duration": 111,
    "start_time": "2023-08-22T13:39:06.274Z"
   },
   {
    "duration": 99,
    "start_time": "2023-08-22T13:39:06.387Z"
   },
   {
    "duration": 204,
    "start_time": "2023-08-22T13:39:06.488Z"
   },
   {
    "duration": 384,
    "start_time": "2023-08-22T13:39:06.694Z"
   },
   {
    "duration": 12,
    "start_time": "2023-08-22T13:39:07.079Z"
   },
   {
    "duration": 62,
    "start_time": "2023-08-22T13:39:07.092Z"
   },
   {
    "duration": 207,
    "start_time": "2023-08-22T13:39:07.156Z"
   },
   {
    "duration": 48,
    "start_time": "2023-08-22T13:39:07.365Z"
   },
   {
    "duration": 138,
    "start_time": "2023-08-22T13:39:07.415Z"
   },
   {
    "duration": 61,
    "start_time": "2023-08-22T13:39:07.555Z"
   },
   {
    "duration": 45,
    "start_time": "2023-08-22T13:39:07.619Z"
   },
   {
    "duration": 696,
    "start_time": "2023-08-22T13:39:07.665Z"
   },
   {
    "duration": 508,
    "start_time": "2023-08-22T13:39:08.362Z"
   },
   {
    "duration": 709,
    "start_time": "2023-08-22T13:39:08.872Z"
   },
   {
    "duration": 1041,
    "start_time": "2023-08-22T13:39:09.582Z"
   },
   {
    "duration": 130,
    "start_time": "2023-08-22T13:39:10.635Z"
   },
   {
    "duration": 28,
    "start_time": "2023-08-22T13:39:10.767Z"
   },
   {
    "duration": 36,
    "start_time": "2023-08-22T13:39:10.797Z"
   },
   {
    "duration": 24,
    "start_time": "2023-08-22T13:39:10.835Z"
   },
   {
    "duration": 31,
    "start_time": "2023-08-22T13:39:10.861Z"
   },
   {
    "duration": 6,
    "start_time": "2023-08-22T13:39:10.895Z"
   },
   {
    "duration": 27,
    "start_time": "2023-08-22T13:39:10.903Z"
   },
   {
    "duration": 23,
    "start_time": "2023-08-22T13:39:10.945Z"
   },
   {
    "duration": 47,
    "start_time": "2023-08-22T13:39:10.970Z"
   },
   {
    "duration": 1127,
    "start_time": "2023-08-22T13:39:11.019Z"
   },
   {
    "duration": 3,
    "start_time": "2023-08-22T13:39:12.148Z"
   },
   {
    "duration": 15,
    "start_time": "2023-08-22T13:39:12.152Z"
   },
   {
    "duration": 102,
    "start_time": "2023-08-22T13:39:12.169Z"
   },
   {
    "duration": 0,
    "start_time": "2023-08-22T13:39:12.273Z"
   },
   {
    "duration": 0,
    "start_time": "2023-08-22T13:39:12.274Z"
   },
   {
    "duration": 0,
    "start_time": "2023-08-22T13:39:12.276Z"
   },
   {
    "duration": 0,
    "start_time": "2023-08-22T13:39:12.278Z"
   },
   {
    "duration": 0,
    "start_time": "2023-08-22T13:39:12.279Z"
   },
   {
    "duration": 0,
    "start_time": "2023-08-22T13:39:12.280Z"
   },
   {
    "duration": 2,
    "start_time": "2023-08-22T13:39:31.383Z"
   },
   {
    "duration": 3,
    "start_time": "2023-08-22T13:39:32.194Z"
   },
   {
    "duration": 38,
    "start_time": "2023-08-22T13:39:33.243Z"
   },
   {
    "duration": 13,
    "start_time": "2023-08-22T13:39:34.467Z"
   },
   {
    "duration": 146,
    "start_time": "2023-08-22T13:46:07.234Z"
   },
   {
    "duration": 11,
    "start_time": "2023-08-22T13:46:43.899Z"
   },
   {
    "duration": 13,
    "start_time": "2023-08-22T13:47:16.878Z"
   },
   {
    "duration": 3406,
    "start_time": "2023-08-22T13:49:36.682Z"
   },
   {
    "duration": 18,
    "start_time": "2023-08-22T13:49:40.090Z"
   },
   {
    "duration": 3814,
    "start_time": "2023-08-22T13:49:46.546Z"
   },
   {
    "duration": 4537,
    "start_time": "2023-08-22T13:51:41.179Z"
   },
   {
    "duration": 3406,
    "start_time": "2023-08-22T14:09:00.943Z"
   },
   {
    "duration": 3440,
    "start_time": "2023-08-23T03:51:37.196Z"
   },
   {
    "duration": 1714,
    "start_time": "2023-08-23T03:51:40.639Z"
   },
   {
    "duration": 396,
    "start_time": "2023-08-23T03:51:42.355Z"
   },
   {
    "duration": 3,
    "start_time": "2023-08-23T03:51:42.754Z"
   },
   {
    "duration": 50,
    "start_time": "2023-08-23T03:51:42.758Z"
   },
   {
    "duration": 4,
    "start_time": "2023-08-23T03:51:42.810Z"
   },
   {
    "duration": 6,
    "start_time": "2023-08-23T03:51:42.815Z"
   },
   {
    "duration": 152,
    "start_time": "2023-08-23T03:51:42.822Z"
   },
   {
    "duration": 23,
    "start_time": "2023-08-23T03:51:42.976Z"
   },
   {
    "duration": 8,
    "start_time": "2023-08-23T03:51:43.002Z"
   },
   {
    "duration": 18,
    "start_time": "2023-08-23T03:51:43.011Z"
   },
   {
    "duration": 45,
    "start_time": "2023-08-23T03:51:43.031Z"
   },
   {
    "duration": 23,
    "start_time": "2023-08-23T03:51:43.077Z"
   },
   {
    "duration": 29,
    "start_time": "2023-08-23T03:51:43.101Z"
   },
   {
    "duration": 17,
    "start_time": "2023-08-23T03:51:43.131Z"
   },
   {
    "duration": 590,
    "start_time": "2023-08-23T03:51:43.149Z"
   },
   {
    "duration": 515,
    "start_time": "2023-08-23T03:51:43.740Z"
   },
   {
    "duration": 652,
    "start_time": "2023-08-23T03:51:44.267Z"
   },
   {
    "duration": 960,
    "start_time": "2023-08-23T03:51:44.920Z"
   },
   {
    "duration": 105,
    "start_time": "2023-08-23T03:51:45.887Z"
   },
   {
    "duration": 28,
    "start_time": "2023-08-23T03:51:45.994Z"
   },
   {
    "duration": 47,
    "start_time": "2023-08-23T03:51:46.023Z"
   },
   {
    "duration": 18,
    "start_time": "2023-08-23T03:51:46.073Z"
   },
   {
    "duration": 28,
    "start_time": "2023-08-23T03:51:46.092Z"
   },
   {
    "duration": 5,
    "start_time": "2023-08-23T03:51:46.122Z"
   },
   {
    "duration": 5,
    "start_time": "2023-08-23T03:51:46.128Z"
   },
   {
    "duration": 41,
    "start_time": "2023-08-23T03:51:46.135Z"
   },
   {
    "duration": 24,
    "start_time": "2023-08-23T03:51:46.179Z"
   },
   {
    "duration": 1066,
    "start_time": "2023-08-23T03:51:46.204Z"
   },
   {
    "duration": 5,
    "start_time": "2023-08-23T03:51:47.273Z"
   },
   {
    "duration": 14,
    "start_time": "2023-08-23T03:51:47.280Z"
   },
   {
    "duration": 12,
    "start_time": "2023-08-23T03:51:47.296Z"
   },
   {
    "duration": 6,
    "start_time": "2023-08-23T03:51:47.310Z"
   },
   {
    "duration": 38,
    "start_time": "2023-08-23T03:51:47.317Z"
   },
   {
    "duration": 21,
    "start_time": "2023-08-23T03:51:47.357Z"
   },
   {
    "duration": 3145,
    "start_time": "2023-08-23T03:51:47.380Z"
   },
   {
    "duration": 2628,
    "start_time": "2023-08-23T05:53:17.875Z"
   },
   {
    "duration": 7,
    "start_time": "2023-08-23T06:05:46.901Z"
   },
   {
    "duration": 18,
    "start_time": "2023-08-23T06:06:05.993Z"
   },
   {
    "duration": 17,
    "start_time": "2023-08-23T06:19:10.254Z"
   },
   {
    "duration": 6,
    "start_time": "2023-08-23T06:30:28.488Z"
   },
   {
    "duration": 15,
    "start_time": "2023-08-23T06:30:34.798Z"
   },
   {
    "duration": 392,
    "start_time": "2023-08-23T06:33:53.407Z"
   },
   {
    "duration": 1081,
    "start_time": "2023-08-23T06:36:08.420Z"
   },
   {
    "duration": 31,
    "start_time": "2023-08-23T06:36:33.956Z"
   },
   {
    "duration": 23,
    "start_time": "2023-08-23T06:36:42.393Z"
   },
   {
    "duration": 38,
    "start_time": "2023-08-23T06:36:56.997Z"
   },
   {
    "duration": 6,
    "start_time": "2023-08-23T06:37:06.833Z"
   },
   {
    "duration": 14,
    "start_time": "2023-08-23T06:37:16.530Z"
   },
   {
    "duration": 2754,
    "start_time": "2023-08-23T07:00:46.272Z"
   },
   {
    "duration": 1746,
    "start_time": "2023-08-23T07:00:49.029Z"
   },
   {
    "duration": 142,
    "start_time": "2023-08-23T07:00:50.800Z"
   },
   {
    "duration": 3,
    "start_time": "2023-08-23T07:00:50.943Z"
   },
   {
    "duration": 60,
    "start_time": "2023-08-23T07:00:50.949Z"
   },
   {
    "duration": 5,
    "start_time": "2023-08-23T07:00:51.016Z"
   },
   {
    "duration": 9,
    "start_time": "2023-08-23T07:00:51.023Z"
   },
   {
    "duration": 197,
    "start_time": "2023-08-23T07:00:51.034Z"
   },
   {
    "duration": 13,
    "start_time": "2023-08-23T07:00:51.233Z"
   },
   {
    "duration": 14,
    "start_time": "2023-08-23T07:00:51.248Z"
   },
   {
    "duration": 32,
    "start_time": "2023-08-23T07:00:51.263Z"
   },
   {
    "duration": 26,
    "start_time": "2023-08-23T07:00:51.297Z"
   },
   {
    "duration": 21,
    "start_time": "2023-08-23T07:00:51.325Z"
   },
   {
    "duration": 44,
    "start_time": "2023-08-23T07:00:51.359Z"
   },
   {
    "duration": 20,
    "start_time": "2023-08-23T07:00:51.405Z"
   },
   {
    "duration": 723,
    "start_time": "2023-08-23T07:00:51.427Z"
   },
   {
    "duration": 575,
    "start_time": "2023-08-23T07:00:52.153Z"
   },
   {
    "duration": 711,
    "start_time": "2023-08-23T07:00:52.732Z"
   },
   {
    "duration": 1229,
    "start_time": "2023-08-23T07:00:53.446Z"
   },
   {
    "duration": 179,
    "start_time": "2023-08-23T07:00:54.683Z"
   },
   {
    "duration": 51,
    "start_time": "2023-08-23T07:00:54.864Z"
   },
   {
    "duration": 42,
    "start_time": "2023-08-23T07:00:54.920Z"
   },
   {
    "duration": 38,
    "start_time": "2023-08-23T07:00:54.966Z"
   },
   {
    "duration": 52,
    "start_time": "2023-08-23T07:00:55.014Z"
   },
   {
    "duration": 12,
    "start_time": "2023-08-23T07:00:55.068Z"
   },
   {
    "duration": 9,
    "start_time": "2023-08-23T07:00:55.083Z"
   },
   {
    "duration": 44,
    "start_time": "2023-08-23T07:00:55.095Z"
   },
   {
    "duration": 34,
    "start_time": "2023-08-23T07:00:55.142Z"
   },
   {
    "duration": 1364,
    "start_time": "2023-08-23T07:00:55.178Z"
   },
   {
    "duration": 3,
    "start_time": "2023-08-23T07:00:56.545Z"
   },
   {
    "duration": 28,
    "start_time": "2023-08-23T07:00:56.549Z"
   },
   {
    "duration": 15,
    "start_time": "2023-08-23T07:00:56.578Z"
   },
   {
    "duration": 14,
    "start_time": "2023-08-23T07:00:56.595Z"
   },
   {
    "duration": 51,
    "start_time": "2023-08-23T07:00:56.613Z"
   },
   {
    "duration": 29,
    "start_time": "2023-08-23T07:00:56.666Z"
   },
   {
    "duration": 3960,
    "start_time": "2023-08-23T07:00:56.697Z"
   },
   {
    "duration": 7,
    "start_time": "2023-08-23T07:01:00.662Z"
   },
   {
    "duration": 238,
    "start_time": "2023-08-23T07:01:00.670Z"
   },
   {
    "duration": 93,
    "start_time": "2023-08-23T07:01:00.910Z"
   },
   {
    "duration": 155,
    "start_time": "2023-08-23T07:01:01.008Z"
   },
   {
    "duration": 164,
    "start_time": "2023-08-23T07:01:01.167Z"
   },
   {
    "duration": 87,
    "start_time": "2023-08-23T07:01:01.337Z"
   },
   {
    "duration": 108,
    "start_time": "2023-08-23T07:01:01.427Z"
   },
   {
    "duration": 82,
    "start_time": "2023-08-23T07:01:01.538Z"
   },
   {
    "duration": 94,
    "start_time": "2023-08-23T07:01:01.622Z"
   },
   {
    "duration": 3881,
    "start_time": "2023-08-23T07:11:51.512Z"
   },
   {
    "duration": 3512,
    "start_time": "2023-08-23T07:12:16.602Z"
   },
   {
    "duration": 3517,
    "start_time": "2023-08-23T07:14:12.182Z"
   },
   {
    "duration": 156,
    "start_time": "2023-08-23T07:14:28.786Z"
   },
   {
    "duration": 3862,
    "start_time": "2023-08-23T07:14:41.637Z"
   },
   {
    "duration": 2643,
    "start_time": "2023-08-23T07:23:17.324Z"
   },
   {
    "duration": 1883,
    "start_time": "2023-08-23T07:23:19.970Z"
   },
   {
    "duration": 140,
    "start_time": "2023-08-23T07:23:21.854Z"
   },
   {
    "duration": 53,
    "start_time": "2023-08-23T07:23:21.996Z"
   },
   {
    "duration": 152,
    "start_time": "2023-08-23T07:23:22.051Z"
   },
   {
    "duration": 5,
    "start_time": "2023-08-23T07:23:22.211Z"
   },
   {
    "duration": 6,
    "start_time": "2023-08-23T07:23:22.218Z"
   },
   {
    "duration": 183,
    "start_time": "2023-08-23T07:23:22.226Z"
   },
   {
    "duration": 16,
    "start_time": "2023-08-23T07:23:22.411Z"
   },
   {
    "duration": 12,
    "start_time": "2023-08-23T07:23:22.430Z"
   },
   {
    "duration": 36,
    "start_time": "2023-08-23T07:23:22.464Z"
   },
   {
    "duration": 24,
    "start_time": "2023-08-23T07:23:22.502Z"
   },
   {
    "duration": 18,
    "start_time": "2023-08-23T07:23:22.528Z"
   },
   {
    "duration": 45,
    "start_time": "2023-08-23T07:23:22.549Z"
   },
   {
    "duration": 25,
    "start_time": "2023-08-23T07:23:22.597Z"
   },
   {
    "duration": 727,
    "start_time": "2023-08-23T07:23:22.624Z"
   },
   {
    "duration": 564,
    "start_time": "2023-08-23T07:23:23.353Z"
   },
   {
    "duration": 855,
    "start_time": "2023-08-23T07:23:23.920Z"
   },
   {
    "duration": 1133,
    "start_time": "2023-08-23T07:23:24.781Z"
   },
   {
    "duration": 160,
    "start_time": "2023-08-23T07:23:25.929Z"
   },
   {
    "duration": 42,
    "start_time": "2023-08-23T07:23:26.091Z"
   },
   {
    "duration": 56,
    "start_time": "2023-08-23T07:23:26.139Z"
   },
   {
    "duration": 22,
    "start_time": "2023-08-23T07:23:26.200Z"
   },
   {
    "duration": 38,
    "start_time": "2023-08-23T07:23:26.224Z"
   },
   {
    "duration": 5,
    "start_time": "2023-08-23T07:23:26.264Z"
   },
   {
    "duration": 16,
    "start_time": "2023-08-23T07:23:26.272Z"
   },
   {
    "duration": 29,
    "start_time": "2023-08-23T07:23:26.290Z"
   },
   {
    "duration": 47,
    "start_time": "2023-08-23T07:23:26.325Z"
   },
   {
    "duration": 1287,
    "start_time": "2023-08-23T07:23:26.384Z"
   },
   {
    "duration": 14,
    "start_time": "2023-08-23T07:23:27.673Z"
   },
   {
    "duration": 17,
    "start_time": "2023-08-23T07:23:27.694Z"
   },
   {
    "duration": 12,
    "start_time": "2023-08-23T07:23:27.716Z"
   },
   {
    "duration": 7,
    "start_time": "2023-08-23T07:23:27.730Z"
   },
   {
    "duration": 48,
    "start_time": "2023-08-23T07:23:27.740Z"
   },
   {
    "duration": 22,
    "start_time": "2023-08-23T07:23:27.789Z"
   },
   {
    "duration": 3904,
    "start_time": "2023-08-23T07:23:27.813Z"
   },
   {
    "duration": 3,
    "start_time": "2023-08-23T07:23:31.719Z"
   },
   {
    "duration": 105,
    "start_time": "2023-08-23T07:23:31.724Z"
   },
   {
    "duration": 92,
    "start_time": "2023-08-23T07:23:31.831Z"
   },
   {
    "duration": 73,
    "start_time": "2023-08-23T07:23:31.924Z"
   },
   {
    "duration": 32,
    "start_time": "2023-08-23T07:23:32.001Z"
   },
   {
    "duration": 3343,
    "start_time": "2023-08-23T07:23:32.036Z"
   },
   {
    "duration": 5,
    "start_time": "2023-08-23T07:23:35.401Z"
   },
   {
    "duration": 175,
    "start_time": "2023-08-23T07:23:35.412Z"
   },
   {
    "duration": 38,
    "start_time": "2023-08-23T07:23:35.589Z"
   },
   {
    "duration": 108,
    "start_time": "2023-08-23T07:23:35.629Z"
   },
   {
    "duration": 17936,
    "start_time": "2023-08-23T07:25:41.049Z"
   },
   {
    "duration": 217,
    "start_time": "2023-08-23T07:31:42.028Z"
   },
   {
    "duration": 170,
    "start_time": "2023-08-23T07:33:27.177Z"
   },
   {
    "duration": 13,
    "start_time": "2023-08-23T07:34:08.619Z"
   },
   {
    "duration": 12,
    "start_time": "2023-08-23T07:35:22.533Z"
   },
   {
    "duration": 5,
    "start_time": "2023-08-23T07:35:52.951Z"
   },
   {
    "duration": 1913441,
    "start_time": "2023-08-23T07:35:58.868Z"
   },
   {
    "duration": 534495,
    "start_time": "2023-08-23T08:08:32.464Z"
   },
   {
    "duration": 3953,
    "start_time": "2023-08-23T08:19:41.473Z"
   },
   {
    "duration": 141,
    "start_time": "2023-08-23T08:21:11.094Z"
   },
   {
    "duration": 67,
    "start_time": "2023-08-23T08:34:42.108Z"
   },
   {
    "duration": 25958,
    "start_time": "2023-08-23T08:41:23.603Z"
   },
   {
    "duration": 16,
    "start_time": "2023-08-23T08:42:56.563Z"
   },
   {
    "duration": 24,
    "start_time": "2023-08-23T08:43:19.757Z"
   },
   {
    "duration": 3009,
    "start_time": "2023-08-23T08:43:24.883Z"
   },
   {
    "duration": 12,
    "start_time": "2023-08-23T08:47:10.113Z"
   },
   {
    "duration": 84748,
    "start_time": "2023-08-23T08:47:29.637Z"
   },
   {
    "duration": 96183,
    "start_time": "2023-08-23T08:52:50.232Z"
   },
   {
    "duration": 4,
    "start_time": "2023-08-23T08:56:13.738Z"
   },
   {
    "duration": 112590,
    "start_time": "2023-08-23T08:58:20.012Z"
   },
   {
    "duration": 24,
    "start_time": "2023-08-23T09:08:36.856Z"
   },
   {
    "duration": 7,
    "start_time": "2023-08-23T09:08:49.539Z"
   },
   {
    "duration": 301,
    "start_time": "2023-08-23T14:55:45.849Z"
   },
   {
    "duration": 4888,
    "start_time": "2023-08-23T14:55:46.153Z"
   },
   {
    "duration": 2232,
    "start_time": "2023-08-23T14:55:51.043Z"
   },
   {
    "duration": 468,
    "start_time": "2023-08-23T14:55:53.280Z"
   },
   {
    "duration": 3,
    "start_time": "2023-08-23T14:55:53.752Z"
   },
   {
    "duration": 81,
    "start_time": "2023-08-23T14:55:53.756Z"
   },
   {
    "duration": 4,
    "start_time": "2023-08-23T14:55:53.839Z"
   },
   {
    "duration": 35,
    "start_time": "2023-08-23T14:55:53.844Z"
   },
   {
    "duration": 188,
    "start_time": "2023-08-23T14:55:53.881Z"
   },
   {
    "duration": 50,
    "start_time": "2023-08-23T14:55:54.073Z"
   },
   {
    "duration": 5,
    "start_time": "2023-08-23T14:55:54.125Z"
   },
   {
    "duration": 52,
    "start_time": "2023-08-23T14:55:54.132Z"
   },
   {
    "duration": 40,
    "start_time": "2023-08-23T14:55:54.186Z"
   },
   {
    "duration": 17,
    "start_time": "2023-08-23T14:55:54.228Z"
   },
   {
    "duration": 64,
    "start_time": "2023-08-23T14:55:54.246Z"
   },
   {
    "duration": 20,
    "start_time": "2023-08-23T14:55:54.315Z"
   },
   {
    "duration": 797,
    "start_time": "2023-08-23T14:55:54.337Z"
   },
   {
    "duration": 545,
    "start_time": "2023-08-23T14:55:55.135Z"
   },
   {
    "duration": 788,
    "start_time": "2023-08-23T14:55:55.682Z"
   },
   {
    "duration": 1103,
    "start_time": "2023-08-23T14:55:56.472Z"
   },
   {
    "duration": 124,
    "start_time": "2023-08-23T14:55:57.577Z"
   },
   {
    "duration": 28,
    "start_time": "2023-08-23T14:55:57.703Z"
   },
   {
    "duration": 70,
    "start_time": "2023-08-23T14:55:57.733Z"
   },
   {
    "duration": 17,
    "start_time": "2023-08-23T14:55:57.805Z"
   },
   {
    "duration": 46,
    "start_time": "2023-08-23T14:55:57.824Z"
   },
   {
    "duration": 10,
    "start_time": "2023-08-23T14:55:57.882Z"
   },
   {
    "duration": 11,
    "start_time": "2023-08-23T14:55:57.898Z"
   },
   {
    "duration": 22,
    "start_time": "2023-08-23T14:55:57.915Z"
   },
   {
    "duration": 49,
    "start_time": "2023-08-23T14:55:57.939Z"
   },
   {
    "duration": 1182,
    "start_time": "2023-08-23T14:55:57.991Z"
   },
   {
    "duration": 4,
    "start_time": "2023-08-23T14:55:59.175Z"
   },
   {
    "duration": 23,
    "start_time": "2023-08-23T14:55:59.181Z"
   },
   {
    "duration": 4,
    "start_time": "2023-08-23T14:55:59.222Z"
   },
   {
    "duration": 6,
    "start_time": "2023-08-23T14:55:59.230Z"
   },
   {
    "duration": 55,
    "start_time": "2023-08-23T14:55:59.237Z"
   },
   {
    "duration": 17,
    "start_time": "2023-08-23T14:55:59.296Z"
   },
   {
    "duration": 154,
    "start_time": "2023-08-23T14:55:59.314Z"
   },
   {
    "duration": 0,
    "start_time": "2023-08-23T14:55:59.470Z"
   },
   {
    "duration": 0,
    "start_time": "2023-08-23T14:55:59.471Z"
   },
   {
    "duration": 0,
    "start_time": "2023-08-23T14:55:59.472Z"
   },
   {
    "duration": 0,
    "start_time": "2023-08-23T14:55:59.473Z"
   },
   {
    "duration": 1,
    "start_time": "2023-08-23T14:55:59.474Z"
   },
   {
    "duration": 0,
    "start_time": "2023-08-23T14:55:59.476Z"
   },
   {
    "duration": 0,
    "start_time": "2023-08-23T14:55:59.477Z"
   },
   {
    "duration": 0,
    "start_time": "2023-08-23T14:55:59.478Z"
   },
   {
    "duration": 0,
    "start_time": "2023-08-23T14:55:59.479Z"
   },
   {
    "duration": 0,
    "start_time": "2023-08-23T14:55:59.480Z"
   },
   {
    "duration": 0,
    "start_time": "2023-08-23T14:55:59.482Z"
   },
   {
    "duration": 0,
    "start_time": "2023-08-23T14:55:59.483Z"
   },
   {
    "duration": 0,
    "start_time": "2023-08-23T14:55:59.484Z"
   },
   {
    "duration": 0,
    "start_time": "2023-08-23T14:55:59.485Z"
   },
   {
    "duration": 0,
    "start_time": "2023-08-23T14:55:59.486Z"
   },
   {
    "duration": 0,
    "start_time": "2023-08-23T14:55:59.488Z"
   },
   {
    "duration": 0,
    "start_time": "2023-08-23T14:55:59.489Z"
   },
   {
    "duration": 0,
    "start_time": "2023-08-23T14:55:59.490Z"
   },
   {
    "duration": 0,
    "start_time": "2023-08-23T14:55:59.491Z"
   },
   {
    "duration": 0,
    "start_time": "2023-08-23T14:55:59.493Z"
   },
   {
    "duration": 0,
    "start_time": "2023-08-23T14:55:59.494Z"
   },
   {
    "duration": 35,
    "start_time": "2023-08-23T14:56:56.024Z"
   },
   {
    "duration": 3970,
    "start_time": "2023-08-23T14:57:34.528Z"
   },
   {
    "duration": 14,
    "start_time": "2023-08-23T14:59:07.363Z"
   },
   {
    "duration": 148,
    "start_time": "2023-08-23T15:05:54.913Z"
   },
   {
    "duration": 257,
    "start_time": "2023-08-23T15:06:25.377Z"
   },
   {
    "duration": 4,
    "start_time": "2023-08-23T15:32:47.761Z"
   },
   {
    "duration": 13,
    "start_time": "2023-08-23T15:34:07.021Z"
   },
   {
    "duration": 6,
    "start_time": "2023-08-23T15:34:28.340Z"
   },
   {
    "duration": 13,
    "start_time": "2023-08-23T15:34:29.509Z"
   },
   {
    "duration": 7,
    "start_time": "2023-08-23T15:35:49.911Z"
   },
   {
    "duration": 10,
    "start_time": "2023-08-23T15:35:57.825Z"
   },
   {
    "duration": 3,
    "start_time": "2023-08-23T15:37:23.910Z"
   },
   {
    "duration": 3,
    "start_time": "2023-08-23T15:37:24.696Z"
   },
   {
    "duration": 6,
    "start_time": "2023-08-23T15:37:45.950Z"
   },
   {
    "duration": 13,
    "start_time": "2023-08-23T15:38:46.480Z"
   },
   {
    "duration": 4,
    "start_time": "2023-08-23T15:39:20.031Z"
   },
   {
    "duration": 3,
    "start_time": "2023-08-23T15:39:21.417Z"
   },
   {
    "duration": 7,
    "start_time": "2023-08-23T15:39:22.156Z"
   },
   {
    "duration": 14,
    "start_time": "2023-08-23T15:40:01.378Z"
   },
   {
    "duration": 17,
    "start_time": "2023-08-23T15:40:09.147Z"
   },
   {
    "duration": 3142,
    "start_time": "2023-08-23T15:40:15.341Z"
   },
   {
    "duration": 13,
    "start_time": "2023-08-23T15:42:05.967Z"
   },
   {
    "duration": 5,
    "start_time": "2023-08-23T15:43:19.390Z"
   },
   {
    "duration": 5,
    "start_time": "2023-08-23T15:43:38.860Z"
   },
   {
    "duration": 16,
    "start_time": "2023-08-23T15:56:26.151Z"
   },
   {
    "duration": 20,
    "start_time": "2023-08-23T16:00:27.472Z"
   },
   {
    "duration": 7602,
    "start_time": "2023-08-23T16:00:43.827Z"
   },
   {
    "duration": 11021,
    "start_time": "2023-08-23T16:02:34.427Z"
   },
   {
    "duration": 2853,
    "start_time": "2023-08-23T16:04:18.450Z"
   },
   {
    "duration": 2973,
    "start_time": "2023-08-23T16:04:48.575Z"
   },
   {
    "duration": 130,
    "start_time": "2023-08-23T16:06:52.379Z"
   },
   {
    "duration": 4147,
    "start_time": "2023-08-23T16:06:52.513Z"
   },
   {
    "duration": 2762,
    "start_time": "2023-08-23T16:06:56.662Z"
   },
   {
    "duration": 188,
    "start_time": "2023-08-23T16:06:59.432Z"
   },
   {
    "duration": 6,
    "start_time": "2023-08-23T16:06:59.626Z"
   },
   {
    "duration": 80,
    "start_time": "2023-08-23T16:06:59.635Z"
   },
   {
    "duration": 10,
    "start_time": "2023-08-23T16:06:59.722Z"
   },
   {
    "duration": 3,
    "start_time": "2023-08-23T16:06:59.734Z"
   },
   {
    "duration": 257,
    "start_time": "2023-08-23T16:06:59.740Z"
   },
   {
    "duration": 38,
    "start_time": "2023-08-23T16:07:00.004Z"
   },
   {
    "duration": 12,
    "start_time": "2023-08-23T16:07:00.050Z"
   },
   {
    "duration": 108,
    "start_time": "2023-08-23T16:07:00.071Z"
   },
   {
    "duration": 46,
    "start_time": "2023-08-23T16:07:00.187Z"
   },
   {
    "duration": 44,
    "start_time": "2023-08-23T16:07:00.246Z"
   },
   {
    "duration": 48,
    "start_time": "2023-08-23T16:07:00.297Z"
   },
   {
    "duration": 46,
    "start_time": "2023-08-23T16:07:00.358Z"
   },
   {
    "duration": 1100,
    "start_time": "2023-08-23T16:07:00.412Z"
   },
   {
    "duration": 779,
    "start_time": "2023-08-23T16:07:01.519Z"
   },
   {
    "duration": 1056,
    "start_time": "2023-08-23T16:07:02.308Z"
   },
   {
    "duration": 1489,
    "start_time": "2023-08-23T16:07:03.371Z"
   },
   {
    "duration": 195,
    "start_time": "2023-08-23T16:07:04.866Z"
   },
   {
    "duration": 50,
    "start_time": "2023-08-23T16:07:05.066Z"
   },
   {
    "duration": 42,
    "start_time": "2023-08-23T16:07:05.122Z"
   },
   {
    "duration": 32,
    "start_time": "2023-08-23T16:07:05.170Z"
   },
   {
    "duration": 49,
    "start_time": "2023-08-23T16:07:05.208Z"
   },
   {
    "duration": 10,
    "start_time": "2023-08-23T16:07:05.263Z"
   },
   {
    "duration": 36,
    "start_time": "2023-08-23T16:07:05.279Z"
   },
   {
    "duration": 38,
    "start_time": "2023-08-23T16:07:05.322Z"
   },
   {
    "duration": 65,
    "start_time": "2023-08-23T16:07:05.368Z"
   },
   {
    "duration": 1651,
    "start_time": "2023-08-23T16:07:05.439Z"
   },
   {
    "duration": 358,
    "start_time": "2023-08-23T16:07:07.098Z"
   },
   {
    "duration": 5,
    "start_time": "2023-08-23T16:07:07.462Z"
   },
   {
    "duration": 11,
    "start_time": "2023-08-23T16:07:07.473Z"
   },
   {
    "duration": 8,
    "start_time": "2023-08-23T16:07:07.490Z"
   },
   {
    "duration": 17,
    "start_time": "2023-08-23T16:07:07.504Z"
   },
   {
    "duration": 6,
    "start_time": "2023-08-23T16:07:07.529Z"
   },
   {
    "duration": 5,
    "start_time": "2023-08-23T16:07:07.541Z"
   },
   {
    "duration": 4,
    "start_time": "2023-08-23T16:07:07.552Z"
   },
   {
    "duration": 31,
    "start_time": "2023-08-23T16:07:07.562Z"
   },
   {
    "duration": 32,
    "start_time": "2023-08-23T16:07:07.599Z"
   },
   {
    "duration": 5486,
    "start_time": "2023-08-23T16:07:07.642Z"
   },
   {
    "duration": 6,
    "start_time": "2023-08-23T16:07:13.130Z"
   },
   {
    "duration": 23,
    "start_time": "2023-08-23T16:07:13.137Z"
   },
   {
    "duration": 39,
    "start_time": "2023-08-23T16:07:13.162Z"
   },
   {
    "duration": 4,
    "start_time": "2023-08-23T16:07:13.203Z"
   },
   {
    "duration": 3650,
    "start_time": "2023-08-23T16:07:13.209Z"
   },
   {
    "duration": 0,
    "start_time": "2023-08-23T16:07:16.861Z"
   },
   {
    "duration": 0,
    "start_time": "2023-08-23T16:07:16.865Z"
   },
   {
    "duration": 0,
    "start_time": "2023-08-23T16:07:16.867Z"
   },
   {
    "duration": 0,
    "start_time": "2023-08-23T16:07:16.868Z"
   },
   {
    "duration": 0,
    "start_time": "2023-08-23T16:07:16.872Z"
   },
   {
    "duration": 0,
    "start_time": "2023-08-23T16:07:16.880Z"
   },
   {
    "duration": 0,
    "start_time": "2023-08-23T16:07:16.881Z"
   },
   {
    "duration": 0,
    "start_time": "2023-08-23T16:07:16.882Z"
   },
   {
    "duration": 0,
    "start_time": "2023-08-23T16:07:16.886Z"
   },
   {
    "duration": 0,
    "start_time": "2023-08-23T16:07:16.897Z"
   },
   {
    "duration": 0,
    "start_time": "2023-08-23T16:07:16.899Z"
   },
   {
    "duration": 0,
    "start_time": "2023-08-23T16:07:16.901Z"
   },
   {
    "duration": 0,
    "start_time": "2023-08-23T16:07:16.903Z"
   },
   {
    "duration": 0,
    "start_time": "2023-08-23T16:07:16.907Z"
   },
   {
    "duration": 0,
    "start_time": "2023-08-23T16:07:16.912Z"
   },
   {
    "duration": 0,
    "start_time": "2023-08-23T16:07:16.916Z"
   },
   {
    "duration": 2508,
    "start_time": "2023-08-23T16:08:30.005Z"
   },
   {
    "duration": 20,
    "start_time": "2023-08-23T16:15:56.974Z"
   },
   {
    "duration": 3,
    "start_time": "2023-08-23T16:16:17.435Z"
   },
   {
    "duration": 32,
    "start_time": "2023-08-23T16:16:18.372Z"
   },
   {
    "duration": 96,
    "start_time": "2023-08-23T16:22:37.929Z"
   },
   {
    "duration": 2908,
    "start_time": "2023-08-23T16:22:38.027Z"
   },
   {
    "duration": 1909,
    "start_time": "2023-08-23T16:22:40.938Z"
   },
   {
    "duration": 143,
    "start_time": "2023-08-23T16:22:42.850Z"
   },
   {
    "duration": 3,
    "start_time": "2023-08-23T16:22:42.995Z"
   },
   {
    "duration": 53,
    "start_time": "2023-08-23T16:22:43.000Z"
   },
   {
    "duration": 8,
    "start_time": "2023-08-23T16:22:43.055Z"
   },
   {
    "duration": 13,
    "start_time": "2023-08-23T16:22:43.065Z"
   },
   {
    "duration": 227,
    "start_time": "2023-08-23T16:22:43.082Z"
   },
   {
    "duration": 28,
    "start_time": "2023-08-23T16:22:43.313Z"
   },
   {
    "duration": 9,
    "start_time": "2023-08-23T16:22:43.343Z"
   },
   {
    "duration": 28,
    "start_time": "2023-08-23T16:22:43.355Z"
   },
   {
    "duration": 33,
    "start_time": "2023-08-23T16:22:43.386Z"
   },
   {
    "duration": 30,
    "start_time": "2023-08-23T16:22:43.420Z"
   },
   {
    "duration": 38,
    "start_time": "2023-08-23T16:22:43.452Z"
   },
   {
    "duration": 81,
    "start_time": "2023-08-23T16:22:43.492Z"
   },
   {
    "duration": 832,
    "start_time": "2023-08-23T16:22:43.575Z"
   },
   {
    "duration": 674,
    "start_time": "2023-08-23T16:22:44.409Z"
   },
   {
    "duration": 877,
    "start_time": "2023-08-23T16:22:45.086Z"
   },
   {
    "duration": 1559,
    "start_time": "2023-08-23T16:22:45.969Z"
   },
   {
    "duration": 238,
    "start_time": "2023-08-23T16:22:47.530Z"
   },
   {
    "duration": 56,
    "start_time": "2023-08-23T16:22:47.770Z"
   },
   {
    "duration": 35,
    "start_time": "2023-08-23T16:22:47.828Z"
   },
   {
    "duration": 51,
    "start_time": "2023-08-23T16:22:47.866Z"
   },
   {
    "duration": 70,
    "start_time": "2023-08-23T16:22:47.920Z"
   },
   {
    "duration": 7,
    "start_time": "2023-08-23T16:22:47.993Z"
   },
   {
    "duration": 4,
    "start_time": "2023-08-23T16:22:48.002Z"
   },
   {
    "duration": 28,
    "start_time": "2023-08-23T16:22:48.013Z"
   },
   {
    "duration": 51,
    "start_time": "2023-08-23T16:22:48.044Z"
   },
   {
    "duration": 1533,
    "start_time": "2023-08-23T16:22:48.098Z"
   },
   {
    "duration": 322,
    "start_time": "2023-08-23T16:22:49.638Z"
   },
   {
    "duration": 5,
    "start_time": "2023-08-23T16:22:49.966Z"
   },
   {
    "duration": 21,
    "start_time": "2023-08-23T16:22:49.976Z"
   },
   {
    "duration": 18,
    "start_time": "2023-08-23T16:22:50.000Z"
   },
   {
    "duration": 23,
    "start_time": "2023-08-23T16:22:50.019Z"
   },
   {
    "duration": 17,
    "start_time": "2023-08-23T16:22:50.047Z"
   },
   {
    "duration": 54,
    "start_time": "2023-08-23T16:22:50.067Z"
   },
   {
    "duration": 33,
    "start_time": "2023-08-23T16:22:50.124Z"
   },
   {
    "duration": 46,
    "start_time": "2023-08-23T16:22:50.160Z"
   },
   {
    "duration": 50,
    "start_time": "2023-08-23T16:22:50.210Z"
   },
   {
    "duration": 4827,
    "start_time": "2023-08-23T16:22:50.262Z"
   },
   {
    "duration": 3,
    "start_time": "2023-08-23T16:22:55.091Z"
   },
   {
    "duration": 9,
    "start_time": "2023-08-23T16:22:55.096Z"
   },
   {
    "duration": 29,
    "start_time": "2023-08-23T16:22:55.107Z"
   },
   {
    "duration": 8,
    "start_time": "2023-08-23T16:22:55.138Z"
   },
   {
    "duration": 153,
    "start_time": "2023-08-23T16:22:55.148Z"
   },
   {
    "duration": 0,
    "start_time": "2023-08-23T16:22:55.303Z"
   },
   {
    "duration": 0,
    "start_time": "2023-08-23T16:22:55.304Z"
   },
   {
    "duration": 0,
    "start_time": "2023-08-23T16:22:55.306Z"
   },
   {
    "duration": 0,
    "start_time": "2023-08-23T16:22:55.307Z"
   },
   {
    "duration": 0,
    "start_time": "2023-08-23T16:22:55.308Z"
   },
   {
    "duration": 0,
    "start_time": "2023-08-23T16:22:55.310Z"
   },
   {
    "duration": 0,
    "start_time": "2023-08-23T16:22:55.311Z"
   },
   {
    "duration": 0,
    "start_time": "2023-08-23T16:22:55.312Z"
   },
   {
    "duration": 0,
    "start_time": "2023-08-23T16:22:55.313Z"
   },
   {
    "duration": 0,
    "start_time": "2023-08-23T16:22:55.315Z"
   },
   {
    "duration": 0,
    "start_time": "2023-08-23T16:22:55.316Z"
   },
   {
    "duration": 0,
    "start_time": "2023-08-23T16:22:55.317Z"
   },
   {
    "duration": 0,
    "start_time": "2023-08-23T16:22:55.318Z"
   },
   {
    "duration": 0,
    "start_time": "2023-08-23T16:22:55.320Z"
   },
   {
    "duration": 0,
    "start_time": "2023-08-23T16:22:55.321Z"
   },
   {
    "duration": 0,
    "start_time": "2023-08-23T16:22:55.322Z"
   },
   {
    "duration": 0,
    "start_time": "2023-08-23T16:22:55.324Z"
   },
   {
    "duration": 0,
    "start_time": "2023-08-23T16:22:55.325Z"
   },
   {
    "duration": 0,
    "start_time": "2023-08-23T16:22:55.326Z"
   },
   {
    "duration": 5,
    "start_time": "2023-08-23T16:23:22.025Z"
   },
   {
    "duration": 8940,
    "start_time": "2023-08-23T16:24:36.683Z"
   },
   {
    "duration": 27,
    "start_time": "2023-08-23T16:27:15.244Z"
   },
   {
    "duration": 15,
    "start_time": "2023-08-23T16:28:52.996Z"
   },
   {
    "duration": 9,
    "start_time": "2023-08-23T16:28:54.271Z"
   },
   {
    "duration": 4,
    "start_time": "2023-08-23T16:28:54.894Z"
   },
   {
    "duration": 4,
    "start_time": "2023-08-23T16:28:58.313Z"
   },
   {
    "duration": 56,
    "start_time": "2023-08-23T16:29:00.527Z"
   },
   {
    "duration": 4,
    "start_time": "2023-08-23T16:31:18.925Z"
   },
   {
    "duration": 37,
    "start_time": "2023-08-23T16:31:22.442Z"
   },
   {
    "duration": 30,
    "start_time": "2023-08-23T16:31:24.992Z"
   },
   {
    "duration": 4,
    "start_time": "2023-08-23T16:37:39.460Z"
   },
   {
    "duration": 7,
    "start_time": "2023-08-23T16:37:41.096Z"
   },
   {
    "duration": 13,
    "start_time": "2023-08-23T16:37:41.666Z"
   },
   {
    "duration": 14,
    "start_time": "2023-08-23T16:37:42.209Z"
   },
   {
    "duration": 62,
    "start_time": "2023-08-23T16:37:47.085Z"
   },
   {
    "duration": 48,
    "start_time": "2023-08-23T16:37:49.041Z"
   },
   {
    "duration": 119,
    "start_time": "2023-08-23T16:38:12.234Z"
   },
   {
    "duration": 3771,
    "start_time": "2023-08-23T16:38:12.364Z"
   },
   {
    "duration": 2933,
    "start_time": "2023-08-23T16:38:16.138Z"
   },
   {
    "duration": 232,
    "start_time": "2023-08-23T16:38:19.078Z"
   },
   {
    "duration": 7,
    "start_time": "2023-08-23T16:38:19.315Z"
   },
   {
    "duration": 92,
    "start_time": "2023-08-23T16:38:19.335Z"
   },
   {
    "duration": 25,
    "start_time": "2023-08-23T16:38:19.446Z"
   },
   {
    "duration": 25,
    "start_time": "2023-08-23T16:38:19.491Z"
   },
   {
    "duration": 324,
    "start_time": "2023-08-23T16:38:19.526Z"
   },
   {
    "duration": 33,
    "start_time": "2023-08-23T16:38:19.868Z"
   },
   {
    "duration": 12,
    "start_time": "2023-08-23T16:38:19.907Z"
   },
   {
    "duration": 36,
    "start_time": "2023-08-23T16:38:19.923Z"
   },
   {
    "duration": 39,
    "start_time": "2023-08-23T16:38:19.964Z"
   },
   {
    "duration": 38,
    "start_time": "2023-08-23T16:38:20.013Z"
   },
   {
    "duration": 46,
    "start_time": "2023-08-23T16:38:20.057Z"
   },
   {
    "duration": 34,
    "start_time": "2023-08-23T16:38:20.109Z"
   },
   {
    "duration": 1082,
    "start_time": "2023-08-23T16:38:20.151Z"
   },
   {
    "duration": 881,
    "start_time": "2023-08-23T16:38:21.240Z"
   },
   {
    "duration": 1018,
    "start_time": "2023-08-23T16:38:22.128Z"
   },
   {
    "duration": 1374,
    "start_time": "2023-08-23T16:38:23.152Z"
   },
   {
    "duration": 238,
    "start_time": "2023-08-23T16:38:24.532Z"
   },
   {
    "duration": 63,
    "start_time": "2023-08-23T16:38:24.778Z"
   },
   {
    "duration": 48,
    "start_time": "2023-08-23T16:38:24.851Z"
   },
   {
    "duration": 40,
    "start_time": "2023-08-23T16:38:24.907Z"
   },
   {
    "duration": 63,
    "start_time": "2023-08-23T16:38:24.955Z"
   },
   {
    "duration": 13,
    "start_time": "2023-08-23T16:38:25.025Z"
   },
   {
    "duration": 8,
    "start_time": "2023-08-23T16:38:25.046Z"
   },
   {
    "duration": 42,
    "start_time": "2023-08-23T16:38:25.059Z"
   },
   {
    "duration": 49,
    "start_time": "2023-08-23T16:38:25.108Z"
   },
   {
    "duration": 1914,
    "start_time": "2023-08-23T16:38:25.163Z"
   },
   {
    "duration": 377,
    "start_time": "2023-08-23T16:38:27.085Z"
   },
   {
    "duration": 4,
    "start_time": "2023-08-23T16:38:27.468Z"
   },
   {
    "duration": 16,
    "start_time": "2023-08-23T16:38:27.478Z"
   },
   {
    "duration": 12,
    "start_time": "2023-08-23T16:38:27.501Z"
   },
   {
    "duration": 14,
    "start_time": "2023-08-23T16:38:27.519Z"
   },
   {
    "duration": 14,
    "start_time": "2023-08-23T16:38:27.540Z"
   },
   {
    "duration": 5,
    "start_time": "2023-08-23T16:38:27.563Z"
   },
   {
    "duration": 6,
    "start_time": "2023-08-23T16:38:27.574Z"
   },
   {
    "duration": 23,
    "start_time": "2023-08-23T16:38:27.586Z"
   },
   {
    "duration": 31,
    "start_time": "2023-08-23T16:38:27.619Z"
   },
   {
    "duration": 32,
    "start_time": "2023-08-23T16:38:27.662Z"
   },
   {
    "duration": 6122,
    "start_time": "2023-08-23T16:38:27.701Z"
   },
   {
    "duration": 13,
    "start_time": "2023-08-23T16:38:33.834Z"
   },
   {
    "duration": 11,
    "start_time": "2023-08-23T16:38:33.854Z"
   },
   {
    "duration": 54,
    "start_time": "2023-08-23T16:38:33.879Z"
   },
   {
    "duration": 54,
    "start_time": "2023-08-23T16:38:33.945Z"
   },
   {
    "duration": 22,
    "start_time": "2023-08-23T16:38:34.005Z"
   },
   {
    "duration": 18,
    "start_time": "2023-08-23T16:38:34.033Z"
   },
   {
    "duration": 16797,
    "start_time": "2023-08-23T16:38:34.053Z"
   },
   {
    "duration": 0,
    "start_time": "2023-08-23T16:38:50.858Z"
   },
   {
    "duration": 0,
    "start_time": "2023-08-23T16:38:50.863Z"
   },
   {
    "duration": 0,
    "start_time": "2023-08-23T16:38:50.870Z"
   },
   {
    "duration": 0,
    "start_time": "2023-08-23T16:38:50.887Z"
   },
   {
    "duration": 0,
    "start_time": "2023-08-23T16:38:50.893Z"
   },
   {
    "duration": 1,
    "start_time": "2023-08-23T16:38:50.898Z"
   },
   {
    "duration": 0,
    "start_time": "2023-08-23T16:38:50.904Z"
   },
   {
    "duration": 0,
    "start_time": "2023-08-23T16:38:50.905Z"
   },
   {
    "duration": 0,
    "start_time": "2023-08-23T16:38:50.910Z"
   },
   {
    "duration": 0,
    "start_time": "2023-08-23T16:38:50.911Z"
   },
   {
    "duration": 0,
    "start_time": "2023-08-23T16:38:50.913Z"
   },
   {
    "duration": 0,
    "start_time": "2023-08-23T16:38:50.921Z"
   },
   {
    "duration": 0,
    "start_time": "2023-08-23T16:38:50.922Z"
   },
   {
    "duration": 0,
    "start_time": "2023-08-23T16:38:50.922Z"
   },
   {
    "duration": 0,
    "start_time": "2023-08-23T16:38:50.929Z"
   },
   {
    "duration": 0,
    "start_time": "2023-08-23T16:38:50.931Z"
   },
   {
    "duration": 0,
    "start_time": "2023-08-23T16:38:50.932Z"
   },
   {
    "duration": 0,
    "start_time": "2023-08-23T16:38:50.939Z"
   },
   {
    "duration": 0,
    "start_time": "2023-08-23T16:38:50.940Z"
   },
   {
    "duration": 11,
    "start_time": "2023-08-23T16:39:43.052Z"
   },
   {
    "duration": 18,
    "start_time": "2023-08-23T16:39:44.101Z"
   },
   {
    "duration": 8,
    "start_time": "2023-08-23T16:39:53.901Z"
   },
   {
    "duration": 23,
    "start_time": "2023-08-23T16:39:57.945Z"
   },
   {
    "duration": 4,
    "start_time": "2023-08-23T16:41:26.949Z"
   },
   {
    "duration": 4,
    "start_time": "2023-08-23T16:41:27.457Z"
   },
   {
    "duration": 30,
    "start_time": "2023-08-23T16:41:31.165Z"
   },
   {
    "duration": 3,
    "start_time": "2023-08-23T16:54:56.053Z"
   },
   {
    "duration": 55,
    "start_time": "2023-08-23T16:54:57.101Z"
   },
   {
    "duration": 15,
    "start_time": "2023-08-23T16:55:19.805Z"
   },
   {
    "duration": 23,
    "start_time": "2023-08-23T16:55:23.144Z"
   },
   {
    "duration": 6,
    "start_time": "2023-08-23T16:55:37.087Z"
   },
   {
    "duration": 4,
    "start_time": "2023-08-23T16:55:50.366Z"
   },
   {
    "duration": 4,
    "start_time": "2023-08-23T16:56:03.732Z"
   },
   {
    "duration": 10,
    "start_time": "2023-08-23T16:56:16.147Z"
   },
   {
    "duration": 8,
    "start_time": "2023-08-23T16:56:26.727Z"
   },
   {
    "duration": 9110,
    "start_time": "2023-08-23T16:57:00.049Z"
   },
   {
    "duration": 5,
    "start_time": "2023-08-23T16:57:31.401Z"
   },
   {
    "duration": 6,
    "start_time": "2023-08-23T16:57:32.066Z"
   },
   {
    "duration": 15,
    "start_time": "2023-08-23T16:57:32.625Z"
   },
   {
    "duration": 3,
    "start_time": "2023-08-23T16:57:33.134Z"
   },
   {
    "duration": 4,
    "start_time": "2023-08-23T16:57:33.647Z"
   },
   {
    "duration": 4,
    "start_time": "2023-08-23T16:57:34.312Z"
   },
   {
    "duration": 4,
    "start_time": "2023-08-23T16:57:34.832Z"
   },
   {
    "duration": 11,
    "start_time": "2023-08-23T16:57:35.373Z"
   },
   {
    "duration": 17852,
    "start_time": "2023-08-23T16:57:36.401Z"
   },
   {
    "duration": 22873,
    "start_time": "2023-08-23T16:58:16.575Z"
   },
   {
    "duration": 17439,
    "start_time": "2023-08-23T16:59:11.560Z"
   },
   {
    "duration": 50,
    "start_time": "2023-08-23T16:59:57.475Z"
   },
   {
    "duration": 16,
    "start_time": "2023-08-23T17:09:35.013Z"
   },
   {
    "duration": 12,
    "start_time": "2023-08-23T17:09:37.244Z"
   },
   {
    "duration": 105,
    "start_time": "2023-08-23T17:09:39.126Z"
   },
   {
    "duration": 131,
    "start_time": "2023-08-23T17:11:33.731Z"
   },
   {
    "duration": 3563,
    "start_time": "2023-08-23T17:11:33.870Z"
   },
   {
    "duration": 2351,
    "start_time": "2023-08-23T17:11:37.437Z"
   },
   {
    "duration": 179,
    "start_time": "2023-08-23T17:11:39.794Z"
   },
   {
    "duration": 6,
    "start_time": "2023-08-23T17:11:39.979Z"
   },
   {
    "duration": 74,
    "start_time": "2023-08-23T17:11:39.988Z"
   },
   {
    "duration": 7,
    "start_time": "2023-08-23T17:11:40.064Z"
   },
   {
    "duration": 37,
    "start_time": "2023-08-23T17:11:40.073Z"
   },
   {
    "duration": 261,
    "start_time": "2023-08-23T17:11:40.112Z"
   },
   {
    "duration": 35,
    "start_time": "2023-08-23T17:11:40.384Z"
   },
   {
    "duration": 13,
    "start_time": "2023-08-23T17:11:40.426Z"
   },
   {
    "duration": 40,
    "start_time": "2023-08-23T17:11:40.442Z"
   },
   {
    "duration": 48,
    "start_time": "2023-08-23T17:11:40.487Z"
   },
   {
    "duration": 29,
    "start_time": "2023-08-23T17:11:40.545Z"
   },
   {
    "duration": 32,
    "start_time": "2023-08-23T17:11:40.576Z"
   },
   {
    "duration": 34,
    "start_time": "2023-08-23T17:11:40.616Z"
   },
   {
    "duration": 905,
    "start_time": "2023-08-23T17:11:40.657Z"
   },
   {
    "duration": 650,
    "start_time": "2023-08-23T17:11:41.567Z"
   },
   {
    "duration": 957,
    "start_time": "2023-08-23T17:11:42.223Z"
   },
   {
    "duration": 1550,
    "start_time": "2023-08-23T17:11:43.185Z"
   },
   {
    "duration": 204,
    "start_time": "2023-08-23T17:11:44.740Z"
   },
   {
    "duration": 42,
    "start_time": "2023-08-23T17:11:44.946Z"
   },
   {
    "duration": 42,
    "start_time": "2023-08-23T17:11:44.990Z"
   },
   {
    "duration": 84,
    "start_time": "2023-08-23T17:11:45.034Z"
   },
   {
    "duration": 69,
    "start_time": "2023-08-23T17:11:45.120Z"
   },
   {
    "duration": 17,
    "start_time": "2023-08-23T17:11:45.192Z"
   },
   {
    "duration": 19,
    "start_time": "2023-08-23T17:11:45.212Z"
   },
   {
    "duration": 54,
    "start_time": "2023-08-23T17:11:45.233Z"
   },
   {
    "duration": 46,
    "start_time": "2023-08-23T17:11:45.289Z"
   },
   {
    "duration": 1496,
    "start_time": "2023-08-23T17:11:45.337Z"
   },
   {
    "duration": 345,
    "start_time": "2023-08-23T17:11:46.837Z"
   },
   {
    "duration": 2,
    "start_time": "2023-08-23T17:11:47.185Z"
   },
   {
    "duration": 9,
    "start_time": "2023-08-23T17:11:47.190Z"
   },
   {
    "duration": 3,
    "start_time": "2023-08-23T17:11:47.202Z"
   },
   {
    "duration": 16,
    "start_time": "2023-08-23T17:11:47.207Z"
   },
   {
    "duration": 16,
    "start_time": "2023-08-23T17:11:47.225Z"
   },
   {
    "duration": 7,
    "start_time": "2023-08-23T17:11:47.244Z"
   },
   {
    "duration": 22,
    "start_time": "2023-08-23T17:11:47.253Z"
   },
   {
    "duration": 12,
    "start_time": "2023-08-23T17:11:47.279Z"
   },
   {
    "duration": 58,
    "start_time": "2023-08-23T17:11:47.293Z"
   },
   {
    "duration": 29,
    "start_time": "2023-08-23T17:11:47.358Z"
   },
   {
    "duration": 4727,
    "start_time": "2023-08-23T17:11:47.389Z"
   },
   {
    "duration": 3,
    "start_time": "2023-08-23T17:11:52.120Z"
   },
   {
    "duration": 23,
    "start_time": "2023-08-23T17:11:52.126Z"
   },
   {
    "duration": 9,
    "start_time": "2023-08-23T17:11:52.151Z"
   },
   {
    "duration": 44,
    "start_time": "2023-08-23T17:11:52.163Z"
   },
   {
    "duration": 57,
    "start_time": "2023-08-23T17:11:52.209Z"
   },
   {
    "duration": 3,
    "start_time": "2023-08-23T17:11:52.268Z"
   },
   {
    "duration": 22,
    "start_time": "2023-08-23T17:11:52.273Z"
   },
   {
    "duration": 32,
    "start_time": "2023-08-23T17:11:52.297Z"
   },
   {
    "duration": 20,
    "start_time": "2023-08-23T17:11:52.331Z"
   },
   {
    "duration": 25,
    "start_time": "2023-08-23T17:11:52.353Z"
   },
   {
    "duration": 273,
    "start_time": "2023-08-23T17:11:52.380Z"
   },
   {
    "duration": 0,
    "start_time": "2023-08-23T17:11:52.660Z"
   },
   {
    "duration": 0,
    "start_time": "2023-08-23T17:11:52.662Z"
   },
   {
    "duration": 0,
    "start_time": "2023-08-23T17:11:52.663Z"
   },
   {
    "duration": 0,
    "start_time": "2023-08-23T17:11:52.665Z"
   },
   {
    "duration": 0,
    "start_time": "2023-08-23T17:11:52.666Z"
   },
   {
    "duration": 0,
    "start_time": "2023-08-23T17:11:52.668Z"
   },
   {
    "duration": 0,
    "start_time": "2023-08-23T17:11:52.669Z"
   },
   {
    "duration": 0,
    "start_time": "2023-08-23T17:11:52.670Z"
   },
   {
    "duration": 0,
    "start_time": "2023-08-23T17:11:52.672Z"
   },
   {
    "duration": 0,
    "start_time": "2023-08-23T17:11:52.674Z"
   },
   {
    "duration": 0,
    "start_time": "2023-08-23T17:11:52.677Z"
   },
   {
    "duration": 1,
    "start_time": "2023-08-23T17:11:52.680Z"
   },
   {
    "duration": 0,
    "start_time": "2023-08-23T17:11:52.683Z"
   },
   {
    "duration": 0,
    "start_time": "2023-08-23T17:11:52.686Z"
   },
   {
    "duration": 0,
    "start_time": "2023-08-23T17:11:52.689Z"
   },
   {
    "duration": 1,
    "start_time": "2023-08-23T17:11:52.692Z"
   },
   {
    "duration": 0,
    "start_time": "2023-08-23T17:11:52.695Z"
   },
   {
    "duration": 140,
    "start_time": "2023-08-23T17:12:55.076Z"
   },
   {
    "duration": 3379,
    "start_time": "2023-08-23T17:12:56.532Z"
   },
   {
    "duration": 16,
    "start_time": "2023-08-23T17:13:00.949Z"
   },
   {
    "duration": 227,
    "start_time": "2023-08-23T17:13:05.680Z"
   },
   {
    "duration": 20,
    "start_time": "2023-08-23T17:13:07.692Z"
   },
   {
    "duration": 64,
    "start_time": "2023-08-23T17:13:10.435Z"
   },
   {
    "duration": 7,
    "start_time": "2023-08-23T17:13:11.657Z"
   },
   {
    "duration": 5,
    "start_time": "2023-08-23T17:13:12.669Z"
   },
   {
    "duration": 324,
    "start_time": "2023-08-23T17:13:13.323Z"
   },
   {
    "duration": 29,
    "start_time": "2023-08-23T17:13:14.577Z"
   },
   {
    "duration": 11,
    "start_time": "2023-08-23T17:13:15.662Z"
   },
   {
    "duration": 50,
    "start_time": "2023-08-23T17:13:19.192Z"
   },
   {
    "duration": 28,
    "start_time": "2023-08-23T17:13:20.531Z"
   },
   {
    "duration": 27,
    "start_time": "2023-08-23T17:17:59.872Z"
   },
   {
    "duration": 29,
    "start_time": "2023-08-23T17:18:04.692Z"
   },
   {
    "duration": 33,
    "start_time": "2023-08-23T17:18:38.039Z"
   },
   {
    "duration": 622,
    "start_time": "2023-08-23T17:18:39.193Z"
   },
   {
    "duration": 338,
    "start_time": "2023-08-23T17:18:39.818Z"
   },
   {
    "duration": 848,
    "start_time": "2023-08-23T17:18:40.533Z"
   },
   {
    "duration": 1032,
    "start_time": "2023-08-23T17:18:41.384Z"
   },
   {
    "duration": 174,
    "start_time": "2023-08-23T17:18:42.418Z"
   },
   {
    "duration": 32,
    "start_time": "2023-08-23T17:18:43.877Z"
   },
   {
    "duration": 33,
    "start_time": "2023-08-23T17:18:44.933Z"
   },
   {
    "duration": 23,
    "start_time": "2023-08-23T17:18:46.674Z"
   },
   {
    "duration": 31,
    "start_time": "2023-08-23T17:18:47.226Z"
   },
   {
    "duration": 7,
    "start_time": "2023-08-23T17:18:48.567Z"
   },
   {
    "duration": 4,
    "start_time": "2023-08-23T17:18:48.934Z"
   },
   {
    "duration": 20,
    "start_time": "2023-08-23T17:18:49.219Z"
   },
   {
    "duration": 24,
    "start_time": "2023-08-23T17:18:50.821Z"
   },
   {
    "duration": 917,
    "start_time": "2023-08-23T17:18:52.572Z"
   },
   {
    "duration": 417,
    "start_time": "2023-08-23T17:18:55.420Z"
   },
   {
    "duration": 8,
    "start_time": "2023-08-23T17:18:59.447Z"
   },
   {
    "duration": 7,
    "start_time": "2023-08-23T17:19:00.793Z"
   },
   {
    "duration": 2,
    "start_time": "2023-08-23T17:19:02.421Z"
   },
   {
    "duration": 7,
    "start_time": "2023-08-23T17:19:03.372Z"
   },
   {
    "duration": 3,
    "start_time": "2023-08-23T17:19:03.622Z"
   },
   {
    "duration": 3,
    "start_time": "2023-08-23T17:19:03.847Z"
   },
   {
    "duration": 3,
    "start_time": "2023-08-23T17:19:04.677Z"
   },
   {
    "duration": 3,
    "start_time": "2023-08-23T17:19:04.970Z"
   },
   {
    "duration": 24,
    "start_time": "2023-08-23T17:19:05.541Z"
   },
   {
    "duration": 26,
    "start_time": "2023-08-23T17:19:06.240Z"
   },
   {
    "duration": 4514,
    "start_time": "2023-08-23T17:19:08.667Z"
   },
   {
    "duration": 4,
    "start_time": "2023-08-23T17:19:18.877Z"
   },
   {
    "duration": 5,
    "start_time": "2023-08-23T17:19:19.421Z"
   },
   {
    "duration": 7,
    "start_time": "2023-08-23T17:19:19.920Z"
   },
   {
    "duration": 7,
    "start_time": "2023-08-23T17:19:20.549Z"
   },
   {
    "duration": 15,
    "start_time": "2023-08-23T17:19:21.074Z"
   },
   {
    "duration": 4,
    "start_time": "2023-08-23T17:19:21.622Z"
   },
   {
    "duration": 3,
    "start_time": "2023-08-23T17:19:22.275Z"
   },
   {
    "duration": 5,
    "start_time": "2023-08-23T17:19:24.077Z"
   },
   {
    "duration": 8,
    "start_time": "2023-08-23T17:19:52.831Z"
   },
   {
    "duration": 4,
    "start_time": "2023-08-23T17:19:53.773Z"
   },
   {
    "duration": 194,
    "start_time": "2023-08-23T17:19:55.956Z"
   },
   {
    "duration": 19246,
    "start_time": "2023-08-23T17:20:13.281Z"
   },
   {
    "duration": 18596,
    "start_time": "2023-08-23T17:20:42.838Z"
   },
   {
    "duration": 53,
    "start_time": "2023-08-23T17:22:56.283Z"
   },
   {
    "duration": 5,
    "start_time": "2023-08-23T17:26:42.043Z"
   },
   {
    "duration": 4,
    "start_time": "2023-08-23T17:26:46.770Z"
   },
   {
    "duration": 47098,
    "start_time": "2023-08-23T17:26:51.949Z"
   },
   {
    "duration": 41439,
    "start_time": "2023-08-23T17:28:42.185Z"
   },
   {
    "duration": 134,
    "start_time": "2023-08-23T17:31:26.292Z"
   },
   {
    "duration": 193,
    "start_time": "2023-08-23T17:33:06.453Z"
   },
   {
    "duration": 23,
    "start_time": "2023-08-23T17:33:17.608Z"
   },
   {
    "duration": 17,
    "start_time": "2023-08-23T17:37:57.613Z"
   },
   {
    "duration": 127,
    "start_time": "2023-08-23T17:38:25.380Z"
   },
   {
    "duration": 3638,
    "start_time": "2023-08-23T17:38:25.509Z"
   },
   {
    "duration": 2271,
    "start_time": "2023-08-23T17:38:29.162Z"
   },
   {
    "duration": 200,
    "start_time": "2023-08-23T17:38:31.434Z"
   },
   {
    "duration": 3,
    "start_time": "2023-08-23T17:38:31.637Z"
   },
   {
    "duration": 99,
    "start_time": "2023-08-23T17:38:31.643Z"
   },
   {
    "duration": 4,
    "start_time": "2023-08-23T17:38:31.744Z"
   },
   {
    "duration": 35,
    "start_time": "2023-08-23T17:38:31.757Z"
   },
   {
    "duration": 217,
    "start_time": "2023-08-23T17:38:31.794Z"
   },
   {
    "duration": 31,
    "start_time": "2023-08-23T17:38:32.016Z"
   },
   {
    "duration": 7,
    "start_time": "2023-08-23T17:38:32.054Z"
   },
   {
    "duration": 49,
    "start_time": "2023-08-23T17:38:32.070Z"
   },
   {
    "duration": 37,
    "start_time": "2023-08-23T17:38:32.135Z"
   },
   {
    "duration": 29,
    "start_time": "2023-08-23T17:38:32.182Z"
   },
   {
    "duration": 42,
    "start_time": "2023-08-23T17:38:32.216Z"
   },
   {
    "duration": 30,
    "start_time": "2023-08-23T17:38:32.263Z"
   },
   {
    "duration": 762,
    "start_time": "2023-08-23T17:38:32.297Z"
   },
   {
    "duration": 670,
    "start_time": "2023-08-23T17:38:33.061Z"
   },
   {
    "duration": 934,
    "start_time": "2023-08-23T17:38:33.733Z"
   },
   {
    "duration": 1224,
    "start_time": "2023-08-23T17:38:34.669Z"
   },
   {
    "duration": 165,
    "start_time": "2023-08-23T17:38:35.898Z"
   },
   {
    "duration": 43,
    "start_time": "2023-08-23T17:38:36.069Z"
   },
   {
    "duration": 31,
    "start_time": "2023-08-23T17:38:36.118Z"
   },
   {
    "duration": 32,
    "start_time": "2023-08-23T17:38:36.157Z"
   },
   {
    "duration": 37,
    "start_time": "2023-08-23T17:38:36.194Z"
   },
   {
    "duration": 9,
    "start_time": "2023-08-23T17:38:36.236Z"
   },
   {
    "duration": 18,
    "start_time": "2023-08-23T17:38:36.250Z"
   },
   {
    "duration": 38,
    "start_time": "2023-08-23T17:38:36.273Z"
   },
   {
    "duration": 88,
    "start_time": "2023-08-23T17:38:36.318Z"
   },
   {
    "duration": 1554,
    "start_time": "2023-08-23T17:38:36.416Z"
   },
   {
    "duration": 343,
    "start_time": "2023-08-23T17:38:37.980Z"
   },
   {
    "duration": 8,
    "start_time": "2023-08-23T17:38:38.328Z"
   },
   {
    "duration": 21,
    "start_time": "2023-08-23T17:38:38.341Z"
   },
   {
    "duration": 5,
    "start_time": "2023-08-23T17:38:38.371Z"
   },
   {
    "duration": 42,
    "start_time": "2023-08-23T17:38:38.378Z"
   },
   {
    "duration": 12,
    "start_time": "2023-08-23T17:38:38.423Z"
   },
   {
    "duration": 17,
    "start_time": "2023-08-23T17:38:38.442Z"
   },
   {
    "duration": 18,
    "start_time": "2023-08-23T17:38:38.461Z"
   },
   {
    "duration": 23,
    "start_time": "2023-08-23T17:38:38.480Z"
   },
   {
    "duration": 31,
    "start_time": "2023-08-23T17:38:38.505Z"
   },
   {
    "duration": 36,
    "start_time": "2023-08-23T17:38:38.548Z"
   },
   {
    "duration": 4551,
    "start_time": "2023-08-23T17:38:38.589Z"
   },
   {
    "duration": 6,
    "start_time": "2023-08-23T17:38:43.141Z"
   },
   {
    "duration": 19,
    "start_time": "2023-08-23T17:38:43.148Z"
   },
   {
    "duration": 27,
    "start_time": "2023-08-23T17:38:43.168Z"
   },
   {
    "duration": 11,
    "start_time": "2023-08-23T17:38:43.196Z"
   },
   {
    "duration": 46,
    "start_time": "2023-08-23T17:38:43.209Z"
   },
   {
    "duration": 9,
    "start_time": "2023-08-23T17:38:43.267Z"
   },
   {
    "duration": 32,
    "start_time": "2023-08-23T17:38:43.278Z"
   },
   {
    "duration": 8,
    "start_time": "2023-08-23T17:38:43.316Z"
   },
   {
    "duration": 46,
    "start_time": "2023-08-23T17:38:43.326Z"
   },
   {
    "duration": 34,
    "start_time": "2023-08-23T17:38:43.374Z"
   },
   {
    "duration": 16774,
    "start_time": "2023-08-23T17:38:43.410Z"
   },
   {
    "duration": 48095,
    "start_time": "2023-08-23T17:39:00.192Z"
   },
   {
    "duration": 48527,
    "start_time": "2023-08-23T17:39:48.293Z"
   },
   {
    "duration": 101,
    "start_time": "2023-08-23T17:40:36.836Z"
   },
   {
    "duration": 99,
    "start_time": "2023-08-23T17:40:36.945Z"
   },
   {
    "duration": 40,
    "start_time": "2023-08-23T17:40:37.047Z"
   },
   {
    "duration": 9,
    "start_time": "2023-08-23T17:40:37.092Z"
   },
   {
    "duration": 10,
    "start_time": "2023-08-23T17:40:37.104Z"
   },
   {
    "duration": 4,
    "start_time": "2023-08-23T17:40:37.119Z"
   },
   {
    "duration": 3,
    "start_time": "2023-08-23T17:40:37.129Z"
   },
   {
    "duration": 16,
    "start_time": "2023-08-23T17:40:37.136Z"
   },
   {
    "duration": 7,
    "start_time": "2023-08-23T17:40:37.155Z"
   },
   {
    "duration": 32,
    "start_time": "2023-08-23T17:40:37.163Z"
   },
   {
    "duration": 21,
    "start_time": "2023-08-23T17:40:37.197Z"
   },
   {
    "duration": 23,
    "start_time": "2023-08-23T17:40:37.220Z"
   },
   {
    "duration": 16,
    "start_time": "2023-08-23T17:40:37.245Z"
   },
   {
    "duration": 24,
    "start_time": "2023-08-23T17:40:37.263Z"
   },
   {
    "duration": 4,
    "start_time": "2023-08-23T17:40:37.289Z"
   },
   {
    "duration": 4,
    "start_time": "2023-08-23T17:40:37.296Z"
   },
   {
    "duration": 7,
    "start_time": "2023-08-23T17:40:37.303Z"
   },
   {
    "duration": 4,
    "start_time": "2023-08-23T18:33:31.652Z"
   },
   {
    "duration": 39,
    "start_time": "2023-08-23T18:33:46.112Z"
   },
   {
    "duration": 70,
    "start_time": "2023-08-23T18:33:58.041Z"
   },
   {
    "duration": 6,
    "start_time": "2023-08-23T18:35:03.873Z"
   },
   {
    "duration": 387,
    "start_time": "2023-08-23T18:35:14.840Z"
   },
   {
    "duration": 119,
    "start_time": "2023-08-23T18:36:17.776Z"
   },
   {
    "duration": 79,
    "start_time": "2023-08-23T18:36:19.152Z"
   },
   {
    "duration": 5,
    "start_time": "2023-08-23T18:36:46.000Z"
   },
   {
    "duration": 15,
    "start_time": "2023-08-23T18:37:26.053Z"
   },
   {
    "duration": 24,
    "start_time": "2023-08-23T18:37:54.083Z"
   },
   {
    "duration": 10,
    "start_time": "2023-08-23T18:38:04.441Z"
   },
   {
    "duration": 35,
    "start_time": "2023-08-23T18:38:05.178Z"
   },
   {
    "duration": 16,
    "start_time": "2023-08-23T18:38:17.909Z"
   },
   {
    "duration": 31,
    "start_time": "2023-08-23T18:38:40.852Z"
   },
   {
    "duration": 16,
    "start_time": "2023-08-23T18:38:55.533Z"
   },
   {
    "duration": 15372,
    "start_time": "2023-08-23T18:40:03.147Z"
   },
   {
    "duration": 47,
    "start_time": "2023-08-23T18:40:21.177Z"
   },
   {
    "duration": 43,
    "start_time": "2023-08-23T18:41:23.204Z"
   },
   {
    "duration": 139566,
    "start_time": "2023-08-23T18:41:44.772Z"
   },
   {
    "duration": 45,
    "start_time": "2023-08-23T18:44:10.439Z"
   },
   {
    "duration": 35,
    "start_time": "2023-08-23T18:44:14.783Z"
   },
   {
    "duration": 32,
    "start_time": "2023-08-23T18:44:39.087Z"
   },
   {
    "duration": 43,
    "start_time": "2023-08-23T18:45:58.278Z"
   },
   {
    "duration": 51,
    "start_time": "2023-08-23T18:46:12.196Z"
   },
   {
    "duration": 13579,
    "start_time": "2023-08-23T18:47:25.964Z"
   },
   {
    "duration": 62,
    "start_time": "2023-08-23T18:47:53.625Z"
   },
   {
    "duration": 47,
    "start_time": "2023-08-23T18:48:31.840Z"
   },
   {
    "duration": 5375,
    "start_time": "2023-08-23T18:50:26.612Z"
   },
   {
    "duration": 61,
    "start_time": "2023-08-23T18:50:44.064Z"
   },
   {
    "duration": 66608,
    "start_time": "2023-08-23T18:53:33.266Z"
   },
   {
    "duration": 23,
    "start_time": "2023-08-23T18:54:39.880Z"
   },
   {
    "duration": 241550,
    "start_time": "2023-08-23T18:54:55.341Z"
   },
   {
    "duration": 55,
    "start_time": "2023-08-23T18:58:56.892Z"
   },
   {
    "duration": 52,
    "start_time": "2023-08-23T18:59:02.960Z"
   },
   {
    "duration": 35,
    "start_time": "2023-08-23T19:00:34.382Z"
   },
   {
    "duration": 20,
    "start_time": "2023-08-23T19:08:46.440Z"
   },
   {
    "duration": 12,
    "start_time": "2023-08-23T19:08:58.416Z"
   },
   {
    "duration": 8,
    "start_time": "2023-08-23T19:09:11.172Z"
   },
   {
    "duration": 31,
    "start_time": "2023-08-23T19:09:20.628Z"
   },
   {
    "duration": 25434,
    "start_time": "2023-08-23T19:09:29.105Z"
   },
   {
    "duration": 63577,
    "start_time": "2023-08-23T19:10:08.276Z"
   },
   {
    "duration": 76545,
    "start_time": "2023-08-23T19:11:21.796Z"
   },
   {
    "duration": 55,
    "start_time": "2023-08-23T19:13:06.412Z"
   },
   {
    "duration": 14,
    "start_time": "2023-08-23T19:13:15.523Z"
   },
   {
    "duration": 40,
    "start_time": "2023-08-23T19:14:16.719Z"
   },
   {
    "duration": 28,
    "start_time": "2023-08-23T19:17:12.388Z"
   },
   {
    "duration": 44,
    "start_time": "2023-08-23T19:17:22.836Z"
   },
   {
    "duration": 7,
    "start_time": "2023-08-23T19:17:33.036Z"
   },
   {
    "duration": 99,
    "start_time": "2023-08-23T19:27:45.940Z"
   },
   {
    "duration": 4293,
    "start_time": "2023-08-23T19:27:46.042Z"
   },
   {
    "duration": 3316,
    "start_time": "2023-08-23T19:27:50.338Z"
   },
   {
    "duration": 174,
    "start_time": "2023-08-23T19:27:53.656Z"
   },
   {
    "duration": 3,
    "start_time": "2023-08-23T19:27:53.832Z"
   },
   {
    "duration": 54,
    "start_time": "2023-08-23T19:27:53.837Z"
   },
   {
    "duration": 30,
    "start_time": "2023-08-23T19:27:53.897Z"
   },
   {
    "duration": 7,
    "start_time": "2023-08-23T19:27:53.929Z"
   },
   {
    "duration": 189,
    "start_time": "2023-08-23T19:27:53.937Z"
   },
   {
    "duration": 38,
    "start_time": "2023-08-23T19:27:54.128Z"
   },
   {
    "duration": 10,
    "start_time": "2023-08-23T19:27:54.168Z"
   },
   {
    "duration": 47,
    "start_time": "2023-08-23T19:27:54.182Z"
   },
   {
    "duration": 13,
    "start_time": "2023-08-23T19:27:54.231Z"
   },
   {
    "duration": 35,
    "start_time": "2023-08-23T19:27:54.247Z"
   },
   {
    "duration": 37,
    "start_time": "2023-08-23T19:27:54.283Z"
   },
   {
    "duration": 16,
    "start_time": "2023-08-23T19:27:54.323Z"
   },
   {
    "duration": 708,
    "start_time": "2023-08-23T19:27:54.340Z"
   },
   {
    "duration": 596,
    "start_time": "2023-08-23T19:27:55.050Z"
   },
   {
    "duration": 746,
    "start_time": "2023-08-23T19:27:55.660Z"
   },
   {
    "duration": 1189,
    "start_time": "2023-08-23T19:27:56.416Z"
   },
   {
    "duration": 134,
    "start_time": "2023-08-23T19:27:57.607Z"
   },
   {
    "duration": 35,
    "start_time": "2023-08-23T19:27:57.743Z"
   },
   {
    "duration": 40,
    "start_time": "2023-08-23T19:27:57.780Z"
   },
   {
    "duration": 34,
    "start_time": "2023-08-23T19:27:57.822Z"
   },
   {
    "duration": 62,
    "start_time": "2023-08-23T19:27:57.863Z"
   },
   {
    "duration": 7,
    "start_time": "2023-08-23T19:27:57.932Z"
   },
   {
    "duration": 8,
    "start_time": "2023-08-23T19:27:57.941Z"
   },
   {
    "duration": 50,
    "start_time": "2023-08-23T19:27:57.950Z"
   },
   {
    "duration": 36,
    "start_time": "2023-08-23T19:27:58.003Z"
   },
   {
    "duration": 1081,
    "start_time": "2023-08-23T19:27:58.041Z"
   },
   {
    "duration": 431,
    "start_time": "2023-08-23T19:27:59.126Z"
   },
   {
    "duration": 4,
    "start_time": "2023-08-23T19:27:59.561Z"
   },
   {
    "duration": 10,
    "start_time": "2023-08-23T19:27:59.567Z"
   },
   {
    "duration": 8,
    "start_time": "2023-08-23T19:27:59.580Z"
   },
   {
    "duration": 5,
    "start_time": "2023-08-23T19:27:59.589Z"
   },
   {
    "duration": 9,
    "start_time": "2023-08-23T19:27:59.597Z"
   },
   {
    "duration": 24,
    "start_time": "2023-08-23T19:27:59.608Z"
   },
   {
    "duration": 34,
    "start_time": "2023-08-23T19:27:59.634Z"
   },
   {
    "duration": 4056,
    "start_time": "2023-08-23T19:27:59.669Z"
   },
   {
    "duration": 3,
    "start_time": "2023-08-23T19:28:03.727Z"
   },
   {
    "duration": 3,
    "start_time": "2023-08-23T19:28:03.736Z"
   },
   {
    "duration": 18,
    "start_time": "2023-08-23T19:28:03.740Z"
   },
   {
    "duration": 15,
    "start_time": "2023-08-23T19:28:03.760Z"
   },
   {
    "duration": 32,
    "start_time": "2023-08-23T19:28:03.776Z"
   },
   {
    "duration": 5,
    "start_time": "2023-08-23T19:28:03.809Z"
   },
   {
    "duration": 8,
    "start_time": "2023-08-23T19:28:03.816Z"
   },
   {
    "duration": 115,
    "start_time": "2023-08-23T19:28:03.826Z"
   },
   {
    "duration": 0,
    "start_time": "2023-08-23T19:28:03.942Z"
   },
   {
    "duration": 0,
    "start_time": "2023-08-23T19:28:03.944Z"
   },
   {
    "duration": 0,
    "start_time": "2023-08-23T19:28:03.946Z"
   },
   {
    "duration": 0,
    "start_time": "2023-08-23T19:28:03.947Z"
   },
   {
    "duration": 0,
    "start_time": "2023-08-23T19:28:03.948Z"
   },
   {
    "duration": 0,
    "start_time": "2023-08-23T19:28:03.949Z"
   },
   {
    "duration": 0,
    "start_time": "2023-08-23T19:28:03.950Z"
   },
   {
    "duration": 0,
    "start_time": "2023-08-23T19:28:03.951Z"
   },
   {
    "duration": 0,
    "start_time": "2023-08-23T19:28:03.951Z"
   },
   {
    "duration": 0,
    "start_time": "2023-08-23T19:28:03.952Z"
   },
   {
    "duration": 80,
    "start_time": "2023-08-23T19:29:24.519Z"
   },
   {
    "duration": 2834,
    "start_time": "2023-08-23T19:29:24.603Z"
   },
   {
    "duration": 1555,
    "start_time": "2023-08-23T19:29:27.440Z"
   },
   {
    "duration": 202,
    "start_time": "2023-08-23T19:29:29.005Z"
   },
   {
    "duration": 17,
    "start_time": "2023-08-23T19:29:29.220Z"
   },
   {
    "duration": 89,
    "start_time": "2023-08-23T19:29:29.242Z"
   },
   {
    "duration": 7,
    "start_time": "2023-08-23T19:29:29.338Z"
   },
   {
    "duration": 10,
    "start_time": "2023-08-23T19:29:29.348Z"
   },
   {
    "duration": 213,
    "start_time": "2023-08-23T19:29:29.367Z"
   },
   {
    "duration": 28,
    "start_time": "2023-08-23T19:29:29.582Z"
   },
   {
    "duration": 9,
    "start_time": "2023-08-23T19:29:29.615Z"
   },
   {
    "duration": 25,
    "start_time": "2023-08-23T19:29:29.630Z"
   },
   {
    "duration": 25,
    "start_time": "2023-08-23T19:29:29.660Z"
   },
   {
    "duration": 28,
    "start_time": "2023-08-23T19:29:29.692Z"
   },
   {
    "duration": 28,
    "start_time": "2023-08-23T19:29:29.725Z"
   },
   {
    "duration": 25,
    "start_time": "2023-08-23T19:29:29.759Z"
   },
   {
    "duration": 742,
    "start_time": "2023-08-23T19:29:29.795Z"
   },
   {
    "duration": 596,
    "start_time": "2023-08-23T19:29:30.539Z"
   },
   {
    "duration": 701,
    "start_time": "2023-08-23T19:29:31.140Z"
   },
   {
    "duration": 1084,
    "start_time": "2023-08-23T19:29:31.863Z"
   },
   {
    "duration": 224,
    "start_time": "2023-08-23T19:29:32.953Z"
   },
   {
    "duration": 77,
    "start_time": "2023-08-23T19:29:33.182Z"
   },
   {
    "duration": 50,
    "start_time": "2023-08-23T19:29:33.264Z"
   },
   {
    "duration": 27,
    "start_time": "2023-08-23T19:29:33.318Z"
   },
   {
    "duration": 39,
    "start_time": "2023-08-23T19:29:33.352Z"
   },
   {
    "duration": 8,
    "start_time": "2023-08-23T19:29:33.396Z"
   },
   {
    "duration": 5,
    "start_time": "2023-08-23T19:29:33.409Z"
   },
   {
    "duration": 24,
    "start_time": "2023-08-23T19:29:33.420Z"
   },
   {
    "duration": 39,
    "start_time": "2023-08-23T19:29:33.449Z"
   },
   {
    "duration": 1254,
    "start_time": "2023-08-23T19:29:33.493Z"
   },
   {
    "duration": 420,
    "start_time": "2023-08-23T19:29:34.749Z"
   },
   {
    "duration": 9,
    "start_time": "2023-08-23T19:29:35.178Z"
   },
   {
    "duration": 31,
    "start_time": "2023-08-23T19:29:35.191Z"
   },
   {
    "duration": 18,
    "start_time": "2023-08-23T19:29:35.226Z"
   },
   {
    "duration": 23,
    "start_time": "2023-08-23T19:29:35.246Z"
   },
   {
    "duration": 17,
    "start_time": "2023-08-23T19:29:35.273Z"
   },
   {
    "duration": 45,
    "start_time": "2023-08-23T19:29:35.291Z"
   },
   {
    "duration": 58,
    "start_time": "2023-08-23T19:29:35.339Z"
   },
   {
    "duration": 4407,
    "start_time": "2023-08-23T19:29:35.399Z"
   },
   {
    "duration": 3,
    "start_time": "2023-08-23T19:29:39.807Z"
   },
   {
    "duration": 7,
    "start_time": "2023-08-23T19:29:39.817Z"
   },
   {
    "duration": 28,
    "start_time": "2023-08-23T19:29:39.826Z"
   },
   {
    "duration": 26,
    "start_time": "2023-08-23T19:29:39.858Z"
   },
   {
    "duration": 20,
    "start_time": "2023-08-23T19:29:39.889Z"
   },
   {
    "duration": 6,
    "start_time": "2023-08-23T19:29:39.915Z"
   },
   {
    "duration": 15,
    "start_time": "2023-08-23T19:29:39.922Z"
   },
   {
    "duration": 8,
    "start_time": "2023-08-23T19:29:39.939Z"
   },
   {
    "duration": 11,
    "start_time": "2023-08-23T19:29:39.949Z"
   },
   {
    "duration": 15,
    "start_time": "2023-08-23T19:29:39.962Z"
   },
   {
    "duration": 26891,
    "start_time": "2023-08-23T19:29:39.979Z"
   },
   {
    "duration": 218,
    "start_time": "2023-08-23T19:30:06.878Z"
   },
   {
    "duration": 0,
    "start_time": "2023-08-23T19:30:07.098Z"
   },
   {
    "duration": 0,
    "start_time": "2023-08-23T19:30:07.098Z"
   },
   {
    "duration": 0,
    "start_time": "2023-08-23T19:30:07.099Z"
   },
   {
    "duration": 0,
    "start_time": "2023-08-23T19:30:07.100Z"
   },
   {
    "duration": 0,
    "start_time": "2023-08-23T19:30:07.100Z"
   },
   {
    "duration": 45960,
    "start_time": "2023-08-23T19:31:16.904Z"
   },
   {
    "duration": 40461,
    "start_time": "2023-08-23T19:32:15.173Z"
   },
   {
    "duration": 66,
    "start_time": "2023-08-23T19:33:21.148Z"
   },
   {
    "duration": 11,
    "start_time": "2023-08-23T19:33:27.637Z"
   },
   {
    "duration": 85,
    "start_time": "2023-08-27T13:45:19.608Z"
   },
   {
    "duration": 4025,
    "start_time": "2023-08-27T13:45:19.695Z"
   },
   {
    "duration": 2020,
    "start_time": "2023-08-27T13:45:23.723Z"
   },
   {
    "duration": 709,
    "start_time": "2023-08-27T13:45:25.745Z"
   },
   {
    "duration": 7,
    "start_time": "2023-08-27T13:45:26.456Z"
   },
   {
    "duration": 55,
    "start_time": "2023-08-27T13:45:26.464Z"
   },
   {
    "duration": 4,
    "start_time": "2023-08-27T13:45:26.521Z"
   },
   {
    "duration": 15,
    "start_time": "2023-08-27T13:45:26.526Z"
   },
   {
    "duration": 182,
    "start_time": "2023-08-27T13:45:26.543Z"
   },
   {
    "duration": 13,
    "start_time": "2023-08-27T13:45:26.726Z"
   },
   {
    "duration": 26,
    "start_time": "2023-08-27T13:45:26.740Z"
   },
   {
    "duration": 25,
    "start_time": "2023-08-27T13:45:26.767Z"
   },
   {
    "duration": 30,
    "start_time": "2023-08-27T13:45:26.794Z"
   },
   {
    "duration": 18,
    "start_time": "2023-08-27T13:45:26.827Z"
   },
   {
    "duration": 34,
    "start_time": "2023-08-27T13:45:26.847Z"
   },
   {
    "duration": 25,
    "start_time": "2023-08-27T13:45:26.883Z"
   },
   {
    "duration": 887,
    "start_time": "2023-08-27T13:45:26.910Z"
   },
   {
    "duration": 493,
    "start_time": "2023-08-27T13:45:27.799Z"
   },
   {
    "duration": 790,
    "start_time": "2023-08-27T13:45:28.294Z"
   },
   {
    "duration": 1127,
    "start_time": "2023-08-27T13:45:29.092Z"
   },
   {
    "duration": 129,
    "start_time": "2023-08-27T13:45:30.222Z"
   },
   {
    "duration": 57,
    "start_time": "2023-08-27T13:45:30.353Z"
   },
   {
    "duration": 61,
    "start_time": "2023-08-27T13:45:30.412Z"
   },
   {
    "duration": 55,
    "start_time": "2023-08-27T13:45:30.476Z"
   },
   {
    "duration": 101,
    "start_time": "2023-08-27T13:45:30.535Z"
   },
   {
    "duration": 3,
    "start_time": "2023-08-27T13:45:30.638Z"
   },
   {
    "duration": 74,
    "start_time": "2023-08-27T13:45:30.643Z"
   },
   {
    "duration": 72,
    "start_time": "2023-08-27T13:45:30.720Z"
   },
   {
    "duration": 54,
    "start_time": "2023-08-27T13:45:30.793Z"
   },
   {
    "duration": 82,
    "start_time": "2023-08-27T13:45:30.849Z"
   },
   {
    "duration": 1107,
    "start_time": "2023-08-27T13:45:30.935Z"
   },
   {
    "duration": 318,
    "start_time": "2023-08-27T13:45:32.044Z"
   },
   {
    "duration": 3,
    "start_time": "2023-08-27T13:45:32.364Z"
   },
   {
    "duration": 24,
    "start_time": "2023-08-27T13:45:32.368Z"
   },
   {
    "duration": 10,
    "start_time": "2023-08-27T13:45:32.394Z"
   },
   {
    "duration": 23,
    "start_time": "2023-08-27T13:45:32.405Z"
   },
   {
    "duration": 29,
    "start_time": "2023-08-27T13:45:32.429Z"
   },
   {
    "duration": 41,
    "start_time": "2023-08-27T13:45:32.460Z"
   },
   {
    "duration": 39,
    "start_time": "2023-08-27T13:45:32.505Z"
   },
   {
    "duration": 279,
    "start_time": "2023-08-27T13:45:32.546Z"
   },
   {
    "duration": 0,
    "start_time": "2023-08-27T13:45:32.828Z"
   },
   {
    "duration": 0,
    "start_time": "2023-08-27T13:45:32.830Z"
   },
   {
    "duration": 0,
    "start_time": "2023-08-27T13:45:32.831Z"
   },
   {
    "duration": 0,
    "start_time": "2023-08-27T13:45:32.832Z"
   },
   {
    "duration": 0,
    "start_time": "2023-08-27T13:45:32.833Z"
   },
   {
    "duration": 0,
    "start_time": "2023-08-27T13:45:32.834Z"
   },
   {
    "duration": 0,
    "start_time": "2023-08-27T13:45:32.836Z"
   },
   {
    "duration": 0,
    "start_time": "2023-08-27T13:45:32.837Z"
   },
   {
    "duration": 0,
    "start_time": "2023-08-27T13:45:32.839Z"
   },
   {
    "duration": 0,
    "start_time": "2023-08-27T13:45:32.840Z"
   },
   {
    "duration": 0,
    "start_time": "2023-08-27T13:45:32.844Z"
   },
   {
    "duration": 0,
    "start_time": "2023-08-27T13:45:32.845Z"
   },
   {
    "duration": 0,
    "start_time": "2023-08-27T13:45:32.846Z"
   },
   {
    "duration": 0,
    "start_time": "2023-08-27T13:45:32.848Z"
   },
   {
    "duration": 0,
    "start_time": "2023-08-27T13:45:32.861Z"
   },
   {
    "duration": 24,
    "start_time": "2023-08-27T13:46:37.546Z"
   },
   {
    "duration": 7,
    "start_time": "2023-08-27T13:46:57.454Z"
   },
   {
    "duration": 16,
    "start_time": "2023-08-27T13:47:01.318Z"
   },
   {
    "duration": 123,
    "start_time": "2023-08-27T13:47:32.846Z"
   },
   {
    "duration": 2589,
    "start_time": "2023-08-27T13:47:32.972Z"
   },
   {
    "duration": 2033,
    "start_time": "2023-08-27T13:47:35.563Z"
   },
   {
    "duration": 145,
    "start_time": "2023-08-27T13:47:37.603Z"
   },
   {
    "duration": 4,
    "start_time": "2023-08-27T13:47:37.751Z"
   },
   {
    "duration": 60,
    "start_time": "2023-08-27T13:47:37.756Z"
   },
   {
    "duration": 5,
    "start_time": "2023-08-27T13:47:37.819Z"
   },
   {
    "duration": 4,
    "start_time": "2023-08-27T13:47:37.827Z"
   },
   {
    "duration": 171,
    "start_time": "2023-08-27T13:47:37.834Z"
   },
   {
    "duration": 30,
    "start_time": "2023-08-27T13:47:38.011Z"
   },
   {
    "duration": 8,
    "start_time": "2023-08-27T13:47:38.046Z"
   },
   {
    "duration": 30,
    "start_time": "2023-08-27T13:47:38.055Z"
   },
   {
    "duration": 28,
    "start_time": "2023-08-27T13:47:38.086Z"
   },
   {
    "duration": 32,
    "start_time": "2023-08-27T13:47:38.122Z"
   },
   {
    "duration": 37,
    "start_time": "2023-08-27T13:47:38.156Z"
   },
   {
    "duration": 37,
    "start_time": "2023-08-27T13:47:38.195Z"
   },
   {
    "duration": 790,
    "start_time": "2023-08-27T13:47:38.234Z"
   },
   {
    "duration": 630,
    "start_time": "2023-08-27T13:47:39.026Z"
   },
   {
    "duration": 778,
    "start_time": "2023-08-27T13:47:39.660Z"
   },
   {
    "duration": 1160,
    "start_time": "2023-08-27T13:47:40.440Z"
   },
   {
    "duration": 162,
    "start_time": "2023-08-27T13:47:41.605Z"
   },
   {
    "duration": 49,
    "start_time": "2023-08-27T13:47:41.769Z"
   },
   {
    "duration": 28,
    "start_time": "2023-08-27T13:47:41.820Z"
   },
   {
    "duration": 28,
    "start_time": "2023-08-27T13:47:41.851Z"
   },
   {
    "duration": 50,
    "start_time": "2023-08-27T13:47:41.883Z"
   },
   {
    "duration": 3,
    "start_time": "2023-08-27T13:47:41.935Z"
   },
   {
    "duration": 7,
    "start_time": "2023-08-27T13:47:41.940Z"
   },
   {
    "duration": 198,
    "start_time": "2023-08-27T13:47:41.949Z"
   },
   {
    "duration": 0,
    "start_time": "2023-08-27T13:47:42.150Z"
   },
   {
    "duration": 0,
    "start_time": "2023-08-27T13:47:42.151Z"
   },
   {
    "duration": 0,
    "start_time": "2023-08-27T13:47:42.153Z"
   },
   {
    "duration": 0,
    "start_time": "2023-08-27T13:47:42.154Z"
   },
   {
    "duration": 0,
    "start_time": "2023-08-27T13:47:42.155Z"
   },
   {
    "duration": 0,
    "start_time": "2023-08-27T13:47:42.174Z"
   },
   {
    "duration": 0,
    "start_time": "2023-08-27T13:47:42.179Z"
   },
   {
    "duration": 0,
    "start_time": "2023-08-27T13:47:42.186Z"
   },
   {
    "duration": 0,
    "start_time": "2023-08-27T13:47:42.186Z"
   },
   {
    "duration": 0,
    "start_time": "2023-08-27T13:47:42.187Z"
   },
   {
    "duration": 0,
    "start_time": "2023-08-27T13:47:42.195Z"
   },
   {
    "duration": 0,
    "start_time": "2023-08-27T13:47:42.200Z"
   },
   {
    "duration": 0,
    "start_time": "2023-08-27T13:47:42.200Z"
   },
   {
    "duration": 0,
    "start_time": "2023-08-27T13:47:42.201Z"
   },
   {
    "duration": 0,
    "start_time": "2023-08-27T13:47:42.211Z"
   },
   {
    "duration": 0,
    "start_time": "2023-08-27T13:47:42.212Z"
   },
   {
    "duration": 0,
    "start_time": "2023-08-27T13:47:42.213Z"
   },
   {
    "duration": 0,
    "start_time": "2023-08-27T13:47:42.213Z"
   },
   {
    "duration": 0,
    "start_time": "2023-08-27T13:47:42.219Z"
   },
   {
    "duration": 0,
    "start_time": "2023-08-27T13:47:42.220Z"
   },
   {
    "duration": 0,
    "start_time": "2023-08-27T13:47:42.221Z"
   },
   {
    "duration": 0,
    "start_time": "2023-08-27T13:47:42.222Z"
   },
   {
    "duration": 0,
    "start_time": "2023-08-27T13:47:42.223Z"
   },
   {
    "duration": 0,
    "start_time": "2023-08-27T13:47:42.229Z"
   },
   {
    "duration": 0,
    "start_time": "2023-08-27T13:47:42.230Z"
   },
   {
    "duration": 0,
    "start_time": "2023-08-27T13:47:42.231Z"
   },
   {
    "duration": 0,
    "start_time": "2023-08-27T13:47:42.232Z"
   },
   {
    "duration": 0,
    "start_time": "2023-08-27T13:47:42.235Z"
   },
   {
    "duration": 4,
    "start_time": "2023-08-27T13:49:20.295Z"
   },
   {
    "duration": 35,
    "start_time": "2023-08-27T13:49:21.200Z"
   },
   {
    "duration": 24,
    "start_time": "2023-08-27T13:55:31.431Z"
   },
   {
    "duration": 1382,
    "start_time": "2023-08-27T13:55:48.838Z"
   },
   {
    "duration": 26,
    "start_time": "2023-08-27T14:15:24.199Z"
   },
   {
    "duration": 10,
    "start_time": "2023-08-27T14:17:18.536Z"
   },
   {
    "duration": 29,
    "start_time": "2023-08-27T14:17:28.899Z"
   },
   {
    "duration": 24,
    "start_time": "2023-08-27T14:20:06.940Z"
   },
   {
    "duration": 22206,
    "start_time": "2023-08-27T14:20:06.966Z"
   },
   {
    "duration": 4,
    "start_time": "2023-08-27T14:20:29.175Z"
   },
   {
    "duration": 7,
    "start_time": "2023-08-27T14:20:49.956Z"
   },
   {
    "duration": 104201,
    "start_time": "2023-08-27T14:20:50.769Z"
   },
   {
    "duration": 4,
    "start_time": "2023-08-27T14:22:34.972Z"
   },
   {
    "duration": 146281,
    "start_time": "2023-08-27T14:54:26.636Z"
   },
   {
    "duration": 7,
    "start_time": "2023-08-27T14:56:52.919Z"
   },
   {
    "duration": 105,
    "start_time": "2023-08-27T14:57:32.629Z"
   },
   {
    "duration": 2649,
    "start_time": "2023-08-27T14:57:32.738Z"
   },
   {
    "duration": 1943,
    "start_time": "2023-08-27T14:57:35.388Z"
   },
   {
    "duration": 132,
    "start_time": "2023-08-27T14:57:37.332Z"
   },
   {
    "duration": 3,
    "start_time": "2023-08-27T14:57:37.466Z"
   },
   {
    "duration": 55,
    "start_time": "2023-08-27T14:57:37.473Z"
   },
   {
    "duration": 4,
    "start_time": "2023-08-27T14:57:37.530Z"
   },
   {
    "duration": 13,
    "start_time": "2023-08-27T14:57:37.536Z"
   },
   {
    "duration": 198,
    "start_time": "2023-08-27T14:57:37.551Z"
   },
   {
    "duration": 31,
    "start_time": "2023-08-27T14:57:37.750Z"
   },
   {
    "duration": 8,
    "start_time": "2023-08-27T14:57:37.782Z"
   },
   {
    "duration": 29,
    "start_time": "2023-08-27T14:57:37.792Z"
   },
   {
    "duration": 19,
    "start_time": "2023-08-27T14:57:37.827Z"
   },
   {
    "duration": 48,
    "start_time": "2023-08-27T14:57:37.849Z"
   },
   {
    "duration": 30,
    "start_time": "2023-08-27T14:57:37.902Z"
   },
   {
    "duration": 17,
    "start_time": "2023-08-27T14:57:37.934Z"
   },
   {
    "duration": 742,
    "start_time": "2023-08-27T14:57:37.953Z"
   },
   {
    "duration": 612,
    "start_time": "2023-08-27T14:57:38.697Z"
   },
   {
    "duration": 733,
    "start_time": "2023-08-27T14:57:39.312Z"
   },
   {
    "duration": 1144,
    "start_time": "2023-08-27T14:57:40.047Z"
   },
   {
    "duration": 131,
    "start_time": "2023-08-27T14:57:41.195Z"
   },
   {
    "duration": 54,
    "start_time": "2023-08-27T14:57:41.328Z"
   },
   {
    "duration": 35,
    "start_time": "2023-08-27T14:57:41.386Z"
   },
   {
    "duration": 18,
    "start_time": "2023-08-27T14:57:41.423Z"
   },
   {
    "duration": 34,
    "start_time": "2023-08-27T14:57:41.442Z"
   },
   {
    "duration": 3,
    "start_time": "2023-08-27T14:57:41.477Z"
   },
   {
    "duration": 6,
    "start_time": "2023-08-27T14:57:41.481Z"
   },
   {
    "duration": 6,
    "start_time": "2023-08-27T14:57:41.489Z"
   },
   {
    "duration": 30,
    "start_time": "2023-08-27T14:57:41.496Z"
   },
   {
    "duration": 36,
    "start_time": "2023-08-27T14:57:41.530Z"
   },
   {
    "duration": 1252,
    "start_time": "2023-08-27T14:57:41.568Z"
   },
   {
    "duration": 50,
    "start_time": "2023-08-27T14:57:42.822Z"
   },
   {
    "duration": 23,
    "start_time": "2023-08-27T14:57:42.874Z"
   },
   {
    "duration": 127972,
    "start_time": "2023-08-27T14:57:42.899Z"
   },
   {
    "duration": 4,
    "start_time": "2023-08-27T14:59:50.883Z"
   },
   {
    "duration": 11,
    "start_time": "2023-08-27T14:59:50.896Z"
   },
   {
    "duration": 371,
    "start_time": "2023-08-27T14:59:50.909Z"
   },
   {
    "duration": 4,
    "start_time": "2023-08-27T14:59:51.284Z"
   },
   {
    "duration": 13,
    "start_time": "2023-08-27T14:59:51.289Z"
   },
   {
    "duration": 17,
    "start_time": "2023-08-27T14:59:51.303Z"
   },
   {
    "duration": 10,
    "start_time": "2023-08-27T14:59:51.331Z"
   },
   {
    "duration": 12,
    "start_time": "2023-08-27T14:59:51.343Z"
   },
   {
    "duration": 59,
    "start_time": "2023-08-27T14:59:51.360Z"
   },
   {
    "duration": 32,
    "start_time": "2023-08-27T14:59:51.429Z"
   },
   {
    "duration": 4578,
    "start_time": "2023-08-27T14:59:51.466Z"
   },
   {
    "duration": 3,
    "start_time": "2023-08-27T14:59:56.046Z"
   },
   {
    "duration": 11,
    "start_time": "2023-08-27T14:59:56.051Z"
   },
   {
    "duration": 20,
    "start_time": "2023-08-27T14:59:56.064Z"
   },
   {
    "duration": 21,
    "start_time": "2023-08-27T14:59:56.087Z"
   },
   {
    "duration": 32,
    "start_time": "2023-08-27T14:59:56.111Z"
   },
   {
    "duration": 21,
    "start_time": "2023-08-27T14:59:56.145Z"
   },
   {
    "duration": 10,
    "start_time": "2023-08-27T14:59:56.168Z"
   },
   {
    "duration": 12,
    "start_time": "2023-08-27T14:59:56.180Z"
   },
   {
    "duration": 10,
    "start_time": "2023-08-27T14:59:56.194Z"
   },
   {
    "duration": 16,
    "start_time": "2023-08-27T14:59:56.206Z"
   },
   {
    "duration": 24346,
    "start_time": "2023-08-27T14:59:56.224Z"
   },
   {
    "duration": 41740,
    "start_time": "2023-08-27T15:00:20.588Z"
   },
   {
    "duration": 42498,
    "start_time": "2023-08-27T15:01:02.331Z"
   },
   {
    "duration": 78,
    "start_time": "2023-08-27T15:01:44.832Z"
   },
   {
    "duration": 16,
    "start_time": "2023-08-27T15:01:44.916Z"
   },
   {
    "duration": 141439,
    "start_time": "2023-08-27T15:01:44.936Z"
   },
   {
    "duration": 70,
    "start_time": "2023-08-27T15:05:09.782Z"
   },
   {
    "duration": 2644,
    "start_time": "2023-08-27T15:05:09.854Z"
   },
   {
    "duration": 1828,
    "start_time": "2023-08-27T15:05:12.506Z"
   },
   {
    "duration": 129,
    "start_time": "2023-08-27T15:05:14.336Z"
   },
   {
    "duration": 4,
    "start_time": "2023-08-27T15:05:14.469Z"
   },
   {
    "duration": 52,
    "start_time": "2023-08-27T15:05:14.474Z"
   },
   {
    "duration": 5,
    "start_time": "2023-08-27T15:05:14.528Z"
   },
   {
    "duration": 9,
    "start_time": "2023-08-27T15:05:14.534Z"
   },
   {
    "duration": 180,
    "start_time": "2023-08-27T15:05:14.545Z"
   },
   {
    "duration": 14,
    "start_time": "2023-08-27T15:05:14.727Z"
   },
   {
    "duration": 5,
    "start_time": "2023-08-27T15:05:14.743Z"
   },
   {
    "duration": 46,
    "start_time": "2023-08-27T15:05:14.750Z"
   },
   {
    "duration": 26,
    "start_time": "2023-08-27T15:05:14.803Z"
   },
   {
    "duration": 17,
    "start_time": "2023-08-27T15:05:14.832Z"
   },
   {
    "duration": 49,
    "start_time": "2023-08-27T15:05:14.851Z"
   },
   {
    "duration": 19,
    "start_time": "2023-08-27T15:05:14.901Z"
   },
   {
    "duration": 711,
    "start_time": "2023-08-27T15:05:14.921Z"
   },
   {
    "duration": 542,
    "start_time": "2023-08-27T15:05:15.634Z"
   },
   {
    "duration": 633,
    "start_time": "2023-08-27T15:05:16.177Z"
   },
   {
    "duration": 1088,
    "start_time": "2023-08-27T15:05:16.812Z"
   },
   {
    "duration": 158,
    "start_time": "2023-08-27T15:05:17.902Z"
   },
   {
    "duration": 69,
    "start_time": "2023-08-27T15:05:18.064Z"
   },
   {
    "duration": 34,
    "start_time": "2023-08-27T15:05:18.134Z"
   },
   {
    "duration": 24,
    "start_time": "2023-08-27T15:05:18.170Z"
   },
   {
    "duration": 36,
    "start_time": "2023-08-27T15:05:18.196Z"
   },
   {
    "duration": 2,
    "start_time": "2023-08-27T15:05:18.234Z"
   },
   {
    "duration": 9,
    "start_time": "2023-08-27T15:05:18.238Z"
   },
   {
    "duration": 5,
    "start_time": "2023-08-27T15:05:18.260Z"
   },
   {
    "duration": 31,
    "start_time": "2023-08-27T15:05:18.269Z"
   },
   {
    "duration": 32,
    "start_time": "2023-08-27T15:05:18.302Z"
   },
   {
    "duration": 1233,
    "start_time": "2023-08-27T15:05:18.336Z"
   },
   {
    "duration": 37,
    "start_time": "2023-08-27T15:05:19.571Z"
   },
   {
    "duration": 4,
    "start_time": "2023-08-27T15:05:19.614Z"
   },
   {
    "duration": 133046,
    "start_time": "2023-08-27T15:05:19.621Z"
   },
   {
    "duration": 6,
    "start_time": "2023-08-27T15:07:32.671Z"
   },
   {
    "duration": 225,
    "start_time": "2023-08-27T15:07:32.679Z"
   },
   {
    "duration": 0,
    "start_time": "2023-08-27T15:07:32.911Z"
   },
   {
    "duration": 0,
    "start_time": "2023-08-27T15:07:32.915Z"
   },
   {
    "duration": 0,
    "start_time": "2023-08-27T15:07:32.917Z"
   },
   {
    "duration": 0,
    "start_time": "2023-08-27T15:07:32.918Z"
   },
   {
    "duration": 0,
    "start_time": "2023-08-27T15:07:32.923Z"
   },
   {
    "duration": 0,
    "start_time": "2023-08-27T15:07:32.925Z"
   },
   {
    "duration": 0,
    "start_time": "2023-08-27T15:07:32.927Z"
   },
   {
    "duration": 0,
    "start_time": "2023-08-27T15:07:32.928Z"
   },
   {
    "duration": 0,
    "start_time": "2023-08-27T15:07:32.937Z"
   },
   {
    "duration": 0,
    "start_time": "2023-08-27T15:07:32.938Z"
   },
   {
    "duration": 0,
    "start_time": "2023-08-27T15:07:32.941Z"
   },
   {
    "duration": 0,
    "start_time": "2023-08-27T15:07:32.942Z"
   },
   {
    "duration": 0,
    "start_time": "2023-08-27T15:07:32.952Z"
   },
   {
    "duration": 0,
    "start_time": "2023-08-27T15:07:32.954Z"
   },
   {
    "duration": 0,
    "start_time": "2023-08-27T15:07:32.955Z"
   },
   {
    "duration": 0,
    "start_time": "2023-08-27T15:07:32.964Z"
   },
   {
    "duration": 0,
    "start_time": "2023-08-27T15:07:32.965Z"
   },
   {
    "duration": 0,
    "start_time": "2023-08-27T15:07:32.966Z"
   },
   {
    "duration": 0,
    "start_time": "2023-08-27T15:07:32.967Z"
   },
   {
    "duration": 0,
    "start_time": "2023-08-27T15:07:32.968Z"
   },
   {
    "duration": 0,
    "start_time": "2023-08-27T15:07:32.969Z"
   },
   {
    "duration": 0,
    "start_time": "2023-08-27T15:07:32.969Z"
   },
   {
    "duration": 0,
    "start_time": "2023-08-27T15:07:32.971Z"
   },
   {
    "duration": 0,
    "start_time": "2023-08-27T15:07:32.972Z"
   },
   {
    "duration": 151,
    "start_time": "2023-08-27T15:08:29.518Z"
   },
   {
    "duration": 7,
    "start_time": "2023-08-27T15:08:38.147Z"
   },
   {
    "duration": 446,
    "start_time": "2023-08-27T15:08:42.563Z"
   },
   {
    "duration": 301,
    "start_time": "2023-08-27T15:09:00.815Z"
   },
   {
    "duration": 241,
    "start_time": "2023-08-27T15:09:39.314Z"
   },
   {
    "duration": 264,
    "start_time": "2023-08-27T15:11:03.934Z"
   },
   {
    "duration": 193,
    "start_time": "2023-08-27T15:11:37.252Z"
   },
   {
    "duration": 246,
    "start_time": "2023-08-27T15:12:24.241Z"
   },
   {
    "duration": 246,
    "start_time": "2023-08-27T15:15:02.642Z"
   },
   {
    "duration": 258,
    "start_time": "2023-08-27T15:15:32.275Z"
   },
   {
    "duration": 239,
    "start_time": "2023-08-27T15:15:50.410Z"
   },
   {
    "duration": 249,
    "start_time": "2023-08-27T15:16:24.001Z"
   },
   {
    "duration": 234,
    "start_time": "2023-08-27T15:16:33.988Z"
   },
   {
    "duration": 235,
    "start_time": "2023-08-27T15:16:41.492Z"
   },
   {
    "duration": 222,
    "start_time": "2023-08-27T15:17:12.918Z"
   },
   {
    "duration": 305,
    "start_time": "2023-08-27T15:18:39.173Z"
   },
   {
    "duration": 224,
    "start_time": "2023-08-27T15:18:57.382Z"
   },
   {
    "duration": 236,
    "start_time": "2023-08-27T15:19:13.723Z"
   },
   {
    "duration": 7,
    "start_time": "2023-08-27T15:20:35.936Z"
   },
   {
    "duration": 236,
    "start_time": "2023-08-27T15:21:06.592Z"
   },
   {
    "duration": 8,
    "start_time": "2023-08-27T15:21:38.631Z"
   },
   {
    "duration": 223,
    "start_time": "2023-08-27T15:22:25.093Z"
   },
   {
    "duration": 249,
    "start_time": "2023-08-27T15:22:57.017Z"
   },
   {
    "duration": 9,
    "start_time": "2023-08-27T15:23:11.888Z"
   },
   {
    "duration": 232,
    "start_time": "2023-08-27T15:23:13.753Z"
   },
   {
    "duration": 9,
    "start_time": "2023-08-27T15:23:42.585Z"
   },
   {
    "duration": 218,
    "start_time": "2023-08-27T15:24:02.174Z"
   },
   {
    "duration": 217,
    "start_time": "2023-08-27T15:24:22.194Z"
   },
   {
    "duration": 15,
    "start_time": "2023-08-27T15:25:01.402Z"
   },
   {
    "duration": 8154,
    "start_time": "2023-08-27T15:25:25.760Z"
   },
   {
    "duration": 8409,
    "start_time": "2023-08-27T15:28:50.908Z"
   },
   {
    "duration": 2659,
    "start_time": "2023-08-27T15:33:17.281Z"
   },
   {
    "duration": 8,
    "start_time": "2023-08-27T15:33:37.179Z"
   },
   {
    "duration": 13,
    "start_time": "2023-08-27T15:34:46.047Z"
   },
   {
    "duration": 34,
    "start_time": "2023-08-27T15:35:34.781Z"
   },
   {
    "duration": 632,
    "start_time": "2023-08-27T15:35:56.676Z"
   },
   {
    "duration": 3,
    "start_time": "2023-08-27T15:36:35.542Z"
   },
   {
    "duration": 590,
    "start_time": "2023-08-27T15:36:37.550Z"
   },
   {
    "duration": 1176,
    "start_time": "2023-08-27T15:37:07.422Z"
   },
   {
    "duration": 10,
    "start_time": "2023-08-27T15:39:20.722Z"
   },
   {
    "duration": 14,
    "start_time": "2023-08-27T15:39:37.541Z"
   },
   {
    "duration": 31,
    "start_time": "2023-08-27T15:39:49.730Z"
   },
   {
    "duration": 2103,
    "start_time": "2023-08-27T15:39:53.549Z"
   },
   {
    "duration": 22,
    "start_time": "2023-08-27T15:45:19.283Z"
   },
   {
    "duration": 12,
    "start_time": "2023-08-27T15:45:43.607Z"
   },
   {
    "duration": 21,
    "start_time": "2023-08-27T15:45:44.188Z"
   },
   {
    "duration": 2439,
    "start_time": "2023-08-27T15:45:46.384Z"
   },
   {
    "duration": 2549,
    "start_time": "2023-08-27T15:47:30.092Z"
   },
   {
    "duration": 105,
    "start_time": "2023-08-27T15:53:09.056Z"
   },
   {
    "duration": 2629,
    "start_time": "2023-08-27T15:53:09.163Z"
   },
   {
    "duration": 1878,
    "start_time": "2023-08-27T15:53:11.793Z"
   },
   {
    "duration": 138,
    "start_time": "2023-08-27T15:53:13.674Z"
   },
   {
    "duration": 3,
    "start_time": "2023-08-27T15:53:13.814Z"
   },
   {
    "duration": 47,
    "start_time": "2023-08-27T15:53:13.821Z"
   },
   {
    "duration": 12,
    "start_time": "2023-08-27T15:53:13.870Z"
   },
   {
    "duration": 12,
    "start_time": "2023-08-27T15:53:13.883Z"
   },
   {
    "duration": 192,
    "start_time": "2023-08-27T15:53:13.897Z"
   },
   {
    "duration": 21,
    "start_time": "2023-08-27T15:53:14.093Z"
   },
   {
    "duration": 8,
    "start_time": "2023-08-27T15:53:14.115Z"
   },
   {
    "duration": 17,
    "start_time": "2023-08-27T15:53:14.127Z"
   },
   {
    "duration": 41,
    "start_time": "2023-08-27T15:53:14.146Z"
   },
   {
    "duration": 32,
    "start_time": "2023-08-27T15:53:14.191Z"
   },
   {
    "duration": 20,
    "start_time": "2023-08-27T15:53:14.226Z"
   },
   {
    "duration": 22,
    "start_time": "2023-08-27T15:53:14.249Z"
   },
   {
    "duration": 757,
    "start_time": "2023-08-27T15:53:14.274Z"
   },
   {
    "duration": 590,
    "start_time": "2023-08-27T15:53:15.033Z"
   },
   {
    "duration": 718,
    "start_time": "2023-08-27T15:53:15.625Z"
   },
   {
    "duration": 1244,
    "start_time": "2023-08-27T15:53:16.346Z"
   },
   {
    "duration": 143,
    "start_time": "2023-08-27T15:53:17.599Z"
   },
   {
    "duration": 48,
    "start_time": "2023-08-27T15:53:17.743Z"
   },
   {
    "duration": 38,
    "start_time": "2023-08-27T15:53:17.794Z"
   },
   {
    "duration": 39,
    "start_time": "2023-08-27T15:53:17.834Z"
   },
   {
    "duration": 50,
    "start_time": "2023-08-27T15:53:17.877Z"
   },
   {
    "duration": 3,
    "start_time": "2023-08-27T15:53:17.929Z"
   },
   {
    "duration": 10,
    "start_time": "2023-08-27T15:53:17.934Z"
   },
   {
    "duration": 19,
    "start_time": "2023-08-27T15:53:17.949Z"
   },
   {
    "duration": 52,
    "start_time": "2023-08-27T15:53:17.971Z"
   },
   {
    "duration": 44,
    "start_time": "2023-08-27T15:53:18.025Z"
   },
   {
    "duration": 1431,
    "start_time": "2023-08-27T15:53:18.071Z"
   },
   {
    "duration": 191,
    "start_time": "2023-08-27T15:53:19.507Z"
   },
   {
    "duration": 0,
    "start_time": "2023-08-27T15:53:19.701Z"
   },
   {
    "duration": 0,
    "start_time": "2023-08-27T15:53:19.702Z"
   },
   {
    "duration": 0,
    "start_time": "2023-08-27T15:53:19.703Z"
   },
   {
    "duration": 0,
    "start_time": "2023-08-27T15:53:19.704Z"
   },
   {
    "duration": 0,
    "start_time": "2023-08-27T15:53:19.705Z"
   },
   {
    "duration": 0,
    "start_time": "2023-08-27T15:53:19.706Z"
   },
   {
    "duration": 0,
    "start_time": "2023-08-27T15:53:19.707Z"
   },
   {
    "duration": 0,
    "start_time": "2023-08-27T15:53:19.708Z"
   },
   {
    "duration": 0,
    "start_time": "2023-08-27T15:53:19.709Z"
   },
   {
    "duration": 0,
    "start_time": "2023-08-27T15:53:19.710Z"
   },
   {
    "duration": 0,
    "start_time": "2023-08-27T15:53:19.718Z"
   },
   {
    "duration": 0,
    "start_time": "2023-08-27T15:53:19.719Z"
   },
   {
    "duration": 0,
    "start_time": "2023-08-27T15:53:19.720Z"
   },
   {
    "duration": 0,
    "start_time": "2023-08-27T15:53:19.721Z"
   },
   {
    "duration": 0,
    "start_time": "2023-08-27T15:53:19.726Z"
   },
   {
    "duration": 0,
    "start_time": "2023-08-27T15:53:19.727Z"
   },
   {
    "duration": 0,
    "start_time": "2023-08-27T15:53:19.728Z"
   },
   {
    "duration": 0,
    "start_time": "2023-08-27T15:53:19.732Z"
   },
   {
    "duration": 0,
    "start_time": "2023-08-27T15:53:19.733Z"
   },
   {
    "duration": 0,
    "start_time": "2023-08-27T15:53:19.734Z"
   },
   {
    "duration": 0,
    "start_time": "2023-08-27T15:53:19.735Z"
   },
   {
    "duration": 0,
    "start_time": "2023-08-27T15:53:19.764Z"
   },
   {
    "duration": 0,
    "start_time": "2023-08-27T15:53:19.766Z"
   },
   {
    "duration": 0,
    "start_time": "2023-08-27T15:53:19.767Z"
   },
   {
    "duration": 0,
    "start_time": "2023-08-27T15:53:19.768Z"
   },
   {
    "duration": 0,
    "start_time": "2023-08-27T15:53:19.770Z"
   },
   {
    "duration": 8,
    "start_time": "2023-08-27T15:57:04.408Z"
   },
   {
    "duration": 3,
    "start_time": "2023-08-27T15:57:52.085Z"
   },
   {
    "duration": 188,
    "start_time": "2023-08-27T15:58:55.508Z"
   },
   {
    "duration": 2129,
    "start_time": "2023-08-27T15:59:14.187Z"
   },
   {
    "duration": 8,
    "start_time": "2023-08-27T16:05:08.823Z"
   },
   {
    "duration": 1226,
    "start_time": "2023-08-27T16:05:47.507Z"
   },
   {
    "duration": 1465,
    "start_time": "2023-08-27T16:06:01.352Z"
   },
   {
    "duration": 2326,
    "start_time": "2023-08-27T16:06:46.023Z"
   },
   {
    "duration": 1692,
    "start_time": "2023-08-27T16:08:51.527Z"
   },
   {
    "duration": 1977,
    "start_time": "2023-08-27T16:09:07.201Z"
   },
   {
    "duration": 1637,
    "start_time": "2023-08-27T16:09:41.370Z"
   },
   {
    "duration": 1884,
    "start_time": "2023-08-27T16:09:54.323Z"
   },
   {
    "duration": 1748,
    "start_time": "2023-08-27T16:10:20.595Z"
   },
   {
    "duration": 5,
    "start_time": "2023-08-27T16:11:26.103Z"
   },
   {
    "duration": 1599,
    "start_time": "2023-08-27T16:11:27.220Z"
   },
   {
    "duration": 1391,
    "start_time": "2023-08-27T16:11:42.528Z"
   },
   {
    "duration": 1609,
    "start_time": "2023-08-27T16:12:02.506Z"
   },
   {
    "duration": 786,
    "start_time": "2023-08-27T16:12:16.552Z"
   },
   {
    "duration": 6,
    "start_time": "2023-08-27T16:12:34.999Z"
   },
   {
    "duration": 1938,
    "start_time": "2023-08-27T16:12:35.806Z"
   },
   {
    "duration": 9,
    "start_time": "2023-08-27T16:14:28.881Z"
   },
   {
    "duration": 2261,
    "start_time": "2023-08-27T16:14:29.732Z"
   },
   {
    "duration": 2106,
    "start_time": "2023-08-27T16:14:44.085Z"
   },
   {
    "duration": 2263,
    "start_time": "2023-08-27T16:14:53.928Z"
   },
   {
    "duration": 2718,
    "start_time": "2023-08-27T16:15:08.887Z"
   },
   {
    "duration": 2879,
    "start_time": "2023-08-27T16:15:31.702Z"
   },
   {
    "duration": 360,
    "start_time": "2023-08-27T16:16:44.645Z"
   },
   {
    "duration": 8,
    "start_time": "2023-08-27T16:23:54.006Z"
   },
   {
    "duration": 15,
    "start_time": "2023-08-27T16:23:56.882Z"
   },
   {
    "duration": 15,
    "start_time": "2023-08-27T16:24:06.126Z"
   },
   {
    "duration": 20,
    "start_time": "2023-08-27T16:24:12.309Z"
   },
   {
    "duration": 4241,
    "start_time": "2023-08-27T16:24:17.085Z"
   },
   {
    "duration": 11,
    "start_time": "2023-08-27T16:45:57.380Z"
   },
   {
    "duration": 13,
    "start_time": "2023-08-27T16:45:59.607Z"
   },
   {
    "duration": 6,
    "start_time": "2023-08-27T16:48:47.115Z"
   },
   {
    "duration": 18,
    "start_time": "2023-08-27T16:48:48.279Z"
   },
   {
    "duration": 6,
    "start_time": "2023-08-27T16:48:54.583Z"
   },
   {
    "duration": 8,
    "start_time": "2023-08-27T16:49:08.925Z"
   },
   {
    "duration": 13,
    "start_time": "2023-08-27T16:49:51.261Z"
   },
   {
    "duration": 32,
    "start_time": "2023-08-27T16:50:37.070Z"
   },
   {
    "duration": 3,
    "start_time": "2023-08-27T16:51:24.622Z"
   },
   {
    "duration": 9,
    "start_time": "2023-08-27T16:51:33.689Z"
   },
   {
    "duration": 21,
    "start_time": "2023-08-27T16:51:48.580Z"
   },
   {
    "duration": 4,
    "start_time": "2023-08-27T16:51:55.339Z"
   },
   {
    "duration": 6,
    "start_time": "2023-08-27T16:52:27.316Z"
   },
   {
    "duration": 20001,
    "start_time": "2023-08-27T16:52:43.303Z"
   },
   {
    "duration": 47002,
    "start_time": "2023-08-27T16:53:30.905Z"
   },
   {
    "duration": 33144,
    "start_time": "2023-08-27T16:54:30.534Z"
   },
   {
    "duration": 48,
    "start_time": "2023-08-27T16:55:14.184Z"
   },
   {
    "duration": 83,
    "start_time": "2023-08-27T16:57:52.684Z"
   },
   {
    "duration": 5,
    "start_time": "2023-08-27T17:01:28.779Z"
   },
   {
    "duration": 12,
    "start_time": "2023-08-27T17:01:30.117Z"
   },
   {
    "duration": 26,
    "start_time": "2023-08-27T17:01:30.781Z"
   },
   {
    "duration": 8,
    "start_time": "2023-08-27T17:01:32.394Z"
   },
   {
    "duration": 6,
    "start_time": "2023-08-27T17:01:37.280Z"
   },
   {
    "duration": 10,
    "start_time": "2023-08-27T17:01:39.884Z"
   },
   {
    "duration": 6,
    "start_time": "2023-08-27T17:01:42.101Z"
   },
   {
    "duration": 5,
    "start_time": "2023-08-27T17:01:43.450Z"
   },
   {
    "duration": 7700,
    "start_time": "2023-08-27T17:01:44.946Z"
   },
   {
    "duration": 17951,
    "start_time": "2023-08-27T17:02:01.415Z"
   },
   {
    "duration": 5,
    "start_time": "2023-08-27T17:03:20.628Z"
   },
   {
    "duration": 12,
    "start_time": "2023-08-27T17:05:03.005Z"
   },
   {
    "duration": 10,
    "start_time": "2023-08-27T17:05:07.757Z"
   },
   {
    "duration": 148,
    "start_time": "2023-08-27T17:05:08.723Z"
   },
   {
    "duration": 3,
    "start_time": "2023-08-27T17:05:17.548Z"
   },
   {
    "duration": 6,
    "start_time": "2023-08-27T17:05:21.043Z"
   },
   {
    "duration": 5,
    "start_time": "2023-08-27T17:05:21.629Z"
   },
   {
    "duration": 10,
    "start_time": "2023-08-27T17:05:41.253Z"
   },
   {
    "duration": 38,
    "start_time": "2023-08-27T17:05:55.456Z"
   },
   {
    "duration": 13,
    "start_time": "2023-08-27T17:05:56.991Z"
   },
   {
    "duration": 10,
    "start_time": "2023-08-27T17:06:00.089Z"
   },
   {
    "duration": 9,
    "start_time": "2023-08-27T17:06:01.252Z"
   },
   {
    "duration": 8,
    "start_time": "2023-08-27T17:06:04.184Z"
   },
   {
    "duration": 4,
    "start_time": "2023-08-27T17:06:06.224Z"
   },
   {
    "duration": 21406,
    "start_time": "2023-08-27T17:06:07.885Z"
   },
   {
    "duration": 49424,
    "start_time": "2023-08-27T17:06:44.127Z"
   },
   {
    "duration": 31408,
    "start_time": "2023-08-27T17:07:44.538Z"
   },
   {
    "duration": 3,
    "start_time": "2023-08-27T17:08:34.221Z"
   },
   {
    "duration": 57,
    "start_time": "2023-08-27T17:08:35.722Z"
   },
   {
    "duration": 376,
    "start_time": "2023-08-27T17:12:14.782Z"
   },
   {
    "duration": 166,
    "start_time": "2023-08-27T17:15:30.586Z"
   },
   {
    "duration": 339,
    "start_time": "2023-08-27T17:15:37.592Z"
   },
   {
    "duration": 51,
    "start_time": "2023-08-27T17:17:00.556Z"
   },
   {
    "duration": 20,
    "start_time": "2023-08-27T17:23:11.346Z"
   },
   {
    "duration": 463,
    "start_time": "2023-08-27T17:23:45.741Z"
   },
   {
    "duration": 9,
    "start_time": "2023-08-27T17:25:05.019Z"
   },
   {
    "duration": 14,
    "start_time": "2023-08-27T17:37:40.700Z"
   },
   {
    "duration": 16,
    "start_time": "2023-08-27T17:39:09.545Z"
   },
   {
    "duration": 9,
    "start_time": "2023-08-27T17:44:03.334Z"
   },
   {
    "duration": 70,
    "start_time": "2023-08-27T18:22:49.200Z"
   },
   {
    "duration": 2270,
    "start_time": "2023-08-27T18:22:49.272Z"
   },
   {
    "duration": 1668,
    "start_time": "2023-08-27T18:22:51.546Z"
   },
   {
    "duration": 2,
    "start_time": "2023-08-27T18:22:53.216Z"
   },
   {
    "duration": 160,
    "start_time": "2023-08-27T18:22:53.220Z"
   },
   {
    "duration": 4,
    "start_time": "2023-08-27T18:22:53.386Z"
   },
   {
    "duration": 46,
    "start_time": "2023-08-27T18:22:53.392Z"
   },
   {
    "duration": 4,
    "start_time": "2023-08-27T18:22:53.440Z"
   },
   {
    "duration": 41,
    "start_time": "2023-08-27T18:22:53.446Z"
   },
   {
    "duration": 146,
    "start_time": "2023-08-27T18:22:53.492Z"
   },
   {
    "duration": 55,
    "start_time": "2023-08-27T18:22:53.640Z"
   },
   {
    "duration": 6,
    "start_time": "2023-08-27T18:22:53.697Z"
   },
   {
    "duration": 20,
    "start_time": "2023-08-27T18:22:53.704Z"
   },
   {
    "duration": 17,
    "start_time": "2023-08-27T18:22:53.726Z"
   },
   {
    "duration": 36,
    "start_time": "2023-08-27T18:22:53.745Z"
   },
   {
    "duration": 22,
    "start_time": "2023-08-27T18:22:53.784Z"
   },
   {
    "duration": 17,
    "start_time": "2023-08-27T18:22:53.808Z"
   },
   {
    "duration": 632,
    "start_time": "2023-08-27T18:22:53.827Z"
   },
   {
    "duration": 568,
    "start_time": "2023-08-27T18:22:54.465Z"
   },
   {
    "duration": 692,
    "start_time": "2023-08-27T18:22:55.036Z"
   },
   {
    "duration": 989,
    "start_time": "2023-08-27T18:22:55.730Z"
   },
   {
    "duration": 133,
    "start_time": "2023-08-27T18:22:56.721Z"
   },
   {
    "duration": 45,
    "start_time": "2023-08-27T18:22:56.855Z"
   },
   {
    "duration": 30,
    "start_time": "2023-08-27T18:22:56.902Z"
   },
   {
    "duration": 37,
    "start_time": "2023-08-27T18:22:56.934Z"
   },
   {
    "duration": 44,
    "start_time": "2023-08-27T18:22:56.973Z"
   },
   {
    "duration": 3,
    "start_time": "2023-08-27T18:22:57.020Z"
   },
   {
    "duration": 3,
    "start_time": "2023-08-27T18:22:57.029Z"
   },
   {
    "duration": 6,
    "start_time": "2023-08-27T18:22:57.034Z"
   },
   {
    "duration": 24,
    "start_time": "2023-08-27T18:22:57.060Z"
   },
   {
    "duration": 48,
    "start_time": "2023-08-27T18:22:57.085Z"
   },
   {
    "duration": 1156,
    "start_time": "2023-08-27T18:22:57.135Z"
   },
   {
    "duration": 3,
    "start_time": "2023-08-27T18:22:58.298Z"
   },
   {
    "duration": 8,
    "start_time": "2023-08-27T18:22:58.303Z"
   },
   {
    "duration": 2170,
    "start_time": "2023-08-27T18:22:58.313Z"
   },
   {
    "duration": 252,
    "start_time": "2023-08-27T18:23:00.485Z"
   },
   {
    "duration": 3,
    "start_time": "2023-08-27T18:23:00.739Z"
   },
   {
    "duration": 298,
    "start_time": "2023-08-27T18:23:00.755Z"
   },
   {
    "duration": 278,
    "start_time": "2023-08-27T18:23:01.055Z"
   },
   {
    "duration": 64,
    "start_time": "2023-08-27T18:23:01.336Z"
   },
   {
    "duration": 64,
    "start_time": "2023-08-27T18:23:01.403Z"
   },
   {
    "duration": 35,
    "start_time": "2023-08-27T18:23:01.469Z"
   },
   {
    "duration": 69,
    "start_time": "2023-08-27T18:23:01.506Z"
   },
   {
    "duration": 38,
    "start_time": "2023-08-27T18:23:01.589Z"
   },
   {
    "duration": 3745,
    "start_time": "2023-08-27T18:23:01.629Z"
   },
   {
    "duration": 15,
    "start_time": "2023-08-27T18:23:05.376Z"
   },
   {
    "duration": 12,
    "start_time": "2023-08-27T18:23:05.394Z"
   },
   {
    "duration": 33,
    "start_time": "2023-08-27T18:23:05.408Z"
   },
   {
    "duration": 18,
    "start_time": "2023-08-27T18:23:05.443Z"
   },
   {
    "duration": 40,
    "start_time": "2023-08-27T18:23:05.462Z"
   },
   {
    "duration": 20,
    "start_time": "2023-08-27T18:23:05.505Z"
   },
   {
    "duration": 18,
    "start_time": "2023-08-27T18:23:05.527Z"
   },
   {
    "duration": 17,
    "start_time": "2023-08-27T18:23:05.547Z"
   },
   {
    "duration": 13,
    "start_time": "2023-08-27T18:23:05.566Z"
   },
   {
    "duration": 14,
    "start_time": "2023-08-27T18:23:05.583Z"
   },
   {
    "duration": 10,
    "start_time": "2023-08-27T18:23:05.599Z"
   },
   {
    "duration": 15155,
    "start_time": "2023-08-27T18:23:05.611Z"
   },
   {
    "duration": 39910,
    "start_time": "2023-08-27T18:23:20.772Z"
   },
   {
    "duration": 29555,
    "start_time": "2023-08-27T18:24:00.686Z"
   },
   {
    "duration": 3,
    "start_time": "2023-08-27T18:24:30.243Z"
   },
   {
    "duration": 119,
    "start_time": "2023-08-27T18:24:30.247Z"
   },
   {
    "duration": 20,
    "start_time": "2023-08-27T18:24:30.375Z"
   },
   {
    "duration": 38,
    "start_time": "2023-08-27T18:24:30.397Z"
   },
   {
    "duration": 88,
    "start_time": "2023-08-29T02:27:10.691Z"
   },
   {
    "duration": 3477,
    "start_time": "2023-08-29T02:27:14.716Z"
   },
   {
    "duration": 1820,
    "start_time": "2023-08-29T02:27:21.223Z"
   },
   {
    "duration": 3,
    "start_time": "2023-08-29T02:27:25.380Z"
   },
   {
    "duration": 368,
    "start_time": "2023-08-29T02:27:33.756Z"
   },
   {
    "duration": 3,
    "start_time": "2023-08-29T02:27:38.476Z"
   },
   {
    "duration": 40,
    "start_time": "2023-08-29T02:27:40.327Z"
   },
   {
    "duration": 5,
    "start_time": "2023-08-29T02:27:41.633Z"
   },
   {
    "duration": 3,
    "start_time": "2023-08-29T02:27:42.552Z"
   },
   {
    "duration": 174,
    "start_time": "2023-08-29T02:27:43.090Z"
   },
   {
    "duration": 17,
    "start_time": "2023-08-29T02:27:44.504Z"
   },
   {
    "duration": 5,
    "start_time": "2023-08-29T02:27:54.182Z"
   },
   {
    "duration": 17,
    "start_time": "2023-08-29T02:27:57.234Z"
   },
   {
    "duration": 22,
    "start_time": "2023-08-29T02:27:57.825Z"
   },
   {
    "duration": 25,
    "start_time": "2023-08-29T02:27:59.473Z"
   },
   {
    "duration": 22,
    "start_time": "2023-08-29T02:28:00.772Z"
   },
   {
    "duration": 19,
    "start_time": "2023-08-29T02:28:02.634Z"
   },
   {
    "duration": 673,
    "start_time": "2023-08-29T02:28:05.612Z"
   },
   {
    "duration": 387,
    "start_time": "2023-08-29T02:28:07.410Z"
   },
   {
    "duration": 699,
    "start_time": "2023-08-29T02:28:09.413Z"
   },
   {
    "duration": 978,
    "start_time": "2023-08-29T02:28:10.771Z"
   },
   {
    "duration": 123,
    "start_time": "2023-08-29T02:28:12.019Z"
   },
   {
    "duration": 41,
    "start_time": "2023-08-29T02:28:18.327Z"
   },
   {
    "duration": 24,
    "start_time": "2023-08-29T02:28:18.987Z"
   },
   {
    "duration": 26,
    "start_time": "2023-08-29T02:28:20.201Z"
   },
   {
    "duration": 35,
    "start_time": "2023-08-29T02:28:21.773Z"
   },
   {
    "duration": 3,
    "start_time": "2023-08-29T02:28:22.851Z"
   },
   {
    "duration": 3,
    "start_time": "2023-08-29T02:28:23.357Z"
   },
   {
    "duration": 16,
    "start_time": "2023-08-29T02:28:26.292Z"
   },
   {
    "duration": 22,
    "start_time": "2023-08-29T02:28:30.245Z"
   },
   {
    "duration": 36,
    "start_time": "2023-08-29T02:29:24.522Z"
   },
   {
    "duration": 1051,
    "start_time": "2023-08-29T02:29:25.750Z"
   },
   {
    "duration": 3,
    "start_time": "2023-08-29T02:29:31.222Z"
   },
   {
    "duration": 3,
    "start_time": "2023-08-29T02:29:31.825Z"
   },
   {
    "duration": 2091,
    "start_time": "2023-08-29T02:29:32.483Z"
   },
   {
    "duration": 319,
    "start_time": "2023-08-29T02:29:34.577Z"
   },
   {
    "duration": 3,
    "start_time": "2023-08-29T02:30:03.591Z"
   },
   {
    "duration": 5,
    "start_time": "2023-08-29T02:30:05.568Z"
   },
   {
    "duration": 7,
    "start_time": "2023-08-29T02:30:07.305Z"
   },
   {
    "duration": 4,
    "start_time": "2023-08-29T02:30:11.027Z"
   },
   {
    "duration": 2,
    "start_time": "2023-08-29T02:30:11.407Z"
   },
   {
    "duration": 3,
    "start_time": "2023-08-29T02:30:11.649Z"
   },
   {
    "duration": 16,
    "start_time": "2023-08-29T02:30:11.891Z"
   },
   {
    "duration": 18,
    "start_time": "2023-08-29T02:30:13.301Z"
   },
   {
    "duration": 3773,
    "start_time": "2023-08-29T02:30:14.673Z"
   },
   {
    "duration": 2,
    "start_time": "2023-08-29T02:30:18.449Z"
   },
   {
    "duration": 9,
    "start_time": "2023-08-29T02:30:20.965Z"
   },
   {
    "duration": 3,
    "start_time": "2023-08-29T02:30:21.618Z"
   },
   {
    "duration": 4,
    "start_time": "2023-08-29T02:30:22.729Z"
   },
   {
    "duration": 4,
    "start_time": "2023-08-29T02:30:27.779Z"
   },
   {
    "duration": 9,
    "start_time": "2023-08-29T02:30:28.434Z"
   },
   {
    "duration": 4,
    "start_time": "2023-08-29T02:30:33.315Z"
   },
   {
    "duration": 4,
    "start_time": "2023-08-29T02:30:56.948Z"
   },
   {
    "duration": 5,
    "start_time": "2023-08-29T02:31:20.450Z"
   },
   {
    "duration": 5,
    "start_time": "2023-08-29T02:31:33.842Z"
   },
   {
    "duration": 118,
    "start_time": "2023-08-29T02:32:11.630Z"
   },
   {
    "duration": 4,
    "start_time": "2023-08-29T02:32:19.073Z"
   },
   {
    "duration": 14099,
    "start_time": "2023-08-29T02:32:20.407Z"
   },
   {
    "duration": 38229,
    "start_time": "2023-08-29T02:32:47.472Z"
   },
   {
    "duration": 31334,
    "start_time": "2023-08-29T02:33:46.336Z"
   },
   {
    "duration": 31,
    "start_time": "2023-08-29T02:35:01.417Z"
   },
   {
    "duration": 9,
    "start_time": "2023-08-29T02:35:07.973Z"
   },
   {
    "duration": 9,
    "start_time": "2023-08-29T02:35:18.137Z"
   },
   {
    "duration": 46,
    "start_time": "2023-08-29T18:41:54.714Z"
   },
   {
    "duration": 60,
    "start_time": "2023-08-29T18:42:26.981Z"
   },
   {
    "duration": 3072,
    "start_time": "2023-08-29T18:42:27.043Z"
   },
   {
    "duration": 1641,
    "start_time": "2023-08-29T18:42:30.117Z"
   },
   {
    "duration": 3,
    "start_time": "2023-08-29T18:42:31.760Z"
   },
   {
    "duration": 508,
    "start_time": "2023-08-29T18:42:31.764Z"
   },
   {
    "duration": 3,
    "start_time": "2023-08-29T18:42:32.274Z"
   },
   {
    "duration": 41,
    "start_time": "2023-08-29T18:42:32.278Z"
   },
   {
    "duration": 4,
    "start_time": "2023-08-29T18:42:32.321Z"
   },
   {
    "duration": 33,
    "start_time": "2023-08-29T18:42:32.327Z"
   },
   {
    "duration": 182,
    "start_time": "2023-08-29T18:42:32.364Z"
   },
   {
    "duration": 17,
    "start_time": "2023-08-29T18:42:32.548Z"
   },
   {
    "duration": 6,
    "start_time": "2023-08-29T18:42:32.567Z"
   },
   {
    "duration": 20,
    "start_time": "2023-08-29T18:42:32.574Z"
   },
   {
    "duration": 15,
    "start_time": "2023-08-29T18:42:32.624Z"
   },
   {
    "duration": 23,
    "start_time": "2023-08-29T18:42:32.641Z"
   },
   {
    "duration": 20,
    "start_time": "2023-08-29T18:42:32.666Z"
   },
   {
    "duration": 28,
    "start_time": "2023-08-29T18:42:32.688Z"
   },
   {
    "duration": 549,
    "start_time": "2023-08-29T18:42:32.717Z"
   },
   {
    "duration": 432,
    "start_time": "2023-08-29T18:42:33.268Z"
   },
   {
    "duration": 624,
    "start_time": "2023-08-29T18:42:33.701Z"
   },
   {
    "duration": 840,
    "start_time": "2023-08-29T18:42:34.327Z"
   },
   {
    "duration": 111,
    "start_time": "2023-08-29T18:42:35.168Z"
   },
   {
    "duration": 44,
    "start_time": "2023-08-29T18:42:35.280Z"
   },
   {
    "duration": 21,
    "start_time": "2023-08-29T18:42:35.325Z"
   },
   {
    "duration": 15,
    "start_time": "2023-08-29T18:42:35.348Z"
   },
   {
    "duration": 26,
    "start_time": "2023-08-29T18:42:35.364Z"
   },
   {
    "duration": 2,
    "start_time": "2023-08-29T18:42:35.391Z"
   },
   {
    "duration": 2,
    "start_time": "2023-08-29T18:42:35.424Z"
   },
   {
    "duration": 6,
    "start_time": "2023-08-29T18:42:35.427Z"
   },
   {
    "duration": 27,
    "start_time": "2023-08-29T18:42:35.434Z"
   },
   {
    "duration": 24,
    "start_time": "2023-08-29T18:42:35.462Z"
   },
   {
    "duration": 1014,
    "start_time": "2023-08-29T18:42:35.488Z"
   },
   {
    "duration": 3,
    "start_time": "2023-08-29T18:42:36.504Z"
   },
   {
    "duration": 15,
    "start_time": "2023-08-29T18:42:36.508Z"
   },
   {
    "duration": 1907,
    "start_time": "2023-08-29T18:42:36.524Z"
   },
   {
    "duration": 224,
    "start_time": "2023-08-29T18:42:38.433Z"
   },
   {
    "duration": 3,
    "start_time": "2023-08-29T18:42:38.658Z"
   },
   {
    "duration": 26,
    "start_time": "2023-08-29T18:42:38.662Z"
   },
   {
    "duration": 31,
    "start_time": "2023-08-29T18:42:38.689Z"
   },
   {
    "duration": 18,
    "start_time": "2023-08-29T18:42:38.722Z"
   },
   {
    "duration": 27,
    "start_time": "2023-08-29T18:42:38.742Z"
   },
   {
    "duration": 14,
    "start_time": "2023-08-29T18:42:38.771Z"
   },
   {
    "duration": 31,
    "start_time": "2023-08-29T18:42:38.786Z"
   },
   {
    "duration": 31,
    "start_time": "2023-08-29T18:42:38.819Z"
   },
   {
    "duration": 3438,
    "start_time": "2023-08-29T18:42:38.852Z"
   },
   {
    "duration": 3,
    "start_time": "2023-08-29T18:42:42.292Z"
   },
   {
    "duration": 10,
    "start_time": "2023-08-29T18:42:42.296Z"
   },
   {
    "duration": 18,
    "start_time": "2023-08-29T18:42:42.307Z"
   },
   {
    "duration": 31,
    "start_time": "2023-08-29T18:42:42.327Z"
   },
   {
    "duration": 20,
    "start_time": "2023-08-29T18:42:42.360Z"
   },
   {
    "duration": 19,
    "start_time": "2023-08-29T18:42:42.382Z"
   },
   {
    "duration": 77,
    "start_time": "2023-08-29T18:42:42.403Z"
   },
   {
    "duration": 0,
    "start_time": "2023-08-29T18:42:42.482Z"
   },
   {
    "duration": 0,
    "start_time": "2023-08-29T18:42:42.484Z"
   },
   {
    "duration": 0,
    "start_time": "2023-08-29T18:42:42.486Z"
   },
   {
    "duration": 0,
    "start_time": "2023-08-29T18:42:42.488Z"
   },
   {
    "duration": 0,
    "start_time": "2023-08-29T18:42:42.489Z"
   },
   {
    "duration": 0,
    "start_time": "2023-08-29T18:42:42.491Z"
   },
   {
    "duration": 0,
    "start_time": "2023-08-29T18:42:42.493Z"
   },
   {
    "duration": 0,
    "start_time": "2023-08-29T18:42:42.495Z"
   },
   {
    "duration": 0,
    "start_time": "2023-08-29T18:42:42.497Z"
   },
   {
    "duration": 0,
    "start_time": "2023-08-29T18:42:42.498Z"
   },
   {
    "duration": 0,
    "start_time": "2023-08-29T18:42:42.500Z"
   },
   {
    "duration": 0,
    "start_time": "2023-08-29T18:42:42.501Z"
   },
   {
    "duration": 4,
    "start_time": "2023-08-29T18:45:28.893Z"
   },
   {
    "duration": 4,
    "start_time": "2023-08-29T18:45:33.435Z"
   },
   {
    "duration": 4,
    "start_time": "2023-08-29T18:45:34.346Z"
   },
   {
    "duration": 4,
    "start_time": "2023-08-29T18:45:36.002Z"
   },
   {
    "duration": 3,
    "start_time": "2023-08-29T18:45:36.446Z"
   },
   {
    "duration": 304,
    "start_time": "2023-08-29T18:45:36.935Z"
   },
   {
    "duration": 3,
    "start_time": "2023-08-29T18:50:27.470Z"
   },
   {
    "duration": 190,
    "start_time": "2023-08-29T18:50:32.369Z"
   },
   {
    "duration": 4,
    "start_time": "2023-08-29T18:50:39.173Z"
   },
   {
    "duration": 4,
    "start_time": "2023-08-29T18:50:42.341Z"
   },
   {
    "duration": 3,
    "start_time": "2023-08-29T18:50:43.779Z"
   },
   {
    "duration": 4,
    "start_time": "2023-08-29T18:50:45.842Z"
   },
   {
    "duration": 3,
    "start_time": "2023-08-29T18:50:46.735Z"
   },
   {
    "duration": 12659,
    "start_time": "2023-08-29T18:50:47.775Z"
   },
   {
    "duration": 35537,
    "start_time": "2023-08-29T18:51:29.514Z"
   },
   {
    "duration": 27667,
    "start_time": "2023-08-29T18:52:21.680Z"
   },
   {
    "duration": 2,
    "start_time": "2023-08-29T18:53:03.782Z"
   },
   {
    "duration": 28,
    "start_time": "2023-08-29T18:53:05.310Z"
   },
   {
    "duration": 9,
    "start_time": "2023-08-29T18:53:11.265Z"
   },
   {
    "duration": 9,
    "start_time": "2023-08-29T18:53:21.504Z"
   },
   {
    "duration": 7,
    "start_time": "2023-08-29T18:53:30.877Z"
   },
   {
    "duration": 6,
    "start_time": "2023-08-29T18:53:48.790Z"
   },
   {
    "duration": 7,
    "start_time": "2023-08-29T18:54:10.206Z"
   },
   {
    "duration": 9,
    "start_time": "2023-08-29T18:54:29.727Z"
   },
   {
    "duration": 16,
    "start_time": "2023-08-29T18:55:25.020Z"
   },
   {
    "duration": 6,
    "start_time": "2023-08-29T19:00:42.461Z"
   },
   {
    "duration": 16,
    "start_time": "2023-08-29T19:02:10.341Z"
   },
   {
    "duration": 6,
    "start_time": "2023-08-29T19:04:23.970Z"
   },
   {
    "duration": 19,
    "start_time": "2023-08-29T19:10:53.642Z"
   },
   {
    "duration": 74,
    "start_time": "2023-08-29T19:11:03.261Z"
   },
   {
    "duration": 101,
    "start_time": "2023-08-29T19:11:14.160Z"
   },
   {
    "duration": 15,
    "start_time": "2023-08-29T19:12:20.779Z"
   },
   {
    "duration": 23,
    "start_time": "2023-08-29T19:12:38.932Z"
   },
   {
    "duration": 24,
    "start_time": "2023-08-29T19:14:30.522Z"
   },
   {
    "duration": 13,
    "start_time": "2023-08-29T19:15:30.184Z"
   },
   {
    "duration": 7,
    "start_time": "2023-08-29T19:18:32.773Z"
   },
   {
    "duration": 6,
    "start_time": "2023-08-29T19:19:14.011Z"
   },
   {
    "duration": 350,
    "start_time": "2023-08-29T19:19:26.401Z"
   },
   {
    "duration": 389,
    "start_time": "2023-08-29T19:19:38.742Z"
   },
   {
    "duration": 162,
    "start_time": "2023-08-29T19:20:35.479Z"
   },
   {
    "duration": 428,
    "start_time": "2023-08-29T19:20:51.519Z"
   },
   {
    "duration": 481,
    "start_time": "2023-08-29T19:21:15.654Z"
   },
   {
    "duration": 6,
    "start_time": "2023-08-29T19:29:01.049Z"
   },
   {
    "duration": 12,
    "start_time": "2023-08-29T19:29:01.854Z"
   },
   {
    "duration": 11,
    "start_time": "2023-08-29T19:29:02.700Z"
   },
   {
    "duration": 11,
    "start_time": "2023-08-29T19:29:03.283Z"
   },
   {
    "duration": 9,
    "start_time": "2023-08-29T19:29:04.918Z"
   },
   {
    "duration": 15,
    "start_time": "2023-08-29T19:29:06.291Z"
   },
   {
    "duration": 10,
    "start_time": "2023-08-29T19:29:07.891Z"
   },
   {
    "duration": 8,
    "start_time": "2023-08-29T19:29:23.588Z"
   },
   {
    "duration": 7,
    "start_time": "2023-08-29T19:29:24.349Z"
   },
   {
    "duration": 459,
    "start_time": "2023-08-29T19:29:25.148Z"
   },
   {
    "duration": 55,
    "start_time": "2023-08-29T19:33:23.235Z"
   },
   {
    "duration": 2240,
    "start_time": "2023-08-29T19:33:23.292Z"
   },
   {
    "duration": 1533,
    "start_time": "2023-08-29T19:33:25.534Z"
   },
   {
    "duration": 3,
    "start_time": "2023-08-29T19:33:27.069Z"
   },
   {
    "duration": 115,
    "start_time": "2023-08-29T19:33:27.074Z"
   },
   {
    "duration": 3,
    "start_time": "2023-08-29T19:33:27.191Z"
   },
   {
    "duration": 47,
    "start_time": "2023-08-29T19:33:27.196Z"
   },
   {
    "duration": 4,
    "start_time": "2023-08-29T19:33:27.244Z"
   },
   {
    "duration": 12,
    "start_time": "2023-08-29T19:33:27.249Z"
   },
   {
    "duration": 126,
    "start_time": "2023-08-29T19:33:27.263Z"
   },
   {
    "duration": 38,
    "start_time": "2023-08-29T19:33:27.391Z"
   },
   {
    "duration": 7,
    "start_time": "2023-08-29T19:33:27.430Z"
   },
   {
    "duration": 17,
    "start_time": "2023-08-29T19:33:27.438Z"
   },
   {
    "duration": 16,
    "start_time": "2023-08-29T19:33:27.456Z"
   },
   {
    "duration": 19,
    "start_time": "2023-08-29T19:33:27.474Z"
   },
   {
    "duration": 48,
    "start_time": "2023-08-29T19:33:27.495Z"
   },
   {
    "duration": 16,
    "start_time": "2023-08-29T19:33:27.545Z"
   },
   {
    "duration": 586,
    "start_time": "2023-08-29T19:33:27.563Z"
   },
   {
    "duration": 449,
    "start_time": "2023-08-29T19:33:28.151Z"
   },
   {
    "duration": 673,
    "start_time": "2023-08-29T19:33:28.602Z"
   },
   {
    "duration": 907,
    "start_time": "2023-08-29T19:33:29.284Z"
   },
   {
    "duration": 141,
    "start_time": "2023-08-29T19:33:30.193Z"
   },
   {
    "duration": 40,
    "start_time": "2023-08-29T19:33:30.339Z"
   },
   {
    "duration": 56,
    "start_time": "2023-08-29T19:33:30.381Z"
   },
   {
    "duration": 43,
    "start_time": "2023-08-29T19:33:30.443Z"
   },
   {
    "duration": 58,
    "start_time": "2023-08-29T19:33:30.488Z"
   },
   {
    "duration": 52,
    "start_time": "2023-08-29T19:33:30.548Z"
   },
   {
    "duration": 60,
    "start_time": "2023-08-29T19:33:30.606Z"
   },
   {
    "duration": 34,
    "start_time": "2023-08-29T19:33:30.668Z"
   },
   {
    "duration": 44,
    "start_time": "2023-08-29T19:33:30.704Z"
   },
   {
    "duration": 37,
    "start_time": "2023-08-29T19:33:30.750Z"
   },
   {
    "duration": 1034,
    "start_time": "2023-08-29T19:33:30.789Z"
   },
   {
    "duration": 7,
    "start_time": "2023-08-29T19:33:31.834Z"
   },
   {
    "duration": 12,
    "start_time": "2023-08-29T19:33:31.842Z"
   },
   {
    "duration": 1967,
    "start_time": "2023-08-29T19:33:31.855Z"
   },
   {
    "duration": 230,
    "start_time": "2023-08-29T19:33:33.830Z"
   },
   {
    "duration": 3,
    "start_time": "2023-08-29T19:33:34.061Z"
   },
   {
    "duration": 12,
    "start_time": "2023-08-29T19:33:34.065Z"
   },
   {
    "duration": 6,
    "start_time": "2023-08-29T19:33:34.078Z"
   },
   {
    "duration": 4,
    "start_time": "2023-08-29T19:33:34.086Z"
   },
   {
    "duration": 6,
    "start_time": "2023-08-29T19:33:34.091Z"
   },
   {
    "duration": 5,
    "start_time": "2023-08-29T19:33:34.098Z"
   },
   {
    "duration": 32,
    "start_time": "2023-08-29T19:33:34.104Z"
   },
   {
    "duration": 18,
    "start_time": "2023-08-29T19:33:34.140Z"
   },
   {
    "duration": 3491,
    "start_time": "2023-08-29T19:33:34.160Z"
   },
   {
    "duration": 3,
    "start_time": "2023-08-29T19:33:37.653Z"
   },
   {
    "duration": 9,
    "start_time": "2023-08-29T19:33:37.658Z"
   },
   {
    "duration": 3,
    "start_time": "2023-08-29T19:33:37.669Z"
   },
   {
    "duration": 5,
    "start_time": "2023-08-29T19:33:37.673Z"
   },
   {
    "duration": 6,
    "start_time": "2023-08-29T19:33:37.680Z"
   },
   {
    "duration": 48,
    "start_time": "2023-08-29T19:33:37.687Z"
   },
   {
    "duration": 4,
    "start_time": "2023-08-29T19:33:37.740Z"
   },
   {
    "duration": 4,
    "start_time": "2023-08-29T19:33:37.745Z"
   },
   {
    "duration": 5,
    "start_time": "2023-08-29T19:33:37.750Z"
   },
   {
    "duration": 4,
    "start_time": "2023-08-29T19:33:37.757Z"
   },
   {
    "duration": 5,
    "start_time": "2023-08-29T19:33:37.763Z"
   },
   {
    "duration": 23463,
    "start_time": "2023-08-29T19:33:37.770Z"
   },
   {
    "duration": 37908,
    "start_time": "2023-08-29T19:34:01.240Z"
   },
   {
    "duration": 29530,
    "start_time": "2023-08-29T19:34:39.150Z"
   },
   {
    "duration": 3,
    "start_time": "2023-08-29T19:35:08.682Z"
   },
   {
    "duration": 62,
    "start_time": "2023-08-29T19:35:08.686Z"
   },
   {
    "duration": 8,
    "start_time": "2023-08-29T19:35:08.750Z"
   },
   {
    "duration": 27,
    "start_time": "2023-08-29T19:35:08.759Z"
   },
   {
    "duration": 45,
    "start_time": "2023-08-29T19:35:08.788Z"
   },
   {
    "duration": 34,
    "start_time": "2023-08-29T19:35:08.834Z"
   },
   {
    "duration": 38,
    "start_time": "2023-08-29T19:35:08.870Z"
   },
   {
    "duration": 38,
    "start_time": "2023-08-29T19:35:08.910Z"
   },
   {
    "duration": 30,
    "start_time": "2023-08-29T19:35:08.949Z"
   },
   {
    "duration": 33,
    "start_time": "2023-08-29T19:35:08.981Z"
   },
   {
    "duration": 25,
    "start_time": "2023-08-29T19:35:09.016Z"
   },
   {
    "duration": 25,
    "start_time": "2023-08-29T19:35:09.043Z"
   },
   {
    "duration": 43,
    "start_time": "2023-08-29T19:35:09.070Z"
   },
   {
    "duration": 394,
    "start_time": "2023-08-29T19:35:09.115Z"
   },
   {
    "duration": 63,
    "start_time": "2023-08-30T02:54:34.336Z"
   },
   {
    "duration": 3945,
    "start_time": "2023-08-30T02:54:34.401Z"
   },
   {
    "duration": 2219,
    "start_time": "2023-08-30T02:54:38.348Z"
   },
   {
    "duration": 4,
    "start_time": "2023-08-30T02:54:40.570Z"
   },
   {
    "duration": 495,
    "start_time": "2023-08-30T02:54:40.576Z"
   },
   {
    "duration": 3,
    "start_time": "2023-08-30T02:54:41.073Z"
   },
   {
    "duration": 72,
    "start_time": "2023-08-30T02:54:41.078Z"
   },
   {
    "duration": 4,
    "start_time": "2023-08-30T02:54:41.152Z"
   },
   {
    "duration": 7,
    "start_time": "2023-08-30T02:54:41.158Z"
   },
   {
    "duration": 185,
    "start_time": "2023-08-30T02:54:41.169Z"
   },
   {
    "duration": 17,
    "start_time": "2023-08-30T02:54:41.356Z"
   },
   {
    "duration": 16,
    "start_time": "2023-08-30T02:54:41.375Z"
   },
   {
    "duration": 47,
    "start_time": "2023-08-30T02:54:41.393Z"
   },
   {
    "duration": 23,
    "start_time": "2023-08-30T02:54:41.442Z"
   },
   {
    "duration": 22,
    "start_time": "2023-08-30T02:54:41.467Z"
   },
   {
    "duration": 51,
    "start_time": "2023-08-30T02:54:41.491Z"
   },
   {
    "duration": 47,
    "start_time": "2023-08-30T02:54:41.544Z"
   },
   {
    "duration": 785,
    "start_time": "2023-08-30T02:54:41.593Z"
   },
   {
    "duration": 476,
    "start_time": "2023-08-30T02:54:42.380Z"
   },
   {
    "duration": 737,
    "start_time": "2023-08-30T02:54:42.858Z"
   },
   {
    "duration": 1132,
    "start_time": "2023-08-30T02:54:43.597Z"
   },
   {
    "duration": 169,
    "start_time": "2023-08-30T02:54:44.731Z"
   },
   {
    "duration": 44,
    "start_time": "2023-08-30T02:54:44.902Z"
   },
   {
    "duration": 33,
    "start_time": "2023-08-30T02:54:44.949Z"
   },
   {
    "duration": 48,
    "start_time": "2023-08-30T02:54:44.985Z"
   },
   {
    "duration": 112,
    "start_time": "2023-08-30T02:54:45.042Z"
   },
   {
    "duration": 130,
    "start_time": "2023-08-30T02:54:45.156Z"
   },
   {
    "duration": 8,
    "start_time": "2023-08-30T02:54:45.290Z"
   },
   {
    "duration": 26,
    "start_time": "2023-08-30T02:54:45.300Z"
   },
   {
    "duration": 42,
    "start_time": "2023-08-30T02:54:45.328Z"
   },
   {
    "duration": 25,
    "start_time": "2023-08-30T02:54:45.372Z"
   },
   {
    "duration": 1246,
    "start_time": "2023-08-30T02:54:45.399Z"
   },
   {
    "duration": 4,
    "start_time": "2023-08-30T02:54:46.647Z"
   },
   {
    "duration": 5,
    "start_time": "2023-08-30T02:54:46.653Z"
   },
   {
    "duration": 2367,
    "start_time": "2023-08-30T02:54:46.659Z"
   },
   {
    "duration": 259,
    "start_time": "2023-08-30T02:54:49.028Z"
   },
   {
    "duration": 3,
    "start_time": "2023-08-30T02:54:49.289Z"
   },
   {
    "duration": 36,
    "start_time": "2023-08-30T02:54:49.294Z"
   },
   {
    "duration": 8,
    "start_time": "2023-08-30T02:54:49.332Z"
   },
   {
    "duration": 3,
    "start_time": "2023-08-30T02:54:49.342Z"
   },
   {
    "duration": 4,
    "start_time": "2023-08-30T02:54:49.347Z"
   },
   {
    "duration": 9,
    "start_time": "2023-08-30T02:54:49.353Z"
   },
   {
    "duration": 23,
    "start_time": "2023-08-30T02:54:49.364Z"
   },
   {
    "duration": 46,
    "start_time": "2023-08-30T02:54:49.389Z"
   },
   {
    "duration": 4211,
    "start_time": "2023-08-30T02:54:49.436Z"
   },
   {
    "duration": 3,
    "start_time": "2023-08-30T02:54:53.649Z"
   },
   {
    "duration": 62,
    "start_time": "2023-08-30T02:54:53.654Z"
   },
   {
    "duration": 20,
    "start_time": "2023-08-30T02:54:53.718Z"
   },
   {
    "duration": 51,
    "start_time": "2023-08-30T02:54:53.740Z"
   },
   {
    "duration": 38,
    "start_time": "2023-08-30T02:54:53.793Z"
   },
   {
    "duration": 80,
    "start_time": "2023-08-30T02:54:53.833Z"
   },
   {
    "duration": 40,
    "start_time": "2023-08-30T02:54:53.914Z"
   },
   {
    "duration": 44,
    "start_time": "2023-08-30T02:54:53.956Z"
   },
   {
    "duration": 14,
    "start_time": "2023-08-30T02:54:54.011Z"
   },
   {
    "duration": 33,
    "start_time": "2023-08-30T02:54:54.027Z"
   },
   {
    "duration": 46,
    "start_time": "2023-08-30T02:54:54.062Z"
   },
   {
    "duration": 33397,
    "start_time": "2023-08-30T02:54:54.116Z"
   },
   {
    "duration": 45769,
    "start_time": "2023-08-30T02:55:27.519Z"
   },
   {
    "duration": 37746,
    "start_time": "2023-08-30T02:56:13.290Z"
   },
   {
    "duration": 5,
    "start_time": "2023-08-30T02:56:51.045Z"
   },
   {
    "duration": 68,
    "start_time": "2023-08-30T02:56:51.052Z"
   },
   {
    "duration": 14,
    "start_time": "2023-08-30T02:56:51.138Z"
   },
   {
    "duration": 14,
    "start_time": "2023-08-30T02:56:51.155Z"
   },
   {
    "duration": 26,
    "start_time": "2023-08-30T02:56:51.172Z"
   },
   {
    "duration": 43,
    "start_time": "2023-08-30T02:56:51.206Z"
   },
   {
    "duration": 17,
    "start_time": "2023-08-30T02:56:51.253Z"
   },
   {
    "duration": 27,
    "start_time": "2023-08-30T02:56:51.272Z"
   },
   {
    "duration": 28,
    "start_time": "2023-08-30T02:56:51.309Z"
   },
   {
    "duration": 214,
    "start_time": "2023-08-30T02:56:51.339Z"
   },
   {
    "duration": 0,
    "start_time": "2023-08-30T02:56:51.556Z"
   },
   {
    "duration": 0,
    "start_time": "2023-08-30T02:56:51.558Z"
   },
   {
    "duration": 0,
    "start_time": "2023-08-30T02:56:51.559Z"
   },
   {
    "duration": 0,
    "start_time": "2023-08-30T02:56:51.561Z"
   },
   {
    "duration": 18,
    "start_time": "2023-08-30T02:58:56.246Z"
   },
   {
    "duration": 7,
    "start_time": "2023-08-30T02:59:34.643Z"
   },
   {
    "duration": 29,
    "start_time": "2023-08-30T02:59:35.595Z"
   },
   {
    "duration": 32,
    "start_time": "2023-08-30T02:59:36.887Z"
   },
   {
    "duration": 12,
    "start_time": "2023-08-30T02:59:38.441Z"
   },
   {
    "duration": 7,
    "start_time": "2023-08-30T02:59:40.744Z"
   },
   {
    "duration": 20,
    "start_time": "2023-08-30T02:59:42.866Z"
   },
   {
    "duration": 110,
    "start_time": "2023-08-30T02:59:54.922Z"
   },
   {
    "duration": 3000,
    "start_time": "2023-08-30T02:59:55.043Z"
   },
   {
    "duration": 1867,
    "start_time": "2023-08-30T02:59:58.046Z"
   },
   {
    "duration": 11,
    "start_time": "2023-08-30T02:59:59.926Z"
   },
   {
    "duration": 141,
    "start_time": "2023-08-30T02:59:59.945Z"
   },
   {
    "duration": 6,
    "start_time": "2023-08-30T03:00:00.088Z"
   },
   {
    "duration": 81,
    "start_time": "2023-08-30T03:00:00.096Z"
   },
   {
    "duration": 4,
    "start_time": "2023-08-30T03:00:00.179Z"
   },
   {
    "duration": 43,
    "start_time": "2023-08-30T03:00:00.185Z"
   },
   {
    "duration": 228,
    "start_time": "2023-08-30T03:00:00.233Z"
   },
   {
    "duration": 16,
    "start_time": "2023-08-30T03:00:00.462Z"
   },
   {
    "duration": 76,
    "start_time": "2023-08-30T03:00:00.480Z"
   },
   {
    "duration": 93,
    "start_time": "2023-08-30T03:00:00.558Z"
   },
   {
    "duration": 39,
    "start_time": "2023-08-30T03:00:00.655Z"
   },
   {
    "duration": 153,
    "start_time": "2023-08-30T03:00:00.696Z"
   },
   {
    "duration": 90,
    "start_time": "2023-08-30T03:00:00.851Z"
   },
   {
    "duration": 53,
    "start_time": "2023-08-30T03:00:00.943Z"
   },
   {
    "duration": 883,
    "start_time": "2023-08-30T03:00:00.998Z"
   },
   {
    "duration": 685,
    "start_time": "2023-08-30T03:00:01.883Z"
   },
   {
    "duration": 874,
    "start_time": "2023-08-30T03:00:02.571Z"
   },
   {
    "duration": 1443,
    "start_time": "2023-08-30T03:00:03.448Z"
   },
   {
    "duration": 190,
    "start_time": "2023-08-30T03:00:04.893Z"
   },
   {
    "duration": 55,
    "start_time": "2023-08-30T03:00:05.085Z"
   },
   {
    "duration": 50,
    "start_time": "2023-08-30T03:00:05.145Z"
   },
   {
    "duration": 58,
    "start_time": "2023-08-30T03:00:05.197Z"
   },
   {
    "duration": 90,
    "start_time": "2023-08-30T03:00:05.258Z"
   },
   {
    "duration": 3,
    "start_time": "2023-08-30T03:00:05.350Z"
   },
   {
    "duration": 43,
    "start_time": "2023-08-30T03:00:05.356Z"
   },
   {
    "duration": 61,
    "start_time": "2023-08-30T03:00:05.414Z"
   },
   {
    "duration": 77,
    "start_time": "2023-08-30T03:00:05.477Z"
   },
   {
    "duration": 81,
    "start_time": "2023-08-30T03:00:05.556Z"
   },
   {
    "duration": 1420,
    "start_time": "2023-08-30T03:00:05.642Z"
   },
   {
    "duration": 3,
    "start_time": "2023-08-30T03:00:07.064Z"
   },
   {
    "duration": 164,
    "start_time": "2023-08-30T03:00:07.069Z"
   },
   {
    "duration": 2639,
    "start_time": "2023-08-30T03:00:07.235Z"
   },
   {
    "duration": 381,
    "start_time": "2023-08-30T03:00:09.877Z"
   },
   {
    "duration": 3,
    "start_time": "2023-08-30T03:00:10.260Z"
   },
   {
    "duration": 6,
    "start_time": "2023-08-30T03:00:10.264Z"
   },
   {
    "duration": 63,
    "start_time": "2023-08-30T03:00:10.272Z"
   },
   {
    "duration": 49,
    "start_time": "2023-08-30T03:00:10.337Z"
   },
   {
    "duration": 42,
    "start_time": "2023-08-30T03:00:10.393Z"
   },
   {
    "duration": 42,
    "start_time": "2023-08-30T03:00:10.437Z"
   },
   {
    "duration": 77,
    "start_time": "2023-08-30T03:00:10.482Z"
   },
   {
    "duration": 101,
    "start_time": "2023-08-30T03:00:10.561Z"
   },
   {
    "duration": 4859,
    "start_time": "2023-08-30T03:00:10.665Z"
   },
   {
    "duration": 10,
    "start_time": "2023-08-30T03:00:15.526Z"
   },
   {
    "duration": 86,
    "start_time": "2023-08-30T03:00:15.539Z"
   },
   {
    "duration": 11,
    "start_time": "2023-08-30T03:00:15.640Z"
   },
   {
    "duration": 29,
    "start_time": "2023-08-30T03:00:15.653Z"
   },
   {
    "duration": 51,
    "start_time": "2023-08-30T03:00:15.684Z"
   },
   {
    "duration": 44,
    "start_time": "2023-08-30T03:00:15.740Z"
   },
   {
    "duration": 39,
    "start_time": "2023-08-30T03:00:15.786Z"
   },
   {
    "duration": 38,
    "start_time": "2023-08-30T03:00:15.832Z"
   },
   {
    "duration": 48,
    "start_time": "2023-08-30T03:00:15.873Z"
   },
   {
    "duration": 23,
    "start_time": "2023-08-30T03:00:15.923Z"
   },
   {
    "duration": 74,
    "start_time": "2023-08-30T03:00:15.947Z"
   },
   {
    "duration": 32977,
    "start_time": "2023-08-30T03:00:16.028Z"
   },
   {
    "duration": 50805,
    "start_time": "2023-08-30T03:00:49.015Z"
   },
   {
    "duration": 39020,
    "start_time": "2023-08-30T03:01:39.836Z"
   },
   {
    "duration": 3,
    "start_time": "2023-08-30T03:02:18.858Z"
   },
   {
    "duration": 70,
    "start_time": "2023-08-30T03:02:18.863Z"
   },
   {
    "duration": 18,
    "start_time": "2023-08-30T03:02:18.935Z"
   },
   {
    "duration": 21,
    "start_time": "2023-08-30T03:02:18.958Z"
   },
   {
    "duration": 39,
    "start_time": "2023-08-30T03:02:18.981Z"
   },
   {
    "duration": 40,
    "start_time": "2023-08-30T03:02:19.023Z"
   },
   {
    "duration": 20,
    "start_time": "2023-08-30T03:02:19.065Z"
   },
   {
    "duration": 41,
    "start_time": "2023-08-30T03:02:19.087Z"
   },
   {
    "duration": 27,
    "start_time": "2023-08-30T03:02:19.131Z"
   },
   {
    "duration": 35,
    "start_time": "2023-08-30T03:02:19.160Z"
   },
   {
    "duration": 32,
    "start_time": "2023-08-30T03:02:19.196Z"
   },
   {
    "duration": 13,
    "start_time": "2023-08-30T03:02:19.229Z"
   },
   {
    "duration": 27,
    "start_time": "2023-08-30T03:02:19.245Z"
   },
   {
    "duration": 525,
    "start_time": "2023-08-30T03:02:19.274Z"
   }
  ],
  "kernelspec": {
   "display_name": "Python 3 (ipykernel)",
   "language": "python",
   "name": "python3"
  },
  "language_info": {
   "codemirror_mode": {
    "name": "ipython",
    "version": 3
   },
   "file_extension": ".py",
   "mimetype": "text/x-python",
   "name": "python",
   "nbconvert_exporter": "python",
   "pygments_lexer": "ipython3",
   "version": "3.9.5"
  },
  "toc": {
   "base_numbering": 1,
   "nav_menu": {},
   "number_sections": true,
   "sideBar": true,
   "skip_h1_title": true,
   "title_cell": "Table of Contents",
   "title_sidebar": "Contents",
   "toc_cell": false,
   "toc_position": {},
   "toc_section_display": true,
   "toc_window_display": false
  }
 },
 "nbformat": 4,
 "nbformat_minor": 2
}
